{
 "cells": [
  {
   "cell_type": "markdown",
   "metadata": {},
   "source": [
    "We will dissect each part of the backtester to see how they work.\n",
    "# 1. The DataHandler"
   ]
  },
  {
   "cell_type": "code",
   "execution_count": 1,
   "metadata": {},
   "outputs": [],
   "source": [
    "from data_handler import HistoricalPolygonDataHandler\n",
    "from polygon.tickers import get_id\n",
    "from datetime import datetime, date\n",
    "from event import MarketEvent\n",
    "import queue\n",
    "import pandas as pd"
   ]
  },
  {
   "cell_type": "code",
   "execution_count": 2,
   "metadata": {},
   "outputs": [],
   "source": [
    "events = queue.Queue()"
   ]
  },
  {
   "cell_type": "code",
   "execution_count": 3,
   "metadata": {},
   "outputs": [],
   "source": [
    "data_handler = HistoricalPolygonDataHandler(events)\n",
    "data_handler.load_data(\"AAPL\", start=date(2023, 8, 1), end=date(2023, 9, 1))\n",
    "data_handler.load_data(\"AA\", start=date(2023, 7, 1), end=date(2023, 9, 1))"
   ]
  },
  {
   "cell_type": "code",
   "execution_count": 4,
   "metadata": {},
   "outputs": [
    {
     "data": {
      "text/plain": [
       "['AAPL', 'AA']"
      ]
     },
     "execution_count": 4,
     "metadata": {},
     "output_type": "execute_result"
    }
   ],
   "source": [
    "data_handler.get_loaded_symbols()"
   ]
  },
  {
   "cell_type": "code",
   "execution_count": 5,
   "metadata": {},
   "outputs": [],
   "source": [
    "for i in range(10):  \n",
    "    data_handler.update_bars(datetime(2023, 8, 1, hour=9, minute=30+i))"
   ]
  },
  {
   "cell_type": "code",
   "execution_count": 6,
   "metadata": {},
   "outputs": [
    {
     "data": {
      "text/plain": [
       "10"
      ]
     },
     "execution_count": 6,
     "metadata": {},
     "output_type": "execute_result"
    }
   ],
   "source": [
    "len(data_handler._latest_bars[\"AAPL\"])"
   ]
  },
  {
   "cell_type": "code",
   "execution_count": 7,
   "metadata": {},
   "outputs": [
    {
     "data": {
      "text/html": [
       "<div>\n",
       "<style scoped>\n",
       "    .dataframe tbody tr th:only-of-type {\n",
       "        vertical-align: middle;\n",
       "    }\n",
       "\n",
       "    .dataframe tbody tr th {\n",
       "        vertical-align: top;\n",
       "    }\n",
       "\n",
       "    .dataframe thead th {\n",
       "        text-align: right;\n",
       "    }\n",
       "</style>\n",
       "<table border=\"1\" class=\"dataframe\">\n",
       "  <thead>\n",
       "    <tr style=\"text-align: right;\">\n",
       "      <th></th>\n",
       "      <th>open</th>\n",
       "      <th>high</th>\n",
       "      <th>low</th>\n",
       "      <th>close</th>\n",
       "      <th>close_original</th>\n",
       "      <th>volume</th>\n",
       "      <th>tradeable</th>\n",
       "      <th>halted</th>\n",
       "    </tr>\n",
       "  </thead>\n",
       "  <tbody>\n",
       "    <tr>\n",
       "      <th>2023-08-01 09:38:00</th>\n",
       "      <td>196.3950</td>\n",
       "      <td>196.49</td>\n",
       "      <td>196.3871</td>\n",
       "      <td>196.43</td>\n",
       "      <td>196.43</td>\n",
       "      <td>128663</td>\n",
       "      <td>True</td>\n",
       "      <td>False</td>\n",
       "    </tr>\n",
       "    <tr>\n",
       "      <th>2023-08-01 09:39:00</th>\n",
       "      <td>196.4205</td>\n",
       "      <td>196.59</td>\n",
       "      <td>196.3700</td>\n",
       "      <td>196.55</td>\n",
       "      <td>196.55</td>\n",
       "      <td>235643</td>\n",
       "      <td>True</td>\n",
       "      <td>False</td>\n",
       "    </tr>\n",
       "  </tbody>\n",
       "</table>\n",
       "</div>"
      ],
      "text/plain": [
       "                         open    high       low   close  close_original  \\\n",
       "2023-08-01 09:38:00  196.3950  196.49  196.3871  196.43          196.43   \n",
       "2023-08-01 09:39:00  196.4205  196.59  196.3700  196.55          196.55   \n",
       "\n",
       "                     volume  tradeable  halted  \n",
       "2023-08-01 09:38:00  128663       True   False  \n",
       "2023-08-01 09:39:00  235643       True   False  "
      ]
     },
     "execution_count": 7,
     "metadata": {},
     "output_type": "execute_result"
    }
   ],
   "source": [
    "data_handler.get_latest_bars(\"AAPL\", N=2)"
   ]
  },
  {
   "cell_type": "markdown",
   "metadata": {},
   "source": [
    "# 2. Broker"
   ]
  },
  {
   "cell_type": "code",
   "execution_count": 8,
   "metadata": {},
   "outputs": [
    {
     "name": "stdout",
     "output_type": "stream",
     "text": [
      "2023-08-01T09:39:00 | ORDER BUY 10 of AAPL\n"
     ]
    }
   ],
   "source": [
    "from broker import SimulatedBroker\n",
    "from event import OrderEvent\n",
    "broker = SimulatedBroker(events, data_handler)\n",
    "order = OrderEvent(datetime(2023, 8, 1, hour=9, minute=39), \"AAPL\", side=\"BUY\", quantity=10)"
   ]
  },
  {
   "cell_type": "code",
   "execution_count": 9,
   "metadata": {},
   "outputs": [],
   "source": [
    "broker.execute_order(order)"
   ]
  },
  {
   "cell_type": "code",
   "execution_count": 10,
   "metadata": {},
   "outputs": [
    {
     "data": {
      "text/plain": [
       "<event.FillEvent at 0x21ba1103a50>"
      ]
     },
     "execution_count": 10,
     "metadata": {},
     "output_type": "execute_result"
    }
   ],
   "source": [
    "for i in range(10):\n",
    "    events.get() # Remove the MarketEvents\n",
    "event = events.get()\n",
    "event"
   ]
  },
  {
   "cell_type": "code",
   "execution_count": 11,
   "metadata": {},
   "outputs": [
    {
     "data": {
      "text/plain": [
       "1965.5"
      ]
     },
     "execution_count": 11,
     "metadata": {},
     "output_type": "execute_result"
    }
   ],
   "source": [
    "event.total_fill"
   ]
  },
  {
   "cell_type": "markdown",
   "metadata": {},
   "source": [
    "# 3. Portfolio"
   ]
  },
  {
   "cell_type": "code",
   "execution_count": 12,
   "metadata": {},
   "outputs": [],
   "source": [
    "from portfolio import StandardPortfolio\n",
    "from event import FillEvent\n",
    "from data_handler import HistoricalPolygonDataHandler\n",
    "from polygon.tickers import get_id\n",
    "from datetime import datetime, date\n",
    "import queue\n",
    "events = queue.Queue()"
   ]
  },
  {
   "cell_type": "code",
   "execution_count": 13,
   "metadata": {},
   "outputs": [],
   "source": [
    "data_handler = HistoricalPolygonDataHandler(events)\n",
    "data_handler.load_data(\"AAPL\", start=date(2023, 8, 1), end=date(2023, 9, 1))\n",
    "data_handler.load_data(\"AA\", start=date(2023, 7, 1), end=date(2023, 9, 1))\n",
    "\n",
    "portfolio = StandardPortfolio(events, data_handler, start_date=datetime(2023, 8, 1, hour=9, minute=30))"
   ]
  },
  {
   "cell_type": "code",
   "execution_count": 14,
   "metadata": {},
   "outputs": [
    {
     "data": {
      "text/plain": [
       "10000.0"
      ]
     },
     "execution_count": 14,
     "metadata": {},
     "output_type": "execute_result"
    }
   ],
   "source": [
    "portfolio.current_equity"
   ]
  },
  {
   "cell_type": "code",
   "execution_count": 15,
   "metadata": {},
   "outputs": [
    {
     "data": {
      "text/plain": [
       "0"
      ]
     },
     "execution_count": 15,
     "metadata": {},
     "output_type": "execute_result"
    }
   ],
   "source": [
    "portfolio.current_positions_value"
   ]
  },
  {
   "cell_type": "code",
   "execution_count": 16,
   "metadata": {},
   "outputs": [
    {
     "data": {
      "text/html": [
       "<div>\n",
       "<style scoped>\n",
       "    .dataframe tbody tr th:only-of-type {\n",
       "        vertical-align: middle;\n",
       "    }\n",
       "\n",
       "    .dataframe tbody tr th {\n",
       "        vertical-align: top;\n",
       "    }\n",
       "\n",
       "    .dataframe thead th {\n",
       "        text-align: right;\n",
       "    }\n",
       "</style>\n",
       "<table border=\"1\" class=\"dataframe\">\n",
       "  <thead>\n",
       "    <tr style=\"text-align: right;\">\n",
       "      <th></th>\n",
       "      <th>open</th>\n",
       "      <th>high</th>\n",
       "      <th>low</th>\n",
       "      <th>close</th>\n",
       "      <th>close_original</th>\n",
       "      <th>volume</th>\n",
       "      <th>tradeable</th>\n",
       "      <th>halted</th>\n",
       "    </tr>\n",
       "  </thead>\n",
       "  <tbody>\n",
       "    <tr>\n",
       "      <th>2023-08-01 09:33:00</th>\n",
       "      <td>196.05</td>\n",
       "      <td>196.1900</td>\n",
       "      <td>195.950</td>\n",
       "      <td>195.9658</td>\n",
       "      <td>195.9658</td>\n",
       "      <td>124321</td>\n",
       "      <td>True</td>\n",
       "      <td>False</td>\n",
       "    </tr>\n",
       "    <tr>\n",
       "      <th>2023-08-01 09:34:00</th>\n",
       "      <td>195.95</td>\n",
       "      <td>196.3961</td>\n",
       "      <td>195.925</td>\n",
       "      <td>196.3900</td>\n",
       "      <td>196.3900</td>\n",
       "      <td>161667</td>\n",
       "      <td>True</td>\n",
       "      <td>False</td>\n",
       "    </tr>\n",
       "  </tbody>\n",
       "</table>\n",
       "</div>"
      ],
      "text/plain": [
       "                       open      high      low     close  close_original  \\\n",
       "2023-08-01 09:33:00  196.05  196.1900  195.950  195.9658        195.9658   \n",
       "2023-08-01 09:34:00  195.95  196.3961  195.925  196.3900        196.3900   \n",
       "\n",
       "                     volume  tradeable  halted  \n",
       "2023-08-01 09:33:00  124321       True   False  \n",
       "2023-08-01 09:34:00  161667       True   False  "
      ]
     },
     "execution_count": 16,
     "metadata": {},
     "output_type": "execute_result"
    }
   ],
   "source": [
    "for i in range(1, 5):  \n",
    "    data_handler.update_bars(datetime(2023, 8, 1, hour=9, minute=30+i))\n",
    "    portfolio.append_portfolio_log(dt=datetime(2023, 8, 1, hour=9, minute=30+i))\n",
    "data_handler.get_latest_bars(\"AAPL\", N=2)"
   ]
  },
  {
   "cell_type": "code",
   "execution_count": 17,
   "metadata": {},
   "outputs": [],
   "source": [
    "fill = FillEvent(dt=datetime(2023, 8, 1, hour=9, minute=34), symbol=\"AAPL\", side='BUY', quantity=25, fill_price=196.39, commission=100)\n",
    "portfolio.update_from_fill(fill)"
   ]
  },
  {
   "cell_type": "code",
   "execution_count": 18,
   "metadata": {},
   "outputs": [],
   "source": [
    "fill = FillEvent(dt=datetime(2023, 8, 1, hour=9, minute=34), symbol=\"AAPL\", side='BUY', quantity=25, fill_price=196.39, commission=100)\n",
    "portfolio.update_from_fill(fill)"
   ]
  },
  {
   "cell_type": "code",
   "execution_count": 19,
   "metadata": {},
   "outputs": [
    {
     "data": {
      "text/plain": [
       "{'AAPL': 50}"
      ]
     },
     "execution_count": 19,
     "metadata": {},
     "output_type": "execute_result"
    }
   ],
   "source": [
    "portfolio.current_positions"
   ]
  },
  {
   "cell_type": "code",
   "execution_count": 20,
   "metadata": {},
   "outputs": [
    {
     "data": {
      "text/plain": [
       "-19.5"
      ]
     },
     "execution_count": 20,
     "metadata": {},
     "output_type": "execute_result"
    }
   ],
   "source": [
    "portfolio.current_cash"
   ]
  },
  {
   "cell_type": "code",
   "execution_count": 21,
   "metadata": {},
   "outputs": [
    {
     "data": {
      "text/plain": [
       "9819.5"
      ]
     },
     "execution_count": 21,
     "metadata": {},
     "output_type": "execute_result"
    }
   ],
   "source": [
    "portfolio.current_positions_value"
   ]
  },
  {
   "cell_type": "code",
   "execution_count": 22,
   "metadata": {},
   "outputs": [
    {
     "data": {
      "text/plain": [
       "9800.0"
      ]
     },
     "execution_count": 22,
     "metadata": {},
     "output_type": "execute_result"
    }
   ],
   "source": [
    "portfolio.current_equity"
   ]
  },
  {
   "cell_type": "code",
   "execution_count": 23,
   "metadata": {},
   "outputs": [
    {
     "data": {
      "text/html": [
       "<div>\n",
       "<style scoped>\n",
       "    .dataframe tbody tr th:only-of-type {\n",
       "        vertical-align: middle;\n",
       "    }\n",
       "\n",
       "    .dataframe tbody tr th {\n",
       "        vertical-align: top;\n",
       "    }\n",
       "\n",
       "    .dataframe thead th {\n",
       "        text-align: right;\n",
       "    }\n",
       "</style>\n",
       "<table border=\"1\" class=\"dataframe\">\n",
       "  <thead>\n",
       "    <tr style=\"text-align: right;\">\n",
       "      <th></th>\n",
       "      <th>open</th>\n",
       "      <th>high</th>\n",
       "      <th>low</th>\n",
       "      <th>close</th>\n",
       "      <th>close_original</th>\n",
       "      <th>volume</th>\n",
       "      <th>tradeable</th>\n",
       "      <th>halted</th>\n",
       "    </tr>\n",
       "  </thead>\n",
       "  <tbody>\n",
       "    <tr>\n",
       "      <th>2023-08-01 09:38:00</th>\n",
       "      <td>196.3950</td>\n",
       "      <td>196.49</td>\n",
       "      <td>196.3871</td>\n",
       "      <td>196.43</td>\n",
       "      <td>196.43</td>\n",
       "      <td>128663</td>\n",
       "      <td>True</td>\n",
       "      <td>False</td>\n",
       "    </tr>\n",
       "    <tr>\n",
       "      <th>2023-08-01 09:39:00</th>\n",
       "      <td>196.4205</td>\n",
       "      <td>196.59</td>\n",
       "      <td>196.3700</td>\n",
       "      <td>196.55</td>\n",
       "      <td>196.55</td>\n",
       "      <td>235643</td>\n",
       "      <td>True</td>\n",
       "      <td>False</td>\n",
       "    </tr>\n",
       "  </tbody>\n",
       "</table>\n",
       "</div>"
      ],
      "text/plain": [
       "                         open    high       low   close  close_original  \\\n",
       "2023-08-01 09:38:00  196.3950  196.49  196.3871  196.43          196.43   \n",
       "2023-08-01 09:39:00  196.4205  196.59  196.3700  196.55          196.55   \n",
       "\n",
       "                     volume  tradeable  halted  \n",
       "2023-08-01 09:38:00  128663       True   False  \n",
       "2023-08-01 09:39:00  235643       True   False  "
      ]
     },
     "execution_count": 23,
     "metadata": {},
     "output_type": "execute_result"
    }
   ],
   "source": [
    "for i in range(5):  \n",
    "    data_handler.update_bars(datetime(2023, 8, 1, hour=9, minute=35+i))\n",
    "    portfolio.append_portfolio_log(dt=datetime(2023, 8, 1, hour=9, minute=35+i))\n",
    "data_handler.get_latest_bars(\"AAPL\", N=2)"
   ]
  },
  {
   "cell_type": "code",
   "execution_count": 24,
   "metadata": {},
   "outputs": [],
   "source": [
    "fill = FillEvent(dt=datetime(2023, 8, 1, hour=9, minute=39), symbol=\"AAPL\", side='SELL', quantity=60, fill_price=196.55, commission=100)\n",
    "portfolio.update_from_fill(fill)"
   ]
  },
  {
   "cell_type": "code",
   "execution_count": 25,
   "metadata": {},
   "outputs": [
    {
     "data": {
      "text/html": [
       "<div>\n",
       "<style scoped>\n",
       "    .dataframe tbody tr th:only-of-type {\n",
       "        vertical-align: middle;\n",
       "    }\n",
       "\n",
       "    .dataframe tbody tr th {\n",
       "        vertical-align: top;\n",
       "    }\n",
       "\n",
       "    .dataframe thead th {\n",
       "        text-align: right;\n",
       "    }\n",
       "</style>\n",
       "<table border=\"1\" class=\"dataframe\">\n",
       "  <thead>\n",
       "    <tr style=\"text-align: right;\">\n",
       "      <th></th>\n",
       "      <th>open</th>\n",
       "      <th>high</th>\n",
       "      <th>low</th>\n",
       "      <th>close</th>\n",
       "      <th>close_original</th>\n",
       "      <th>volume</th>\n",
       "      <th>tradeable</th>\n",
       "      <th>halted</th>\n",
       "    </tr>\n",
       "  </thead>\n",
       "  <tbody>\n",
       "    <tr>\n",
       "      <th>2023-08-01 09:43:00</th>\n",
       "      <td>196.4814</td>\n",
       "      <td>196.62</td>\n",
       "      <td>196.45</td>\n",
       "      <td>196.5350</td>\n",
       "      <td>196.5350</td>\n",
       "      <td>93577</td>\n",
       "      <td>True</td>\n",
       "      <td>False</td>\n",
       "    </tr>\n",
       "    <tr>\n",
       "      <th>2023-08-01 09:44:00</th>\n",
       "      <td>196.5300</td>\n",
       "      <td>196.56</td>\n",
       "      <td>196.42</td>\n",
       "      <td>196.4798</td>\n",
       "      <td>196.4798</td>\n",
       "      <td>83679</td>\n",
       "      <td>True</td>\n",
       "      <td>False</td>\n",
       "    </tr>\n",
       "  </tbody>\n",
       "</table>\n",
       "</div>"
      ],
      "text/plain": [
       "                         open    high     low     close  close_original  \\\n",
       "2023-08-01 09:43:00  196.4814  196.62  196.45  196.5350        196.5350   \n",
       "2023-08-01 09:44:00  196.5300  196.56  196.42  196.4798        196.4798   \n",
       "\n",
       "                     volume  tradeable  halted  \n",
       "2023-08-01 09:43:00   93577       True   False  \n",
       "2023-08-01 09:44:00   83679       True   False  "
      ]
     },
     "execution_count": 25,
     "metadata": {},
     "output_type": "execute_result"
    }
   ],
   "source": [
    "for i in range(5):  \n",
    "    data_handler.update_bars(datetime(2023, 8, 1, hour=9, minute=40+i))\n",
    "    portfolio.append_portfolio_log(dt=datetime(2023, 8, 1, hour=9, minute=40+i))\n",
    "data_handler.get_latest_bars(\"AAPL\", N=2)"
   ]
  },
  {
   "cell_type": "code",
   "execution_count": 26,
   "metadata": {},
   "outputs": [],
   "source": [
    "data_handler.update_bars(datetime(2023, 8, 1, hour=9, minute=45))\n",
    "fill = FillEvent(dt=datetime(2023, 8, 1, hour=9, minute=45), symbol=\"AAPL\", side='BUY', quantity=10, fill_price=196.50, commission=100)\n",
    "portfolio.update_from_fill(fill)\n",
    "portfolio.append_portfolio_log(dt=datetime(2023, 8, 1, hour=9, minute=45))"
   ]
  },
  {
   "cell_type": "markdown",
   "metadata": {},
   "source": [
    "(I prefer only logging the performance each day instead of every bar, else this list gets unnecessarily long)"
   ]
  },
  {
   "cell_type": "code",
   "execution_count": 27,
   "metadata": {},
   "outputs": [
    {
     "data": {
      "text/html": [
       "<div>\n",
       "<style scoped>\n",
       "    .dataframe tbody tr th:only-of-type {\n",
       "        vertical-align: middle;\n",
       "    }\n",
       "\n",
       "    .dataframe tbody tr th {\n",
       "        vertical-align: top;\n",
       "    }\n",
       "\n",
       "    .dataframe thead th {\n",
       "        text-align: right;\n",
       "    }\n",
       "</style>\n",
       "<table border=\"1\" class=\"dataframe\">\n",
       "  <thead>\n",
       "    <tr style=\"text-align: right;\">\n",
       "      <th></th>\n",
       "      <th>equity</th>\n",
       "      <th>cash</th>\n",
       "      <th>positions_value</th>\n",
       "      <th>positions</th>\n",
       "      <th>returns</th>\n",
       "      <th>returns_cum</th>\n",
       "    </tr>\n",
       "    <tr>\n",
       "      <th>datetime</th>\n",
       "      <th></th>\n",
       "      <th></th>\n",
       "      <th></th>\n",
       "      <th></th>\n",
       "      <th></th>\n",
       "      <th></th>\n",
       "    </tr>\n",
       "  </thead>\n",
       "  <tbody>\n",
       "    <tr>\n",
       "      <th>2023-08-01 09:30:00</th>\n",
       "      <td>10000.000</td>\n",
       "      <td>10000.0</td>\n",
       "      <td>0.000</td>\n",
       "      <td>{}</td>\n",
       "      <td>0.000000</td>\n",
       "      <td>0.000000</td>\n",
       "    </tr>\n",
       "    <tr>\n",
       "      <th>2023-08-01 09:31:00</th>\n",
       "      <td>10000.000</td>\n",
       "      <td>10000.0</td>\n",
       "      <td>0.000</td>\n",
       "      <td>{}</td>\n",
       "      <td>0.000000</td>\n",
       "      <td>0.000000</td>\n",
       "    </tr>\n",
       "    <tr>\n",
       "      <th>2023-08-01 09:32:00</th>\n",
       "      <td>10000.000</td>\n",
       "      <td>10000.0</td>\n",
       "      <td>0.000</td>\n",
       "      <td>{}</td>\n",
       "      <td>0.000000</td>\n",
       "      <td>0.000000</td>\n",
       "    </tr>\n",
       "    <tr>\n",
       "      <th>2023-08-01 09:33:00</th>\n",
       "      <td>10000.000</td>\n",
       "      <td>10000.0</td>\n",
       "      <td>0.000</td>\n",
       "      <td>{}</td>\n",
       "      <td>0.000000</td>\n",
       "      <td>0.000000</td>\n",
       "    </tr>\n",
       "    <tr>\n",
       "      <th>2023-08-01 09:34:00</th>\n",
       "      <td>10000.000</td>\n",
       "      <td>10000.0</td>\n",
       "      <td>0.000</td>\n",
       "      <td>{}</td>\n",
       "      <td>0.000000</td>\n",
       "      <td>0.000000</td>\n",
       "    </tr>\n",
       "    <tr>\n",
       "      <th>2023-08-01 09:35:00</th>\n",
       "      <td>9792.500</td>\n",
       "      <td>-19.5</td>\n",
       "      <td>9812.000</td>\n",
       "      <td>{'AAPL': 50}</td>\n",
       "      <td>-0.020750</td>\n",
       "      <td>-0.020750</td>\n",
       "    </tr>\n",
       "    <tr>\n",
       "      <th>2023-08-01 09:36:00</th>\n",
       "      <td>9799.500</td>\n",
       "      <td>-19.5</td>\n",
       "      <td>9819.000</td>\n",
       "      <td>{'AAPL': 50}</td>\n",
       "      <td>0.000715</td>\n",
       "      <td>-0.020050</td>\n",
       "    </tr>\n",
       "    <tr>\n",
       "      <th>2023-08-01 09:37:00</th>\n",
       "      <td>9800.500</td>\n",
       "      <td>-19.5</td>\n",
       "      <td>9820.000</td>\n",
       "      <td>{'AAPL': 50}</td>\n",
       "      <td>0.000102</td>\n",
       "      <td>-0.019950</td>\n",
       "    </tr>\n",
       "    <tr>\n",
       "      <th>2023-08-01 09:38:00</th>\n",
       "      <td>9802.000</td>\n",
       "      <td>-19.5</td>\n",
       "      <td>9821.500</td>\n",
       "      <td>{'AAPL': 50}</td>\n",
       "      <td>0.000153</td>\n",
       "      <td>-0.019800</td>\n",
       "    </tr>\n",
       "    <tr>\n",
       "      <th>2023-08-01 09:39:00</th>\n",
       "      <td>9808.000</td>\n",
       "      <td>-19.5</td>\n",
       "      <td>9827.500</td>\n",
       "      <td>{'AAPL': 50}</td>\n",
       "      <td>0.000612</td>\n",
       "      <td>-0.019200</td>\n",
       "    </tr>\n",
       "    <tr>\n",
       "      <th>2023-08-01 09:40:00</th>\n",
       "      <td>9707.905</td>\n",
       "      <td>11673.5</td>\n",
       "      <td>-1965.595</td>\n",
       "      <td>{'AAPL': -10}</td>\n",
       "      <td>-0.010205</td>\n",
       "      <td>-0.029210</td>\n",
       "    </tr>\n",
       "    <tr>\n",
       "      <th>2023-08-01 09:41:00</th>\n",
       "      <td>9707.600</td>\n",
       "      <td>11673.5</td>\n",
       "      <td>-1965.900</td>\n",
       "      <td>{'AAPL': -10}</td>\n",
       "      <td>-0.000031</td>\n",
       "      <td>-0.029240</td>\n",
       "    </tr>\n",
       "    <tr>\n",
       "      <th>2023-08-01 09:42:00</th>\n",
       "      <td>9708.650</td>\n",
       "      <td>11673.5</td>\n",
       "      <td>-1964.850</td>\n",
       "      <td>{'AAPL': -10}</td>\n",
       "      <td>0.000108</td>\n",
       "      <td>-0.029135</td>\n",
       "    </tr>\n",
       "    <tr>\n",
       "      <th>2023-08-01 09:43:00</th>\n",
       "      <td>9708.150</td>\n",
       "      <td>11673.5</td>\n",
       "      <td>-1965.350</td>\n",
       "      <td>{'AAPL': -10}</td>\n",
       "      <td>-0.000052</td>\n",
       "      <td>-0.029185</td>\n",
       "    </tr>\n",
       "    <tr>\n",
       "      <th>2023-08-01 09:44:00</th>\n",
       "      <td>9708.702</td>\n",
       "      <td>11673.5</td>\n",
       "      <td>-1964.798</td>\n",
       "      <td>{'AAPL': -10}</td>\n",
       "      <td>0.000057</td>\n",
       "      <td>-0.029130</td>\n",
       "    </tr>\n",
       "    <tr>\n",
       "      <th>2023-08-01 09:45:00</th>\n",
       "      <td>9608.500</td>\n",
       "      <td>9608.5</td>\n",
       "      <td>0.000</td>\n",
       "      <td>{'AAPL': 0}</td>\n",
       "      <td>-0.010321</td>\n",
       "      <td>-0.039150</td>\n",
       "    </tr>\n",
       "  </tbody>\n",
       "</table>\n",
       "</div>"
      ],
      "text/plain": [
       "                        equity     cash  positions_value      positions  \\\n",
       "datetime                                                                  \n",
       "2023-08-01 09:30:00  10000.000  10000.0            0.000             {}   \n",
       "2023-08-01 09:31:00  10000.000  10000.0            0.000             {}   \n",
       "2023-08-01 09:32:00  10000.000  10000.0            0.000             {}   \n",
       "2023-08-01 09:33:00  10000.000  10000.0            0.000             {}   \n",
       "2023-08-01 09:34:00  10000.000  10000.0            0.000             {}   \n",
       "2023-08-01 09:35:00   9792.500    -19.5         9812.000   {'AAPL': 50}   \n",
       "2023-08-01 09:36:00   9799.500    -19.5         9819.000   {'AAPL': 50}   \n",
       "2023-08-01 09:37:00   9800.500    -19.5         9820.000   {'AAPL': 50}   \n",
       "2023-08-01 09:38:00   9802.000    -19.5         9821.500   {'AAPL': 50}   \n",
       "2023-08-01 09:39:00   9808.000    -19.5         9827.500   {'AAPL': 50}   \n",
       "2023-08-01 09:40:00   9707.905  11673.5        -1965.595  {'AAPL': -10}   \n",
       "2023-08-01 09:41:00   9707.600  11673.5        -1965.900  {'AAPL': -10}   \n",
       "2023-08-01 09:42:00   9708.650  11673.5        -1964.850  {'AAPL': -10}   \n",
       "2023-08-01 09:43:00   9708.150  11673.5        -1965.350  {'AAPL': -10}   \n",
       "2023-08-01 09:44:00   9708.702  11673.5        -1964.798  {'AAPL': -10}   \n",
       "2023-08-01 09:45:00   9608.500   9608.5            0.000    {'AAPL': 0}   \n",
       "\n",
       "                      returns  returns_cum  \n",
       "datetime                                    \n",
       "2023-08-01 09:30:00  0.000000     0.000000  \n",
       "2023-08-01 09:31:00  0.000000     0.000000  \n",
       "2023-08-01 09:32:00  0.000000     0.000000  \n",
       "2023-08-01 09:33:00  0.000000     0.000000  \n",
       "2023-08-01 09:34:00  0.000000     0.000000  \n",
       "2023-08-01 09:35:00 -0.020750    -0.020750  \n",
       "2023-08-01 09:36:00  0.000715    -0.020050  \n",
       "2023-08-01 09:37:00  0.000102    -0.019950  \n",
       "2023-08-01 09:38:00  0.000153    -0.019800  \n",
       "2023-08-01 09:39:00  0.000612    -0.019200  \n",
       "2023-08-01 09:40:00 -0.010205    -0.029210  \n",
       "2023-08-01 09:41:00 -0.000031    -0.029240  \n",
       "2023-08-01 09:42:00  0.000108    -0.029135  \n",
       "2023-08-01 09:43:00 -0.000052    -0.029185  \n",
       "2023-08-01 09:44:00  0.000057    -0.029130  \n",
       "2023-08-01 09:45:00 -0.010321    -0.039150  "
      ]
     },
     "execution_count": 27,
     "metadata": {},
     "output_type": "execute_result"
    }
   ],
   "source": [
    "portfolio.create_df_from_holdings_log()"
   ]
  },
  {
   "cell_type": "code",
   "execution_count": 33,
   "metadata": {},
   "outputs": [
    {
     "data": {
      "text/html": [
       "<div>\n",
       "<style scoped>\n",
       "    .dataframe tbody tr th:only-of-type {\n",
       "        vertical-align: middle;\n",
       "    }\n",
       "\n",
       "    .dataframe tbody tr th {\n",
       "        vertical-align: top;\n",
       "    }\n",
       "\n",
       "    .dataframe thead th {\n",
       "        text-align: right;\n",
       "    }\n",
       "</style>\n",
       "<table border=\"1\" class=\"dataframe\">\n",
       "  <thead>\n",
       "    <tr style=\"text-align: right;\">\n",
       "      <th></th>\n",
       "      <th>symbol</th>\n",
       "      <th>side</th>\n",
       "      <th>quantity</th>\n",
       "      <th>fill_price</th>\n",
       "      <th>commission</th>\n",
       "    </tr>\n",
       "    <tr>\n",
       "      <th>datetime</th>\n",
       "      <th></th>\n",
       "      <th></th>\n",
       "      <th></th>\n",
       "      <th></th>\n",
       "      <th></th>\n",
       "    </tr>\n",
       "  </thead>\n",
       "  <tbody>\n",
       "    <tr>\n",
       "      <th>2023-08-01 09:34:00</th>\n",
       "      <td>AAPL</td>\n",
       "      <td>BUY</td>\n",
       "      <td>25</td>\n",
       "      <td>196.39</td>\n",
       "      <td>100</td>\n",
       "    </tr>\n",
       "    <tr>\n",
       "      <th>2023-08-01 09:34:00</th>\n",
       "      <td>AAPL</td>\n",
       "      <td>BUY</td>\n",
       "      <td>25</td>\n",
       "      <td>196.39</td>\n",
       "      <td>100</td>\n",
       "    </tr>\n",
       "    <tr>\n",
       "      <th>2023-08-01 09:39:00</th>\n",
       "      <td>AAPL</td>\n",
       "      <td>SELL</td>\n",
       "      <td>60</td>\n",
       "      <td>196.55</td>\n",
       "      <td>100</td>\n",
       "    </tr>\n",
       "    <tr>\n",
       "      <th>2023-08-01 09:45:00</th>\n",
       "      <td>AAPL</td>\n",
       "      <td>BUY</td>\n",
       "      <td>10</td>\n",
       "      <td>196.50</td>\n",
       "      <td>100</td>\n",
       "    </tr>\n",
       "  </tbody>\n",
       "</table>\n",
       "</div>"
      ],
      "text/plain": [
       "                    symbol  side  quantity  fill_price  commission\n",
       "datetime                                                          \n",
       "2023-08-01 09:34:00   AAPL   BUY        25      196.39         100\n",
       "2023-08-01 09:34:00   AAPL   BUY        25      196.39         100\n",
       "2023-08-01 09:39:00   AAPL  SELL        60      196.55         100\n",
       "2023-08-01 09:45:00   AAPL   BUY        10      196.50         100"
      ]
     },
     "execution_count": 33,
     "metadata": {},
     "output_type": "execute_result"
    }
   ],
   "source": [
    "trade_log = pd.DataFrame(portfolio.transaction_log)\n",
    "trade_log.set_index('datetime', inplace=True)\n",
    "trade_log"
   ]
  },
  {
   "cell_type": "markdown",
   "metadata": {},
   "source": [
    "# 4. Trade log\n",
    "The trade log is the list of profit/losses from every trade. All information we need to calculate that are in the transaction log. However this is not straightforward. If you look at the transaction log above, what are the trades? Should the BUY 25 from the first 2 trades be grouped? If the short trade was 40 shares instead, how would be assign them to the first 2 trades? Do we see that as closing the the first and partially closing the second? What about positions that are still open?\n",
    "\n",
    "When constructing the trade log, we use the following rules:\n",
    "1. We never group opening trades. So we see the first 2 trades as seperate trades.\n",
    "2. Trades in the opposing direction are assigned as FIFO. If the opposing direction is larger than the entire posiiton, we see this as a new position. So the SELL -60 means we exit the 1st and 2nd trade, and create a new trade that is short 10 shares. If the trade was SELL -40 instead, we would assign -25 to the first trade and -15 to the second trade. Because we use FIFO.\n",
    "3. For open positions, we can calculate the current P/L."
   ]
  },
  {
   "cell_type": "code",
   "execution_count": 35,
   "metadata": {},
   "outputs": [],
   "source": [
    "def calculate_trade_log(transaction_log):\n",
    "    pass"
   ]
  },
  {
   "cell_type": "markdown",
   "metadata": {},
   "source": []
  }
 ],
 "metadata": {
  "kernelspec": {
   "display_name": "algotrading",
   "language": "python",
   "name": "python3"
  },
  "language_info": {
   "codemirror_mode": {
    "name": "ipython",
    "version": 3
   },
   "file_extension": ".py",
   "mimetype": "text/x-python",
   "name": "python",
   "nbconvert_exporter": "python",
   "pygments_lexer": "ipython3",
   "version": "3.11.4"
  }
 },
 "nbformat": 4,
 "nbformat_minor": 2
}
