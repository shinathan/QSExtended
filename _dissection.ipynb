{
 "cells": [
  {
   "cell_type": "markdown",
   "metadata": {},
   "source": [
    "We will dissect each part of the backtester to see how they work.\n",
    "# 1. The DataHandler"
   ]
  },
  {
   "cell_type": "code",
   "execution_count": 1,
   "metadata": {},
   "outputs": [],
   "source": [
    "from data_handler import HistoricalPolygonDataHandler\n",
    "from polygon.tickers import get_id\n",
    "from datetime import datetime, date\n",
    "from event import MarketEvent\n",
    "import queue\n",
    "import pandas as pd"
   ]
  },
  {
   "cell_type": "code",
   "execution_count": 2,
   "metadata": {},
   "outputs": [],
   "source": [
    "events = queue.Queue()"
   ]
  },
  {
   "cell_type": "code",
   "execution_count": 3,
   "metadata": {},
   "outputs": [],
   "source": [
    "data_handler = HistoricalPolygonDataHandler(events)\n",
    "data_handler.load_data(\"AAPL\", start=date(2023, 8, 1), end=date(2023, 9, 1))\n",
    "data_handler.load_data(\"AA\", start=date(2023, 7, 1), end=date(2023, 9, 1))"
   ]
  },
  {
   "cell_type": "code",
   "execution_count": 4,
   "metadata": {},
   "outputs": [
    {
     "data": {
      "text/plain": [
       "['AAPL', 'AA']"
      ]
     },
     "execution_count": 4,
     "metadata": {},
     "output_type": "execute_result"
    }
   ],
   "source": [
    "data_handler.get_loaded_symbols()"
   ]
  },
  {
   "cell_type": "code",
   "execution_count": 5,
   "metadata": {},
   "outputs": [],
   "source": [
    "for i in range(10):  \n",
    "    data_handler.update_bars(datetime(2023, 8, 1, hour=9, minute=30+i))"
   ]
  },
  {
   "cell_type": "code",
   "execution_count": 6,
   "metadata": {},
   "outputs": [
    {
     "data": {
      "text/plain": [
       "10"
      ]
     },
     "execution_count": 6,
     "metadata": {},
     "output_type": "execute_result"
    }
   ],
   "source": [
    "len(data_handler.latest_bars[\"AAPL\"])"
   ]
  },
  {
   "cell_type": "code",
   "execution_count": 7,
   "metadata": {},
   "outputs": [
    {
     "data": {
      "text/html": [
       "<div>\n",
       "<style scoped>\n",
       "    .dataframe tbody tr th:only-of-type {\n",
       "        vertical-align: middle;\n",
       "    }\n",
       "\n",
       "    .dataframe tbody tr th {\n",
       "        vertical-align: top;\n",
       "    }\n",
       "\n",
       "    .dataframe thead th {\n",
       "        text-align: right;\n",
       "    }\n",
       "</style>\n",
       "<table border=\"1\" class=\"dataframe\">\n",
       "  <thead>\n",
       "    <tr style=\"text-align: right;\">\n",
       "      <th></th>\n",
       "      <th>open</th>\n",
       "      <th>high</th>\n",
       "      <th>low</th>\n",
       "      <th>close</th>\n",
       "      <th>close_original</th>\n",
       "      <th>volume</th>\n",
       "      <th>tradeable</th>\n",
       "      <th>halted</th>\n",
       "    </tr>\n",
       "  </thead>\n",
       "  <tbody>\n",
       "    <tr>\n",
       "      <th>2023-08-01 09:38:00</th>\n",
       "      <td>196.3950</td>\n",
       "      <td>196.49</td>\n",
       "      <td>196.3871</td>\n",
       "      <td>196.43</td>\n",
       "      <td>196.43</td>\n",
       "      <td>128663</td>\n",
       "      <td>True</td>\n",
       "      <td>False</td>\n",
       "    </tr>\n",
       "    <tr>\n",
       "      <th>2023-08-01 09:39:00</th>\n",
       "      <td>196.4205</td>\n",
       "      <td>196.59</td>\n",
       "      <td>196.3700</td>\n",
       "      <td>196.55</td>\n",
       "      <td>196.55</td>\n",
       "      <td>235643</td>\n",
       "      <td>True</td>\n",
       "      <td>False</td>\n",
       "    </tr>\n",
       "  </tbody>\n",
       "</table>\n",
       "</div>"
      ],
      "text/plain": [
       "                         open    high       low   close  close_original  \\\n",
       "2023-08-01 09:38:00  196.3950  196.49  196.3871  196.43          196.43   \n",
       "2023-08-01 09:39:00  196.4205  196.59  196.3700  196.55          196.55   \n",
       "\n",
       "                     volume  tradeable  halted  \n",
       "2023-08-01 09:38:00  128663       True   False  \n",
       "2023-08-01 09:39:00  235643       True   False  "
      ]
     },
     "execution_count": 7,
     "metadata": {},
     "output_type": "execute_result"
    }
   ],
   "source": [
    "data_handler.get_latest_bars(\"AAPL\", N=2)"
   ]
  },
  {
   "cell_type": "markdown",
   "metadata": {},
   "source": [
    "# 2. Broker"
   ]
  },
  {
   "cell_type": "code",
   "execution_count": 8,
   "metadata": {},
   "outputs": [
    {
     "name": "stdout",
     "output_type": "stream",
     "text": [
      "2023-08-01T09:39:00 | ORDER BUY 10 of AAPL\n"
     ]
    }
   ],
   "source": [
    "from broker import SimulatedBroker\n",
    "from event import OrderEvent\n",
    "broker = SimulatedBroker(events, data_handler)\n",
    "order = OrderEvent(datetime(2023, 8, 1, hour=9, minute=39), \"AAPL\", side=\"BUY\", quantity=10)"
   ]
  },
  {
   "cell_type": "code",
   "execution_count": 9,
   "metadata": {},
   "outputs": [],
   "source": [
    "broker.execute_order(order)"
   ]
  },
  {
   "cell_type": "code",
   "execution_count": 10,
   "metadata": {},
   "outputs": [
    {
     "data": {
      "text/plain": [
       "<event.FillEvent at 0x15e4edb1e50>"
      ]
     },
     "execution_count": 10,
     "metadata": {},
     "output_type": "execute_result"
    }
   ],
   "source": [
    "for i in range(10):\n",
    "    events.get() # Remove the MarketEvents\n",
    "event = events.get()\n",
    "event"
   ]
  },
  {
   "cell_type": "code",
   "execution_count": 11,
   "metadata": {},
   "outputs": [
    {
     "data": {
      "text/plain": [
       "1965.5"
      ]
     },
     "execution_count": 11,
     "metadata": {},
     "output_type": "execute_result"
    }
   ],
   "source": [
    "event.total_fill"
   ]
  },
  {
   "cell_type": "markdown",
   "metadata": {},
   "source": [
    "# 3. Portfolio\n",
    "1. Initialize\n",
    "2. Generate 3 MarketEvents\n",
    "3. Buy 100 AAPL\n",
    "4. Generate 3 MarketEvents\n",
    "5. See the holdings\n",
    "6. Sell 200 AAPL\n",
    "7. See the holdings\n",
    "8. Generate 3 MarketEvents\n",
    "9. Buy 100 AAPL and finish\n",
    "\n",
    "TDL: After this, finish portfolio. Then simplify the backtest loop."
   ]
  },
  {
   "cell_type": "markdown",
   "metadata": {},
   "source": []
  }
 ],
 "metadata": {
  "kernelspec": {
   "display_name": "algotrading",
   "language": "python",
   "name": "python3"
  },
  "language_info": {
   "codemirror_mode": {
    "name": "ipython",
    "version": 3
   },
   "file_extension": ".py",
   "mimetype": "text/x-python",
   "name": "python",
   "nbconvert_exporter": "python",
   "pygments_lexer": "ipython3",
   "version": "3.11.4"
  }
 },
 "nbformat": 4,
 "nbformat_minor": 2
}
