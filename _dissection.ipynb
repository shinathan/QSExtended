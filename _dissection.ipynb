{
 "cells": [
  {
   "cell_type": "markdown",
   "metadata": {},
   "source": [
    "We will dissect each part of the backtester to see how they work.\n",
    "# 1. The DataHandler"
   ]
  },
  {
   "cell_type": "code",
   "execution_count": 87,
   "metadata": {},
   "outputs": [],
   "source": [
    "from data_handler import HistoricalPolygonDataHandler\n",
    "from polygon.tickers import get_id\n",
    "from datetime import datetime, date\n",
    "from event import MarketEvent\n",
    "import queue\n",
    "import pandas as pd\n",
    "import numpy as np"
   ]
  },
  {
   "cell_type": "code",
   "execution_count": 88,
   "metadata": {},
   "outputs": [],
   "source": [
    "events = queue.Queue()"
   ]
  },
  {
   "cell_type": "code",
   "execution_count": 89,
   "metadata": {},
   "outputs": [],
   "source": [
    "data_handler = HistoricalPolygonDataHandler(events)\n",
    "data_handler.load_data(\"AAPL\", start=date(2023, 8, 1), end=date(2023, 9, 1))\n",
    "data_handler.load_data(\"AA\", start=date(2023, 7, 1), end=date(2023, 9, 1))"
   ]
  },
  {
   "cell_type": "code",
   "execution_count": 90,
   "metadata": {},
   "outputs": [
    {
     "data": {
      "text/plain": [
       "['AAPL', 'AA']"
      ]
     },
     "execution_count": 90,
     "metadata": {},
     "output_type": "execute_result"
    }
   ],
   "source": [
    "data_handler.get_loaded_symbols()"
   ]
  },
  {
   "cell_type": "code",
   "execution_count": 91,
   "metadata": {},
   "outputs": [],
   "source": [
    "for i in range(10):  \n",
    "    data_handler.update_bars(datetime(2023, 8, 1, hour=9, minute=30+i))"
   ]
  },
  {
   "cell_type": "code",
   "execution_count": 92,
   "metadata": {},
   "outputs": [
    {
     "data": {
      "text/plain": [
       "10"
      ]
     },
     "execution_count": 92,
     "metadata": {},
     "output_type": "execute_result"
    }
   ],
   "source": [
    "len(data_handler._latest_bars[\"AAPL\"])"
   ]
  },
  {
   "cell_type": "code",
   "execution_count": 93,
   "metadata": {},
   "outputs": [
    {
     "data": {
      "text/html": [
       "<div>\n",
       "<style scoped>\n",
       "    .dataframe tbody tr th:only-of-type {\n",
       "        vertical-align: middle;\n",
       "    }\n",
       "\n",
       "    .dataframe tbody tr th {\n",
       "        vertical-align: top;\n",
       "    }\n",
       "\n",
       "    .dataframe thead th {\n",
       "        text-align: right;\n",
       "    }\n",
       "</style>\n",
       "<table border=\"1\" class=\"dataframe\">\n",
       "  <thead>\n",
       "    <tr style=\"text-align: right;\">\n",
       "      <th></th>\n",
       "      <th>open</th>\n",
       "      <th>high</th>\n",
       "      <th>low</th>\n",
       "      <th>close</th>\n",
       "      <th>close_original</th>\n",
       "      <th>volume</th>\n",
       "      <th>tradeable</th>\n",
       "      <th>halted</th>\n",
       "    </tr>\n",
       "  </thead>\n",
       "  <tbody>\n",
       "    <tr>\n",
       "      <th>2023-08-01 09:38:00</th>\n",
       "      <td>196.3950</td>\n",
       "      <td>196.49</td>\n",
       "      <td>196.3871</td>\n",
       "      <td>196.43</td>\n",
       "      <td>196.43</td>\n",
       "      <td>128663</td>\n",
       "      <td>True</td>\n",
       "      <td>False</td>\n",
       "    </tr>\n",
       "    <tr>\n",
       "      <th>2023-08-01 09:39:00</th>\n",
       "      <td>196.4205</td>\n",
       "      <td>196.59</td>\n",
       "      <td>196.3700</td>\n",
       "      <td>196.55</td>\n",
       "      <td>196.55</td>\n",
       "      <td>235643</td>\n",
       "      <td>True</td>\n",
       "      <td>False</td>\n",
       "    </tr>\n",
       "  </tbody>\n",
       "</table>\n",
       "</div>"
      ],
      "text/plain": [
       "                         open    high       low   close  close_original  \\\n",
       "2023-08-01 09:38:00  196.3950  196.49  196.3871  196.43          196.43   \n",
       "2023-08-01 09:39:00  196.4205  196.59  196.3700  196.55          196.55   \n",
       "\n",
       "                     volume  tradeable  halted  \n",
       "2023-08-01 09:38:00  128663       True   False  \n",
       "2023-08-01 09:39:00  235643       True   False  "
      ]
     },
     "execution_count": 93,
     "metadata": {},
     "output_type": "execute_result"
    }
   ],
   "source": [
    "data_handler.get_latest_bars(\"AAPL\", N=2)"
   ]
  },
  {
   "cell_type": "markdown",
   "metadata": {},
   "source": [
    "# 2. Broker"
   ]
  },
  {
   "cell_type": "code",
   "execution_count": 94,
   "metadata": {},
   "outputs": [
    {
     "name": "stdout",
     "output_type": "stream",
     "text": [
      "2023-08-01T09:39:00 | ORDER BUY 10 of AAPL\n"
     ]
    }
   ],
   "source": [
    "from broker import SimulatedBroker\n",
    "from event import OrderEvent\n",
    "broker = SimulatedBroker(events, data_handler)\n",
    "order = OrderEvent(datetime(2023, 8, 1, hour=9, minute=39), \"AAPL\", side=\"BUY\", quantity=10)"
   ]
  },
  {
   "cell_type": "code",
   "execution_count": 95,
   "metadata": {},
   "outputs": [],
   "source": [
    "broker.execute_order(order)"
   ]
  },
  {
   "cell_type": "code",
   "execution_count": 96,
   "metadata": {},
   "outputs": [
    {
     "data": {
      "text/plain": [
       "<event.FillEvent at 0x1eada2d2490>"
      ]
     },
     "execution_count": 96,
     "metadata": {},
     "output_type": "execute_result"
    }
   ],
   "source": [
    "for i in range(10):\n",
    "    events.get() # Remove the MarketEvents\n",
    "event = events.get()\n",
    "event"
   ]
  },
  {
   "cell_type": "code",
   "execution_count": 97,
   "metadata": {},
   "outputs": [
    {
     "data": {
      "text/plain": [
       "1965.5"
      ]
     },
     "execution_count": 97,
     "metadata": {},
     "output_type": "execute_result"
    }
   ],
   "source": [
    "event.total_fill"
   ]
  },
  {
   "cell_type": "markdown",
   "metadata": {},
   "source": [
    "# 3. Portfolio"
   ]
  },
  {
   "cell_type": "code",
   "execution_count": 98,
   "metadata": {},
   "outputs": [],
   "source": [
    "from portfolio import StandardPortfolio\n",
    "from event import FillEvent\n",
    "from data_handler import HistoricalPolygonDataHandler\n",
    "from polygon.tickers import get_id\n",
    "from datetime import datetime, date\n",
    "import queue\n",
    "events = queue.Queue()"
   ]
  },
  {
   "cell_type": "code",
   "execution_count": 99,
   "metadata": {},
   "outputs": [],
   "source": [
    "data_handler = HistoricalPolygonDataHandler(events)\n",
    "data_handler.load_data(\"AAPL\", start=date(2023, 8, 1), end=date(2023, 9, 1))\n",
    "data_handler.load_data(\"AA\", start=date(2023, 7, 1), end=date(2023, 9, 1))\n",
    "\n",
    "portfolio = StandardPortfolio(events, data_handler, start_date=datetime(2023, 8, 1, hour=9, minute=30))"
   ]
  },
  {
   "cell_type": "code",
   "execution_count": 100,
   "metadata": {},
   "outputs": [
    {
     "data": {
      "text/plain": [
       "10000.0"
      ]
     },
     "execution_count": 100,
     "metadata": {},
     "output_type": "execute_result"
    }
   ],
   "source": [
    "portfolio.current_equity"
   ]
  },
  {
   "cell_type": "code",
   "execution_count": 101,
   "metadata": {},
   "outputs": [
    {
     "data": {
      "text/plain": [
       "0"
      ]
     },
     "execution_count": 101,
     "metadata": {},
     "output_type": "execute_result"
    }
   ],
   "source": [
    "portfolio.current_positions_value"
   ]
  },
  {
   "cell_type": "code",
   "execution_count": 102,
   "metadata": {},
   "outputs": [
    {
     "data": {
      "text/html": [
       "<div>\n",
       "<style scoped>\n",
       "    .dataframe tbody tr th:only-of-type {\n",
       "        vertical-align: middle;\n",
       "    }\n",
       "\n",
       "    .dataframe tbody tr th {\n",
       "        vertical-align: top;\n",
       "    }\n",
       "\n",
       "    .dataframe thead th {\n",
       "        text-align: right;\n",
       "    }\n",
       "</style>\n",
       "<table border=\"1\" class=\"dataframe\">\n",
       "  <thead>\n",
       "    <tr style=\"text-align: right;\">\n",
       "      <th></th>\n",
       "      <th>open</th>\n",
       "      <th>high</th>\n",
       "      <th>low</th>\n",
       "      <th>close</th>\n",
       "      <th>close_original</th>\n",
       "      <th>volume</th>\n",
       "      <th>tradeable</th>\n",
       "      <th>halted</th>\n",
       "    </tr>\n",
       "  </thead>\n",
       "  <tbody>\n",
       "    <tr>\n",
       "      <th>2023-08-01 09:33:00</th>\n",
       "      <td>196.05</td>\n",
       "      <td>196.1900</td>\n",
       "      <td>195.950</td>\n",
       "      <td>195.9658</td>\n",
       "      <td>195.9658</td>\n",
       "      <td>124321</td>\n",
       "      <td>True</td>\n",
       "      <td>False</td>\n",
       "    </tr>\n",
       "    <tr>\n",
       "      <th>2023-08-01 09:34:00</th>\n",
       "      <td>195.95</td>\n",
       "      <td>196.3961</td>\n",
       "      <td>195.925</td>\n",
       "      <td>196.3900</td>\n",
       "      <td>196.3900</td>\n",
       "      <td>161667</td>\n",
       "      <td>True</td>\n",
       "      <td>False</td>\n",
       "    </tr>\n",
       "  </tbody>\n",
       "</table>\n",
       "</div>"
      ],
      "text/plain": [
       "                       open      high      low     close  close_original  \\\n",
       "2023-08-01 09:33:00  196.05  196.1900  195.950  195.9658        195.9658   \n",
       "2023-08-01 09:34:00  195.95  196.3961  195.925  196.3900        196.3900   \n",
       "\n",
       "                     volume  tradeable  halted  \n",
       "2023-08-01 09:33:00  124321       True   False  \n",
       "2023-08-01 09:34:00  161667       True   False  "
      ]
     },
     "execution_count": 102,
     "metadata": {},
     "output_type": "execute_result"
    }
   ],
   "source": [
    "for i in range(1, 5):  \n",
    "    data_handler.update_bars(datetime(2023, 8, 1, hour=9, minute=30+i))\n",
    "    portfolio.append_portfolio_log(dt=datetime(2023, 8, 1, hour=9, minute=30+i))\n",
    "data_handler.get_latest_bars(\"AAPL\", N=2)"
   ]
  },
  {
   "cell_type": "code",
   "execution_count": 103,
   "metadata": {},
   "outputs": [],
   "source": [
    "fill = FillEvent(dt=datetime(2023, 8, 1, hour=9, minute=34), symbol=\"AAPL\", side='BUY', quantity=25, fill_price=196.39, fees=100)\n",
    "portfolio.update_from_fill(fill)"
   ]
  },
  {
   "cell_type": "code",
   "execution_count": 104,
   "metadata": {},
   "outputs": [],
   "source": [
    "fill = FillEvent(dt=datetime(2023, 8, 1, hour=9, minute=34), symbol=\"AAPL\", side='BUY', quantity=25, fill_price=196.39, fees=100)\n",
    "portfolio.update_from_fill(fill)"
   ]
  },
  {
   "cell_type": "code",
   "execution_count": 105,
   "metadata": {},
   "outputs": [
    {
     "data": {
      "text/plain": [
       "{'AAPL': 50}"
      ]
     },
     "execution_count": 105,
     "metadata": {},
     "output_type": "execute_result"
    }
   ],
   "source": [
    "portfolio.current_positions"
   ]
  },
  {
   "cell_type": "code",
   "execution_count": 106,
   "metadata": {},
   "outputs": [
    {
     "data": {
      "text/plain": [
       "-19.5"
      ]
     },
     "execution_count": 106,
     "metadata": {},
     "output_type": "execute_result"
    }
   ],
   "source": [
    "portfolio.current_cash"
   ]
  },
  {
   "cell_type": "code",
   "execution_count": 107,
   "metadata": {},
   "outputs": [
    {
     "data": {
      "text/plain": [
       "9819.5"
      ]
     },
     "execution_count": 107,
     "metadata": {},
     "output_type": "execute_result"
    }
   ],
   "source": [
    "portfolio.current_positions_value"
   ]
  },
  {
   "cell_type": "code",
   "execution_count": 108,
   "metadata": {},
   "outputs": [
    {
     "data": {
      "text/plain": [
       "9800.0"
      ]
     },
     "execution_count": 108,
     "metadata": {},
     "output_type": "execute_result"
    }
   ],
   "source": [
    "portfolio.current_equity"
   ]
  },
  {
   "cell_type": "code",
   "execution_count": 109,
   "metadata": {},
   "outputs": [
    {
     "data": {
      "text/html": [
       "<div>\n",
       "<style scoped>\n",
       "    .dataframe tbody tr th:only-of-type {\n",
       "        vertical-align: middle;\n",
       "    }\n",
       "\n",
       "    .dataframe tbody tr th {\n",
       "        vertical-align: top;\n",
       "    }\n",
       "\n",
       "    .dataframe thead th {\n",
       "        text-align: right;\n",
       "    }\n",
       "</style>\n",
       "<table border=\"1\" class=\"dataframe\">\n",
       "  <thead>\n",
       "    <tr style=\"text-align: right;\">\n",
       "      <th></th>\n",
       "      <th>open</th>\n",
       "      <th>high</th>\n",
       "      <th>low</th>\n",
       "      <th>close</th>\n",
       "      <th>close_original</th>\n",
       "      <th>volume</th>\n",
       "      <th>tradeable</th>\n",
       "      <th>halted</th>\n",
       "    </tr>\n",
       "  </thead>\n",
       "  <tbody>\n",
       "    <tr>\n",
       "      <th>2023-08-01 09:38:00</th>\n",
       "      <td>196.3950</td>\n",
       "      <td>196.49</td>\n",
       "      <td>196.3871</td>\n",
       "      <td>196.43</td>\n",
       "      <td>196.43</td>\n",
       "      <td>128663</td>\n",
       "      <td>True</td>\n",
       "      <td>False</td>\n",
       "    </tr>\n",
       "    <tr>\n",
       "      <th>2023-08-01 09:39:00</th>\n",
       "      <td>196.4205</td>\n",
       "      <td>196.59</td>\n",
       "      <td>196.3700</td>\n",
       "      <td>196.55</td>\n",
       "      <td>196.55</td>\n",
       "      <td>235643</td>\n",
       "      <td>True</td>\n",
       "      <td>False</td>\n",
       "    </tr>\n",
       "  </tbody>\n",
       "</table>\n",
       "</div>"
      ],
      "text/plain": [
       "                         open    high       low   close  close_original  \\\n",
       "2023-08-01 09:38:00  196.3950  196.49  196.3871  196.43          196.43   \n",
       "2023-08-01 09:39:00  196.4205  196.59  196.3700  196.55          196.55   \n",
       "\n",
       "                     volume  tradeable  halted  \n",
       "2023-08-01 09:38:00  128663       True   False  \n",
       "2023-08-01 09:39:00  235643       True   False  "
      ]
     },
     "execution_count": 109,
     "metadata": {},
     "output_type": "execute_result"
    }
   ],
   "source": [
    "for i in range(5):  \n",
    "    data_handler.update_bars(datetime(2023, 8, 1, hour=9, minute=35+i))\n",
    "    portfolio.append_portfolio_log(dt=datetime(2023, 8, 1, hour=9, minute=35+i))\n",
    "data_handler.get_latest_bars(\"AAPL\", N=2)"
   ]
  },
  {
   "cell_type": "code",
   "execution_count": 110,
   "metadata": {},
   "outputs": [],
   "source": [
    "fill = FillEvent(dt=datetime(2023, 8, 1, hour=9, minute=39), symbol=\"AAPL\", side='SELL', quantity=60, fill_price=196.55, fees=100)\n",
    "portfolio.update_from_fill(fill)"
   ]
  },
  {
   "cell_type": "code",
   "execution_count": 111,
   "metadata": {},
   "outputs": [
    {
     "data": {
      "text/html": [
       "<div>\n",
       "<style scoped>\n",
       "    .dataframe tbody tr th:only-of-type {\n",
       "        vertical-align: middle;\n",
       "    }\n",
       "\n",
       "    .dataframe tbody tr th {\n",
       "        vertical-align: top;\n",
       "    }\n",
       "\n",
       "    .dataframe thead th {\n",
       "        text-align: right;\n",
       "    }\n",
       "</style>\n",
       "<table border=\"1\" class=\"dataframe\">\n",
       "  <thead>\n",
       "    <tr style=\"text-align: right;\">\n",
       "      <th></th>\n",
       "      <th>open</th>\n",
       "      <th>high</th>\n",
       "      <th>low</th>\n",
       "      <th>close</th>\n",
       "      <th>close_original</th>\n",
       "      <th>volume</th>\n",
       "      <th>tradeable</th>\n",
       "      <th>halted</th>\n",
       "    </tr>\n",
       "  </thead>\n",
       "  <tbody>\n",
       "    <tr>\n",
       "      <th>2023-08-01 09:43:00</th>\n",
       "      <td>196.4814</td>\n",
       "      <td>196.62</td>\n",
       "      <td>196.45</td>\n",
       "      <td>196.5350</td>\n",
       "      <td>196.5350</td>\n",
       "      <td>93577</td>\n",
       "      <td>True</td>\n",
       "      <td>False</td>\n",
       "    </tr>\n",
       "    <tr>\n",
       "      <th>2023-08-01 09:44:00</th>\n",
       "      <td>196.5300</td>\n",
       "      <td>196.56</td>\n",
       "      <td>196.42</td>\n",
       "      <td>196.4798</td>\n",
       "      <td>196.4798</td>\n",
       "      <td>83679</td>\n",
       "      <td>True</td>\n",
       "      <td>False</td>\n",
       "    </tr>\n",
       "  </tbody>\n",
       "</table>\n",
       "</div>"
      ],
      "text/plain": [
       "                         open    high     low     close  close_original  \\\n",
       "2023-08-01 09:43:00  196.4814  196.62  196.45  196.5350        196.5350   \n",
       "2023-08-01 09:44:00  196.5300  196.56  196.42  196.4798        196.4798   \n",
       "\n",
       "                     volume  tradeable  halted  \n",
       "2023-08-01 09:43:00   93577       True   False  \n",
       "2023-08-01 09:44:00   83679       True   False  "
      ]
     },
     "execution_count": 111,
     "metadata": {},
     "output_type": "execute_result"
    }
   ],
   "source": [
    "for i in range(5):  \n",
    "    data_handler.update_bars(datetime(2023, 8, 1, hour=9, minute=40+i))\n",
    "    portfolio.append_portfolio_log(dt=datetime(2023, 8, 1, hour=9, minute=40+i))\n",
    "data_handler.get_latest_bars(\"AAPL\", N=2)"
   ]
  },
  {
   "cell_type": "code",
   "execution_count": 112,
   "metadata": {},
   "outputs": [],
   "source": [
    "data_handler.update_bars(datetime(2023, 8, 1, hour=9, minute=45))\n",
    "fill = FillEvent(dt=datetime(2023, 8, 1, hour=9, minute=45), symbol=\"AAPL\", side='BUY', quantity=10, fill_price=196.50, fees=100)\n",
    "portfolio.update_from_fill(fill)\n",
    "portfolio.append_portfolio_log(dt=datetime(2023, 8, 1, hour=9, minute=45))"
   ]
  },
  {
   "cell_type": "code",
   "execution_count": 113,
   "metadata": {},
   "outputs": [
    {
     "data": {
      "text/html": [
       "<div>\n",
       "<style scoped>\n",
       "    .dataframe tbody tr th:only-of-type {\n",
       "        vertical-align: middle;\n",
       "    }\n",
       "\n",
       "    .dataframe tbody tr th {\n",
       "        vertical-align: top;\n",
       "    }\n",
       "\n",
       "    .dataframe thead th {\n",
       "        text-align: right;\n",
       "    }\n",
       "</style>\n",
       "<table border=\"1\" class=\"dataframe\">\n",
       "  <thead>\n",
       "    <tr style=\"text-align: right;\">\n",
       "      <th></th>\n",
       "      <th>equity</th>\n",
       "      <th>cash</th>\n",
       "      <th>positions_value</th>\n",
       "      <th>positions</th>\n",
       "      <th>returns</th>\n",
       "      <th>returns_cum</th>\n",
       "    </tr>\n",
       "    <tr>\n",
       "      <th>datetime</th>\n",
       "      <th></th>\n",
       "      <th></th>\n",
       "      <th></th>\n",
       "      <th></th>\n",
       "      <th></th>\n",
       "      <th></th>\n",
       "    </tr>\n",
       "  </thead>\n",
       "  <tbody>\n",
       "    <tr>\n",
       "      <th>2023-08-01 09:30:00</th>\n",
       "      <td>10000.000</td>\n",
       "      <td>10000.0</td>\n",
       "      <td>0.000</td>\n",
       "      <td>{}</td>\n",
       "      <td>0.000000</td>\n",
       "      <td>0.000000</td>\n",
       "    </tr>\n",
       "    <tr>\n",
       "      <th>2023-08-01 09:31:00</th>\n",
       "      <td>10000.000</td>\n",
       "      <td>10000.0</td>\n",
       "      <td>0.000</td>\n",
       "      <td>{}</td>\n",
       "      <td>0.000000</td>\n",
       "      <td>0.000000</td>\n",
       "    </tr>\n",
       "    <tr>\n",
       "      <th>2023-08-01 09:32:00</th>\n",
       "      <td>10000.000</td>\n",
       "      <td>10000.0</td>\n",
       "      <td>0.000</td>\n",
       "      <td>{}</td>\n",
       "      <td>0.000000</td>\n",
       "      <td>0.000000</td>\n",
       "    </tr>\n",
       "    <tr>\n",
       "      <th>2023-08-01 09:33:00</th>\n",
       "      <td>10000.000</td>\n",
       "      <td>10000.0</td>\n",
       "      <td>0.000</td>\n",
       "      <td>{}</td>\n",
       "      <td>0.000000</td>\n",
       "      <td>0.000000</td>\n",
       "    </tr>\n",
       "    <tr>\n",
       "      <th>2023-08-01 09:34:00</th>\n",
       "      <td>10000.000</td>\n",
       "      <td>10000.0</td>\n",
       "      <td>0.000</td>\n",
       "      <td>{}</td>\n",
       "      <td>0.000000</td>\n",
       "      <td>0.000000</td>\n",
       "    </tr>\n",
       "    <tr>\n",
       "      <th>2023-08-01 09:35:00</th>\n",
       "      <td>9792.500</td>\n",
       "      <td>-19.5</td>\n",
       "      <td>9812.000</td>\n",
       "      <td>{'AAPL': 50}</td>\n",
       "      <td>-0.020750</td>\n",
       "      <td>-0.020750</td>\n",
       "    </tr>\n",
       "    <tr>\n",
       "      <th>2023-08-01 09:36:00</th>\n",
       "      <td>9799.500</td>\n",
       "      <td>-19.5</td>\n",
       "      <td>9819.000</td>\n",
       "      <td>{'AAPL': 50}</td>\n",
       "      <td>0.000715</td>\n",
       "      <td>-0.020050</td>\n",
       "    </tr>\n",
       "    <tr>\n",
       "      <th>2023-08-01 09:37:00</th>\n",
       "      <td>9800.500</td>\n",
       "      <td>-19.5</td>\n",
       "      <td>9820.000</td>\n",
       "      <td>{'AAPL': 50}</td>\n",
       "      <td>0.000102</td>\n",
       "      <td>-0.019950</td>\n",
       "    </tr>\n",
       "    <tr>\n",
       "      <th>2023-08-01 09:38:00</th>\n",
       "      <td>9802.000</td>\n",
       "      <td>-19.5</td>\n",
       "      <td>9821.500</td>\n",
       "      <td>{'AAPL': 50}</td>\n",
       "      <td>0.000153</td>\n",
       "      <td>-0.019800</td>\n",
       "    </tr>\n",
       "    <tr>\n",
       "      <th>2023-08-01 09:39:00</th>\n",
       "      <td>9808.000</td>\n",
       "      <td>-19.5</td>\n",
       "      <td>9827.500</td>\n",
       "      <td>{'AAPL': 50}</td>\n",
       "      <td>0.000612</td>\n",
       "      <td>-0.019200</td>\n",
       "    </tr>\n",
       "    <tr>\n",
       "      <th>2023-08-01 09:40:00</th>\n",
       "      <td>9707.905</td>\n",
       "      <td>11673.5</td>\n",
       "      <td>-1965.595</td>\n",
       "      <td>{'AAPL': -10}</td>\n",
       "      <td>-0.010205</td>\n",
       "      <td>-0.029210</td>\n",
       "    </tr>\n",
       "    <tr>\n",
       "      <th>2023-08-01 09:41:00</th>\n",
       "      <td>9707.600</td>\n",
       "      <td>11673.5</td>\n",
       "      <td>-1965.900</td>\n",
       "      <td>{'AAPL': -10}</td>\n",
       "      <td>-0.000031</td>\n",
       "      <td>-0.029240</td>\n",
       "    </tr>\n",
       "    <tr>\n",
       "      <th>2023-08-01 09:42:00</th>\n",
       "      <td>9708.650</td>\n",
       "      <td>11673.5</td>\n",
       "      <td>-1964.850</td>\n",
       "      <td>{'AAPL': -10}</td>\n",
       "      <td>0.000108</td>\n",
       "      <td>-0.029135</td>\n",
       "    </tr>\n",
       "    <tr>\n",
       "      <th>2023-08-01 09:43:00</th>\n",
       "      <td>9708.150</td>\n",
       "      <td>11673.5</td>\n",
       "      <td>-1965.350</td>\n",
       "      <td>{'AAPL': -10}</td>\n",
       "      <td>-0.000052</td>\n",
       "      <td>-0.029185</td>\n",
       "    </tr>\n",
       "    <tr>\n",
       "      <th>2023-08-01 09:44:00</th>\n",
       "      <td>9708.702</td>\n",
       "      <td>11673.5</td>\n",
       "      <td>-1964.798</td>\n",
       "      <td>{'AAPL': -10}</td>\n",
       "      <td>0.000057</td>\n",
       "      <td>-0.029130</td>\n",
       "    </tr>\n",
       "    <tr>\n",
       "      <th>2023-08-01 09:45:00</th>\n",
       "      <td>9608.500</td>\n",
       "      <td>9608.5</td>\n",
       "      <td>0.000</td>\n",
       "      <td>{'AAPL': 0}</td>\n",
       "      <td>-0.010321</td>\n",
       "      <td>-0.039150</td>\n",
       "    </tr>\n",
       "  </tbody>\n",
       "</table>\n",
       "</div>"
      ],
      "text/plain": [
       "                        equity     cash  positions_value      positions  \\\n",
       "datetime                                                                  \n",
       "2023-08-01 09:30:00  10000.000  10000.0            0.000             {}   \n",
       "2023-08-01 09:31:00  10000.000  10000.0            0.000             {}   \n",
       "2023-08-01 09:32:00  10000.000  10000.0            0.000             {}   \n",
       "2023-08-01 09:33:00  10000.000  10000.0            0.000             {}   \n",
       "2023-08-01 09:34:00  10000.000  10000.0            0.000             {}   \n",
       "2023-08-01 09:35:00   9792.500    -19.5         9812.000   {'AAPL': 50}   \n",
       "2023-08-01 09:36:00   9799.500    -19.5         9819.000   {'AAPL': 50}   \n",
       "2023-08-01 09:37:00   9800.500    -19.5         9820.000   {'AAPL': 50}   \n",
       "2023-08-01 09:38:00   9802.000    -19.5         9821.500   {'AAPL': 50}   \n",
       "2023-08-01 09:39:00   9808.000    -19.5         9827.500   {'AAPL': 50}   \n",
       "2023-08-01 09:40:00   9707.905  11673.5        -1965.595  {'AAPL': -10}   \n",
       "2023-08-01 09:41:00   9707.600  11673.5        -1965.900  {'AAPL': -10}   \n",
       "2023-08-01 09:42:00   9708.650  11673.5        -1964.850  {'AAPL': -10}   \n",
       "2023-08-01 09:43:00   9708.150  11673.5        -1965.350  {'AAPL': -10}   \n",
       "2023-08-01 09:44:00   9708.702  11673.5        -1964.798  {'AAPL': -10}   \n",
       "2023-08-01 09:45:00   9608.500   9608.5            0.000    {'AAPL': 0}   \n",
       "\n",
       "                      returns  returns_cum  \n",
       "datetime                                    \n",
       "2023-08-01 09:30:00  0.000000     0.000000  \n",
       "2023-08-01 09:31:00  0.000000     0.000000  \n",
       "2023-08-01 09:32:00  0.000000     0.000000  \n",
       "2023-08-01 09:33:00  0.000000     0.000000  \n",
       "2023-08-01 09:34:00  0.000000     0.000000  \n",
       "2023-08-01 09:35:00 -0.020750    -0.020750  \n",
       "2023-08-01 09:36:00  0.000715    -0.020050  \n",
       "2023-08-01 09:37:00  0.000102    -0.019950  \n",
       "2023-08-01 09:38:00  0.000153    -0.019800  \n",
       "2023-08-01 09:39:00  0.000612    -0.019200  \n",
       "2023-08-01 09:40:00 -0.010205    -0.029210  \n",
       "2023-08-01 09:41:00 -0.000031    -0.029240  \n",
       "2023-08-01 09:42:00  0.000108    -0.029135  \n",
       "2023-08-01 09:43:00 -0.000052    -0.029185  \n",
       "2023-08-01 09:44:00  0.000057    -0.029130  \n",
       "2023-08-01 09:45:00 -0.010321    -0.039150  "
      ]
     },
     "execution_count": 113,
     "metadata": {},
     "output_type": "execute_result"
    }
   ],
   "source": [
    "# I prefer only logging the performance each day instead of every bar, else this list gets unnecessarily long\n",
    "portfolio.create_df_from_holdings_log()"
   ]
  },
  {
   "cell_type": "code",
   "execution_count": 114,
   "metadata": {},
   "outputs": [
    {
     "data": {
      "text/html": [
       "<div>\n",
       "<style scoped>\n",
       "    .dataframe tbody tr th:only-of-type {\n",
       "        vertical-align: middle;\n",
       "    }\n",
       "\n",
       "    .dataframe tbody tr th {\n",
       "        vertical-align: top;\n",
       "    }\n",
       "\n",
       "    .dataframe thead th {\n",
       "        text-align: right;\n",
       "    }\n",
       "</style>\n",
       "<table border=\"1\" class=\"dataframe\">\n",
       "  <thead>\n",
       "    <tr style=\"text-align: right;\">\n",
       "      <th></th>\n",
       "      <th>symbol</th>\n",
       "      <th>side</th>\n",
       "      <th>quantity</th>\n",
       "      <th>fill_price</th>\n",
       "      <th>fees</th>\n",
       "    </tr>\n",
       "    <tr>\n",
       "      <th>datetime</th>\n",
       "      <th></th>\n",
       "      <th></th>\n",
       "      <th></th>\n",
       "      <th></th>\n",
       "      <th></th>\n",
       "    </tr>\n",
       "  </thead>\n",
       "  <tbody>\n",
       "    <tr>\n",
       "      <th>2023-08-01 09:34:00</th>\n",
       "      <td>AAPL</td>\n",
       "      <td>BUY</td>\n",
       "      <td>25</td>\n",
       "      <td>196.39</td>\n",
       "      <td>100</td>\n",
       "    </tr>\n",
       "    <tr>\n",
       "      <th>2023-08-01 09:34:00</th>\n",
       "      <td>AAPL</td>\n",
       "      <td>BUY</td>\n",
       "      <td>25</td>\n",
       "      <td>196.39</td>\n",
       "      <td>100</td>\n",
       "    </tr>\n",
       "    <tr>\n",
       "      <th>2023-08-01 09:39:00</th>\n",
       "      <td>AAPL</td>\n",
       "      <td>SELL</td>\n",
       "      <td>60</td>\n",
       "      <td>196.55</td>\n",
       "      <td>100</td>\n",
       "    </tr>\n",
       "    <tr>\n",
       "      <th>2023-08-01 09:45:00</th>\n",
       "      <td>AAPL</td>\n",
       "      <td>BUY</td>\n",
       "      <td>10</td>\n",
       "      <td>196.50</td>\n",
       "      <td>100</td>\n",
       "    </tr>\n",
       "  </tbody>\n",
       "</table>\n",
       "</div>"
      ],
      "text/plain": [
       "                    symbol  side  quantity  fill_price  fees\n",
       "datetime                                                    \n",
       "2023-08-01 09:34:00   AAPL   BUY        25      196.39   100\n",
       "2023-08-01 09:34:00   AAPL   BUY        25      196.39   100\n",
       "2023-08-01 09:39:00   AAPL  SELL        60      196.55   100\n",
       "2023-08-01 09:45:00   AAPL   BUY        10      196.50   100"
      ]
     },
     "execution_count": 114,
     "metadata": {},
     "output_type": "execute_result"
    }
   ],
   "source": [
    "fills_log = pd.DataFrame(portfolio.fills_log)\n",
    "fills_log.set_index('datetime', inplace=True)\n",
    "fills_log"
   ]
  },
  {
   "cell_type": "markdown",
   "metadata": {},
   "source": [
    "# 4. Portfolio - Trade log\n",
    "The trade log is the list of profit/losses from every trade. All information we need to calculate that are in the fills log. However this is not straightforward. If you look at the fills log above, what are the trades? Should the BUY 25 from the first 2 trades be grouped? If the short trade was 40 shares instead, how would be assign them to the first 2 trades? Do we see that as closing the the first and partially closing the second? What about positions that are still open?\n",
    "\n",
    "When constructing the trade log, we use the following rules:\n",
    "1. We never group opening trades. So we see the first 2 trades as seperate trades.\n",
    "2. Trades in the opposing direction are assigned as FIFO. If the opposing direction is larger than the entire posiiton, we see this as a new position. So the SELL -60 means we exit the 1st and 2nd trade, and create a new trade that is short 10 shares. If the trade was SELL -40 instead, we would assign -25 to the first trade and -15 to the second trade. Because we use FIFO.\n",
    "3. For open positions, we can calculate the current P/L.\n",
    "\n",
    "(All P/L are realized. I will not bother with unrealized P/L in the trade log.)"
   ]
  },
  {
   "cell_type": "code",
   "execution_count": 115,
   "metadata": {},
   "outputs": [],
   "source": [
    "def fills_to_trades(fills):\n",
    "    trade_log = pd.DataFrame(columns=['datetime_in', 'symbol', 'side', 'quantity', 'entry', 'exit', 'datetime_out', 'fees', 'net P/L %', 'net P/L $', 'remaining_qty'])\n",
    "    for dt, trade in fills_log.iterrows():\n",
    "        symbol = trade['symbol']\n",
    "        side = trade['side']\n",
    "        opposite_side = 'SELL' if side == 'BUY' else 'BUY'\n",
    "        quantity = trade['quantity']\n",
    "        fill_price = trade['fill_price']\n",
    "        fees = trade['fees']\n",
    "\n",
    "        current_position_in_symbol_opposite = trade_log[(trade_log['symbol'] == symbol) & (trade_log['side'] == opposite_side) & (trade_log['remaining_qty'] > 0)]\n",
    "        if len(current_position_in_symbol_opposite) == 0:\n",
    "            # If no open trades in this symbol in the opposite direction, create new trade\n",
    "            trade_log.loc[len(trade_log)] = [dt, symbol, side, quantity, fill_price, np.nan, np.nan, fees, np.nan, np.nan, quantity]\n",
    "        else:\n",
    "            # Else we (partially) close the trade(s) and create a new trade if a net position remains. Using FIFO.\n",
    "            for index, open_trade in current_position_in_symbol_opposite.iterrows():\n",
    "                remaining_qty_open_trade = open_trade['remaining_qty']\n",
    "                already_filled_qty_open_trade = open_trade['quantity'] - open_trade['remaining_qty']\n",
    "                current_average_fill = open_trade['exit']\n",
    "\n",
    "                # Partial close of open_trade\n",
    "                if quantity < remaining_qty_open_trade:\n",
    "                    if np.isnan(current_average_fill):\n",
    "                        trade_log.loc[index, \"exit\"] = fill_price\n",
    "                    else:\n",
    "                        average_fill_exit = ((current_average_fill * already_filled_qty_open_trade) + (fill_price * quantity))/(already_filled_qty_open_trade + quantity) # Calculate new average fill\n",
    "                        trade_log.loc[index, \"exit\"] = average_fill_exit\n",
    "\n",
    "                    trade_log.loc[index, \"remaining_qty\"] -= quantity\n",
    "                    trade_log.loc[index, \"fees\"] += fees\n",
    "                    break # We don't have to look at the next trade\n",
    "\n",
    "                # Full close of open_trade\n",
    "                elif quantity >= remaining_qty_open_trade:\n",
    "                    if np.isnan(current_average_fill):\n",
    "                        trade_log.loc[index, \"exit\"] = fill_price\n",
    "                    else:\n",
    "                        average_fill_exit = ((current_average_fill * already_filled_qty_open_trade) + (fill_price * quantity))/(already_filled_qty_open_trade + quantity) # Calculate new average fill\n",
    "                        trade_log.loc[index, \"exit\"] = average_fill_exit\n",
    "\n",
    "                    trade_log.loc[index, \"remaining_qty\"] = 0\n",
    "                    trade_log.loc[index, \"fees\"] += fees\n",
    "                    trade_log.loc[index, \"datetime_out\"] = dt\n",
    "\n",
    "                    if quantity == remaining_qty_open_trade:\n",
    "                        break # We don't have to look at the next trade\n",
    "                    else:\n",
    "                        quantity = quantity - remaining_qty_open_trade # Calculate remaining quantity\n",
    "\n",
    "                        # If we are at the end and there is still a remaining quantity, that is a new position\n",
    "                        if index == len(current_position_in_symbol_opposite)-1:\n",
    "                            trade_log.loc[len(trade_log)] = [dt, symbol, side, quantity, fill_price, np.nan, np.nan, fees, np.nan, np.nan, quantity]\n",
    "    return trade_log\n",
    "            "
   ]
  },
  {
   "cell_type": "code",
   "execution_count": null,
   "metadata": {},
   "outputs": [],
   "source": [
    "def calculate_PNL_trade_log(trade_log):\n",
    "    trade_log[\"direction\"] = np.where(trade_log[\"side\"] == \"BUY\", 1, -1)\n",
    "    trade_log[\"filled_qty\"] = trade_log[\"quantity\"] - trade_log[\"remaining_qty\"]\n",
    "\n",
    "    trade_log[\"net P/L %\"] = (\n",
    "        (\n",
    "            trade_log[\"filled_qty\"]\n",
    "            * trade_log[\"direction\"]\n",
    "            * (trade_log[\"exit\"] - trade_log[\"entry\"])\n",
    "        )\n",
    "        - trade_log[\"fees\"]\n",
    "    ) / trade_log[\"entry\"]\n",
    "\n",
    "    trade_log[\"net P/L $\"] = (\n",
    "        trade_log[\"filled_qty\"] * trade_log[\"direction\"]\n",
    "    ) * (trade_log[\"exit\"] - trade_log[\"entry\"]) - trade_log[\"fees\"]\n",
    "    return trade_log.drop(columns=[\"direction\", \"filled_qty\"])"
   ]
  },
  {
   "cell_type": "markdown",
   "metadata": {},
   "source": [
    "Using the above example:"
   ]
  },
  {
   "cell_type": "code",
   "execution_count": 137,
   "metadata": {},
   "outputs": [
    {
     "data": {
      "text/html": [
       "<div>\n",
       "<style scoped>\n",
       "    .dataframe tbody tr th:only-of-type {\n",
       "        vertical-align: middle;\n",
       "    }\n",
       "\n",
       "    .dataframe tbody tr th {\n",
       "        vertical-align: top;\n",
       "    }\n",
       "\n",
       "    .dataframe thead th {\n",
       "        text-align: right;\n",
       "    }\n",
       "</style>\n",
       "<table border=\"1\" class=\"dataframe\">\n",
       "  <thead>\n",
       "    <tr style=\"text-align: right;\">\n",
       "      <th></th>\n",
       "      <th>symbol</th>\n",
       "      <th>side</th>\n",
       "      <th>quantity</th>\n",
       "      <th>fill_price</th>\n",
       "      <th>fees</th>\n",
       "    </tr>\n",
       "    <tr>\n",
       "      <th>datetime</th>\n",
       "      <th></th>\n",
       "      <th></th>\n",
       "      <th></th>\n",
       "      <th></th>\n",
       "      <th></th>\n",
       "    </tr>\n",
       "  </thead>\n",
       "  <tbody>\n",
       "    <tr>\n",
       "      <th>2023-08-01 10:00:00</th>\n",
       "      <td>AAPL</td>\n",
       "      <td>BUY</td>\n",
       "      <td>100</td>\n",
       "      <td>10</td>\n",
       "      <td>1</td>\n",
       "    </tr>\n",
       "    <tr>\n",
       "      <th>2023-08-01 10:01:00</th>\n",
       "      <td>AAPL</td>\n",
       "      <td>SELL</td>\n",
       "      <td>100</td>\n",
       "      <td>15</td>\n",
       "      <td>1</td>\n",
       "    </tr>\n",
       "    <tr>\n",
       "      <th>2023-08-01 10:02:00</th>\n",
       "      <td>AAPL</td>\n",
       "      <td>SELL</td>\n",
       "      <td>100</td>\n",
       "      <td>20</td>\n",
       "      <td>1</td>\n",
       "    </tr>\n",
       "    <tr>\n",
       "      <th>2023-08-01 10:03:00</th>\n",
       "      <td>AAPL</td>\n",
       "      <td>BUY</td>\n",
       "      <td>100</td>\n",
       "      <td>15</td>\n",
       "      <td>1</td>\n",
       "    </tr>\n",
       "  </tbody>\n",
       "</table>\n",
       "</div>"
      ],
      "text/plain": [
       "                    symbol  side  quantity  fill_price  fees\n",
       "datetime                                                    \n",
       "2023-08-01 10:00:00   AAPL   BUY       100          10     1\n",
       "2023-08-01 10:01:00   AAPL  SELL       100          15     1\n",
       "2023-08-01 10:02:00   AAPL  SELL       100          20     1\n",
       "2023-08-01 10:03:00   AAPL   BUY       100          15     1"
      ]
     },
     "execution_count": 137,
     "metadata": {},
     "output_type": "execute_result"
    }
   ],
   "source": [
    "fills_log"
   ]
  },
  {
   "cell_type": "code",
   "execution_count": 138,
   "metadata": {},
   "outputs": [
    {
     "data": {
      "text/html": [
       "<div>\n",
       "<style scoped>\n",
       "    .dataframe tbody tr th:only-of-type {\n",
       "        vertical-align: middle;\n",
       "    }\n",
       "\n",
       "    .dataframe tbody tr th {\n",
       "        vertical-align: top;\n",
       "    }\n",
       "\n",
       "    .dataframe thead th {\n",
       "        text-align: right;\n",
       "    }\n",
       "</style>\n",
       "<table border=\"1\" class=\"dataframe\">\n",
       "  <thead>\n",
       "    <tr style=\"text-align: right;\">\n",
       "      <th></th>\n",
       "      <th>datetime_in</th>\n",
       "      <th>symbol</th>\n",
       "      <th>side</th>\n",
       "      <th>quantity</th>\n",
       "      <th>entry</th>\n",
       "      <th>exit</th>\n",
       "      <th>datetime_out</th>\n",
       "      <th>fees</th>\n",
       "      <th>net P/L %</th>\n",
       "      <th>net P/L $</th>\n",
       "      <th>remaining_qty</th>\n",
       "    </tr>\n",
       "  </thead>\n",
       "  <tbody>\n",
       "    <tr>\n",
       "      <th>0</th>\n",
       "      <td>2023-08-01 10:00:00</td>\n",
       "      <td>AAPL</td>\n",
       "      <td>BUY</td>\n",
       "      <td>100</td>\n",
       "      <td>10</td>\n",
       "      <td>15.0</td>\n",
       "      <td>2023-08-01 10:01:00</td>\n",
       "      <td>2</td>\n",
       "      <td>49.8</td>\n",
       "      <td>498.0</td>\n",
       "      <td>0</td>\n",
       "    </tr>\n",
       "    <tr>\n",
       "      <th>1</th>\n",
       "      <td>2023-08-01 10:02:00</td>\n",
       "      <td>AAPL</td>\n",
       "      <td>SELL</td>\n",
       "      <td>100</td>\n",
       "      <td>20</td>\n",
       "      <td>15.0</td>\n",
       "      <td>2023-08-01 10:03:00</td>\n",
       "      <td>2</td>\n",
       "      <td>24.9</td>\n",
       "      <td>498.0</td>\n",
       "      <td>0</td>\n",
       "    </tr>\n",
       "  </tbody>\n",
       "</table>\n",
       "</div>"
      ],
      "text/plain": [
       "          datetime_in symbol  side  quantity  entry  exit  \\\n",
       "0 2023-08-01 10:00:00   AAPL   BUY       100     10  15.0   \n",
       "1 2023-08-01 10:02:00   AAPL  SELL       100     20  15.0   \n",
       "\n",
       "          datetime_out  fees  net P/L %  net P/L $  remaining_qty  \n",
       "0  2023-08-01 10:01:00     2       49.8      498.0              0  \n",
       "1  2023-08-01 10:03:00     2       24.9      498.0              0  "
      ]
     },
     "execution_count": 138,
     "metadata": {},
     "output_type": "execute_result"
    }
   ],
   "source": [
    "calculate_PNL_trade_log(fills_to_trades(fills_log))"
   ]
  },
  {
   "cell_type": "markdown",
   "metadata": {},
   "source": [
    "Closing order bigger than opening order:"
   ]
  },
  {
   "cell_type": "code",
   "execution_count": 139,
   "metadata": {},
   "outputs": [
    {
     "data": {
      "text/html": [
       "<div>\n",
       "<style scoped>\n",
       "    .dataframe tbody tr th:only-of-type {\n",
       "        vertical-align: middle;\n",
       "    }\n",
       "\n",
       "    .dataframe tbody tr th {\n",
       "        vertical-align: top;\n",
       "    }\n",
       "\n",
       "    .dataframe thead th {\n",
       "        text-align: right;\n",
       "    }\n",
       "</style>\n",
       "<table border=\"1\" class=\"dataframe\">\n",
       "  <thead>\n",
       "    <tr style=\"text-align: right;\">\n",
       "      <th></th>\n",
       "      <th>symbol</th>\n",
       "      <th>side</th>\n",
       "      <th>quantity</th>\n",
       "      <th>fill_price</th>\n",
       "      <th>fees</th>\n",
       "    </tr>\n",
       "    <tr>\n",
       "      <th>datetime</th>\n",
       "      <th></th>\n",
       "      <th></th>\n",
       "      <th></th>\n",
       "      <th></th>\n",
       "      <th></th>\n",
       "    </tr>\n",
       "  </thead>\n",
       "  <tbody>\n",
       "    <tr>\n",
       "      <th>2023-08-01 10:00:00</th>\n",
       "      <td>AAPL</td>\n",
       "      <td>BUY</td>\n",
       "      <td>100</td>\n",
       "      <td>10</td>\n",
       "      <td>1</td>\n",
       "    </tr>\n",
       "    <tr>\n",
       "      <th>2023-08-01 10:01:00</th>\n",
       "      <td>AAPL</td>\n",
       "      <td>SELL</td>\n",
       "      <td>200</td>\n",
       "      <td>15</td>\n",
       "      <td>1</td>\n",
       "    </tr>\n",
       "  </tbody>\n",
       "</table>\n",
       "</div>"
      ],
      "text/plain": [
       "                    symbol  side  quantity  fill_price  fees\n",
       "datetime                                                    \n",
       "2023-08-01 10:00:00   AAPL   BUY       100          10     1\n",
       "2023-08-01 10:01:00   AAPL  SELL       200          15     1"
      ]
     },
     "execution_count": 139,
     "metadata": {},
     "output_type": "execute_result"
    }
   ],
   "source": [
    "fills_log = pd.DataFrame([[datetime(2023, 8, 1, hour=10, minute=0), \"AAPL\", \"BUY\", 100, 10, 1], \n",
    "                          [datetime(2023, 8, 1, hour=10, minute=1), \"AAPL\", \"SELL\", 200, 15, 1],\n",
    "                          ], columns=['datetime', 'symbol', 'side', 'quantity', 'fill_price', 'fees'])\n",
    "fills_log.set_index('datetime', inplace=True)\n",
    "fills_log"
   ]
  },
  {
   "cell_type": "code",
   "execution_count": 140,
   "metadata": {},
   "outputs": [
    {
     "data": {
      "text/html": [
       "<div>\n",
       "<style scoped>\n",
       "    .dataframe tbody tr th:only-of-type {\n",
       "        vertical-align: middle;\n",
       "    }\n",
       "\n",
       "    .dataframe tbody tr th {\n",
       "        vertical-align: top;\n",
       "    }\n",
       "\n",
       "    .dataframe thead th {\n",
       "        text-align: right;\n",
       "    }\n",
       "</style>\n",
       "<table border=\"1\" class=\"dataframe\">\n",
       "  <thead>\n",
       "    <tr style=\"text-align: right;\">\n",
       "      <th></th>\n",
       "      <th>datetime_in</th>\n",
       "      <th>symbol</th>\n",
       "      <th>side</th>\n",
       "      <th>quantity</th>\n",
       "      <th>entry</th>\n",
       "      <th>exit</th>\n",
       "      <th>datetime_out</th>\n",
       "      <th>fees</th>\n",
       "      <th>net P/L %</th>\n",
       "      <th>net P/L $</th>\n",
       "      <th>remaining_qty</th>\n",
       "    </tr>\n",
       "  </thead>\n",
       "  <tbody>\n",
       "    <tr>\n",
       "      <th>0</th>\n",
       "      <td>2023-08-01 10:00:00</td>\n",
       "      <td>AAPL</td>\n",
       "      <td>BUY</td>\n",
       "      <td>100</td>\n",
       "      <td>10</td>\n",
       "      <td>15.0</td>\n",
       "      <td>2023-08-01 10:01:00</td>\n",
       "      <td>2</td>\n",
       "      <td>49.8</td>\n",
       "      <td>498.0</td>\n",
       "      <td>0</td>\n",
       "    </tr>\n",
       "    <tr>\n",
       "      <th>1</th>\n",
       "      <td>2023-08-01 10:01:00</td>\n",
       "      <td>AAPL</td>\n",
       "      <td>SELL</td>\n",
       "      <td>100</td>\n",
       "      <td>15</td>\n",
       "      <td>NaN</td>\n",
       "      <td>NaN</td>\n",
       "      <td>1</td>\n",
       "      <td>NaN</td>\n",
       "      <td>NaN</td>\n",
       "      <td>100</td>\n",
       "    </tr>\n",
       "  </tbody>\n",
       "</table>\n",
       "</div>"
      ],
      "text/plain": [
       "          datetime_in symbol  side  quantity  entry  exit  \\\n",
       "0 2023-08-01 10:00:00   AAPL   BUY       100     10  15.0   \n",
       "1 2023-08-01 10:01:00   AAPL  SELL       100     15   NaN   \n",
       "\n",
       "          datetime_out  fees  net P/L %  net P/L $  remaining_qty  \n",
       "0  2023-08-01 10:01:00     2       49.8      498.0              0  \n",
       "1                  NaN     1        NaN        NaN            100  "
      ]
     },
     "execution_count": 140,
     "metadata": {},
     "output_type": "execute_result"
    }
   ],
   "source": [
    "calculate_PNL_trade_log(fills_to_trades(fills_log))"
   ]
  },
  {
   "cell_type": "markdown",
   "metadata": {},
   "source": [
    "Closing order smaller than opening order:"
   ]
  },
  {
   "cell_type": "code",
   "execution_count": 141,
   "metadata": {},
   "outputs": [
    {
     "data": {
      "text/html": [
       "<div>\n",
       "<style scoped>\n",
       "    .dataframe tbody tr th:only-of-type {\n",
       "        vertical-align: middle;\n",
       "    }\n",
       "\n",
       "    .dataframe tbody tr th {\n",
       "        vertical-align: top;\n",
       "    }\n",
       "\n",
       "    .dataframe thead th {\n",
       "        text-align: right;\n",
       "    }\n",
       "</style>\n",
       "<table border=\"1\" class=\"dataframe\">\n",
       "  <thead>\n",
       "    <tr style=\"text-align: right;\">\n",
       "      <th></th>\n",
       "      <th>symbol</th>\n",
       "      <th>side</th>\n",
       "      <th>quantity</th>\n",
       "      <th>fill_price</th>\n",
       "      <th>fees</th>\n",
       "    </tr>\n",
       "    <tr>\n",
       "      <th>datetime</th>\n",
       "      <th></th>\n",
       "      <th></th>\n",
       "      <th></th>\n",
       "      <th></th>\n",
       "      <th></th>\n",
       "    </tr>\n",
       "  </thead>\n",
       "  <tbody>\n",
       "    <tr>\n",
       "      <th>2023-08-01 10:00:00</th>\n",
       "      <td>AAPL</td>\n",
       "      <td>BUY</td>\n",
       "      <td>100</td>\n",
       "      <td>10</td>\n",
       "      <td>1</td>\n",
       "    </tr>\n",
       "    <tr>\n",
       "      <th>2023-08-01 10:01:00</th>\n",
       "      <td>AAPL</td>\n",
       "      <td>SELL</td>\n",
       "      <td>50</td>\n",
       "      <td>15</td>\n",
       "      <td>1</td>\n",
       "    </tr>\n",
       "  </tbody>\n",
       "</table>\n",
       "</div>"
      ],
      "text/plain": [
       "                    symbol  side  quantity  fill_price  fees\n",
       "datetime                                                    \n",
       "2023-08-01 10:00:00   AAPL   BUY       100          10     1\n",
       "2023-08-01 10:01:00   AAPL  SELL        50          15     1"
      ]
     },
     "execution_count": 141,
     "metadata": {},
     "output_type": "execute_result"
    }
   ],
   "source": [
    "fills_log = pd.DataFrame([[datetime(2023, 8, 1, hour=10, minute=0), \"AAPL\", \"BUY\", 100, 10, 1], \n",
    "                          [datetime(2023, 8, 1, hour=10, minute=1), \"AAPL\", \"SELL\", 50, 15, 1],\n",
    "                          ], columns=['datetime', 'symbol', 'side', 'quantity', 'fill_price', 'fees'])\n",
    "fills_log.set_index('datetime', inplace=True)\n",
    "fills_log"
   ]
  },
  {
   "cell_type": "markdown",
   "metadata": {},
   "source": [
    "Two fully closed orders:"
   ]
  },
  {
   "cell_type": "code",
   "execution_count": 142,
   "metadata": {},
   "outputs": [
    {
     "data": {
      "text/html": [
       "<div>\n",
       "<style scoped>\n",
       "    .dataframe tbody tr th:only-of-type {\n",
       "        vertical-align: middle;\n",
       "    }\n",
       "\n",
       "    .dataframe tbody tr th {\n",
       "        vertical-align: top;\n",
       "    }\n",
       "\n",
       "    .dataframe thead th {\n",
       "        text-align: right;\n",
       "    }\n",
       "</style>\n",
       "<table border=\"1\" class=\"dataframe\">\n",
       "  <thead>\n",
       "    <tr style=\"text-align: right;\">\n",
       "      <th></th>\n",
       "      <th>datetime_in</th>\n",
       "      <th>symbol</th>\n",
       "      <th>side</th>\n",
       "      <th>quantity</th>\n",
       "      <th>entry</th>\n",
       "      <th>exit</th>\n",
       "      <th>datetime_out</th>\n",
       "      <th>fees</th>\n",
       "      <th>net P/L %</th>\n",
       "      <th>net P/L $</th>\n",
       "      <th>remaining_qty</th>\n",
       "    </tr>\n",
       "  </thead>\n",
       "  <tbody>\n",
       "    <tr>\n",
       "      <th>0</th>\n",
       "      <td>2023-08-01 10:00:00</td>\n",
       "      <td>AAPL</td>\n",
       "      <td>BUY</td>\n",
       "      <td>100</td>\n",
       "      <td>10</td>\n",
       "      <td>15.0</td>\n",
       "      <td>NaN</td>\n",
       "      <td>2</td>\n",
       "      <td>24.8</td>\n",
       "      <td>248.0</td>\n",
       "      <td>50</td>\n",
       "    </tr>\n",
       "  </tbody>\n",
       "</table>\n",
       "</div>"
      ],
      "text/plain": [
       "          datetime_in symbol side  quantity  entry  exit  datetime_out  fees  \\\n",
       "0 2023-08-01 10:00:00   AAPL  BUY       100     10  15.0           NaN     2   \n",
       "\n",
       "   net P/L %  net P/L $  remaining_qty  \n",
       "0       24.8      248.0             50  "
      ]
     },
     "execution_count": 142,
     "metadata": {},
     "output_type": "execute_result"
    }
   ],
   "source": [
    "calculate_PNL_trade_log(fills_to_trades(fills_log))"
   ]
  },
  {
   "cell_type": "code",
   "execution_count": 143,
   "metadata": {},
   "outputs": [
    {
     "data": {
      "text/html": [
       "<div>\n",
       "<style scoped>\n",
       "    .dataframe tbody tr th:only-of-type {\n",
       "        vertical-align: middle;\n",
       "    }\n",
       "\n",
       "    .dataframe tbody tr th {\n",
       "        vertical-align: top;\n",
       "    }\n",
       "\n",
       "    .dataframe thead th {\n",
       "        text-align: right;\n",
       "    }\n",
       "</style>\n",
       "<table border=\"1\" class=\"dataframe\">\n",
       "  <thead>\n",
       "    <tr style=\"text-align: right;\">\n",
       "      <th></th>\n",
       "      <th>symbol</th>\n",
       "      <th>side</th>\n",
       "      <th>quantity</th>\n",
       "      <th>fill_price</th>\n",
       "      <th>fees</th>\n",
       "    </tr>\n",
       "    <tr>\n",
       "      <th>datetime</th>\n",
       "      <th></th>\n",
       "      <th></th>\n",
       "      <th></th>\n",
       "      <th></th>\n",
       "      <th></th>\n",
       "    </tr>\n",
       "  </thead>\n",
       "  <tbody>\n",
       "    <tr>\n",
       "      <th>2023-08-01 10:00:00</th>\n",
       "      <td>AAPL</td>\n",
       "      <td>BUY</td>\n",
       "      <td>100</td>\n",
       "      <td>10</td>\n",
       "      <td>1</td>\n",
       "    </tr>\n",
       "    <tr>\n",
       "      <th>2023-08-01 10:01:00</th>\n",
       "      <td>AAPL</td>\n",
       "      <td>SELL</td>\n",
       "      <td>100</td>\n",
       "      <td>15</td>\n",
       "      <td>1</td>\n",
       "    </tr>\n",
       "    <tr>\n",
       "      <th>2023-08-01 10:02:00</th>\n",
       "      <td>AAPL</td>\n",
       "      <td>SELL</td>\n",
       "      <td>100</td>\n",
       "      <td>20</td>\n",
       "      <td>1</td>\n",
       "    </tr>\n",
       "    <tr>\n",
       "      <th>2023-08-01 10:03:00</th>\n",
       "      <td>AAPL</td>\n",
       "      <td>BUY</td>\n",
       "      <td>100</td>\n",
       "      <td>15</td>\n",
       "      <td>1</td>\n",
       "    </tr>\n",
       "  </tbody>\n",
       "</table>\n",
       "</div>"
      ],
      "text/plain": [
       "                    symbol  side  quantity  fill_price  fees\n",
       "datetime                                                    \n",
       "2023-08-01 10:00:00   AAPL   BUY       100          10     1\n",
       "2023-08-01 10:01:00   AAPL  SELL       100          15     1\n",
       "2023-08-01 10:02:00   AAPL  SELL       100          20     1\n",
       "2023-08-01 10:03:00   AAPL   BUY       100          15     1"
      ]
     },
     "execution_count": 143,
     "metadata": {},
     "output_type": "execute_result"
    }
   ],
   "source": [
    "fills_log = pd.DataFrame([[datetime(2023, 8, 1, hour=10, minute=0), \"AAPL\", \"BUY\", 100, 10, 1], \n",
    "                          [datetime(2023, 8, 1, hour=10, minute=1), \"AAPL\", \"SELL\", 100, 15, 1],\n",
    "                          [datetime(2023, 8, 1, hour=10, minute=2), \"AAPL\", \"SELL\", 100, 20, 1],\n",
    "                          [datetime(2023, 8, 1, hour=10, minute=3), \"AAPL\", \"BUY\", 100, 15, 1],\n",
    "                          ], columns=['datetime', 'symbol', 'side', 'quantity', 'fill_price', 'fees'])\n",
    "fills_log.set_index('datetime', inplace=True)\n",
    "fills_log"
   ]
  },
  {
   "cell_type": "code",
   "execution_count": 144,
   "metadata": {},
   "outputs": [
    {
     "data": {
      "text/html": [
       "<div>\n",
       "<style scoped>\n",
       "    .dataframe tbody tr th:only-of-type {\n",
       "        vertical-align: middle;\n",
       "    }\n",
       "\n",
       "    .dataframe tbody tr th {\n",
       "        vertical-align: top;\n",
       "    }\n",
       "\n",
       "    .dataframe thead th {\n",
       "        text-align: right;\n",
       "    }\n",
       "</style>\n",
       "<table border=\"1\" class=\"dataframe\">\n",
       "  <thead>\n",
       "    <tr style=\"text-align: right;\">\n",
       "      <th></th>\n",
       "      <th>datetime_in</th>\n",
       "      <th>symbol</th>\n",
       "      <th>side</th>\n",
       "      <th>quantity</th>\n",
       "      <th>entry</th>\n",
       "      <th>exit</th>\n",
       "      <th>datetime_out</th>\n",
       "      <th>fees</th>\n",
       "      <th>net P/L %</th>\n",
       "      <th>net P/L $</th>\n",
       "      <th>remaining_qty</th>\n",
       "    </tr>\n",
       "  </thead>\n",
       "  <tbody>\n",
       "    <tr>\n",
       "      <th>0</th>\n",
       "      <td>2023-08-01 10:00:00</td>\n",
       "      <td>AAPL</td>\n",
       "      <td>BUY</td>\n",
       "      <td>100</td>\n",
       "      <td>10</td>\n",
       "      <td>15.0</td>\n",
       "      <td>2023-08-01 10:01:00</td>\n",
       "      <td>2</td>\n",
       "      <td>49.8</td>\n",
       "      <td>498.0</td>\n",
       "      <td>0</td>\n",
       "    </tr>\n",
       "    <tr>\n",
       "      <th>1</th>\n",
       "      <td>2023-08-01 10:02:00</td>\n",
       "      <td>AAPL</td>\n",
       "      <td>SELL</td>\n",
       "      <td>100</td>\n",
       "      <td>20</td>\n",
       "      <td>15.0</td>\n",
       "      <td>2023-08-01 10:03:00</td>\n",
       "      <td>2</td>\n",
       "      <td>24.9</td>\n",
       "      <td>498.0</td>\n",
       "      <td>0</td>\n",
       "    </tr>\n",
       "  </tbody>\n",
       "</table>\n",
       "</div>"
      ],
      "text/plain": [
       "          datetime_in symbol  side  quantity  entry  exit  \\\n",
       "0 2023-08-01 10:00:00   AAPL   BUY       100     10  15.0   \n",
       "1 2023-08-01 10:02:00   AAPL  SELL       100     20  15.0   \n",
       "\n",
       "          datetime_out  fees  net P/L %  net P/L $  remaining_qty  \n",
       "0  2023-08-01 10:01:00     2       49.8      498.0              0  \n",
       "1  2023-08-01 10:03:00     2       24.9      498.0              0  "
      ]
     },
     "execution_count": 144,
     "metadata": {},
     "output_type": "execute_result"
    }
   ],
   "source": [
    "calculate_PNL_trade_log(fills_to_trades(fills_log))"
   ]
  }
 ],
 "metadata": {
  "kernelspec": {
   "display_name": "algotrading",
   "language": "python",
   "name": "python3"
  },
  "language_info": {
   "codemirror_mode": {
    "name": "ipython",
    "version": 3
   },
   "file_extension": ".py",
   "mimetype": "text/x-python",
   "name": "python",
   "nbconvert_exporter": "python",
   "pygments_lexer": "ipython3",
   "version": "3.11.4"
  }
 },
 "nbformat": 4,
 "nbformat_minor": 2
}
