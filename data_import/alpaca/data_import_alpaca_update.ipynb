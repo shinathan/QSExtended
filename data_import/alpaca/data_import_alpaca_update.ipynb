{
 "cells": [
  {
   "cell_type": "markdown",
   "metadata": {},
   "source": [
    "# Data readjustment\n",
    "\n",
    "All historical processed data should be adjusted for splits/dividends. However if new data comes in, we should be able to just append it to the historical data instead of downloading the entire history again. If in the time from last saved historical data and now there were splits/dividends, we need to readjust the entire historical data. From Alpaca and most other vendors we can download adjusted and unadjusted daily data. So using that we calculate the adjustment factor.\n",
    "\n",
    "For example lets assume that we have (already adjusted) data from day 1 to day 10. At day 15 we want to update the historical data. Lets assume that between and including day 11 to day 15 there was a 1 to 2 stock split. Then the day 10 adjustment factor will be 0.5x. Then all data from day 1 to day 10 should be multiplied by 0.5x. The data from day 11 to 15 is simply appended given that it is adjusted. If it isn't the minute data between day 11 and 15 should be adjusted using the corresponding adjustment factor for the day.\n",
    "\n",
    "Yes, this is annoying.\n",
    "\n"
   ]
  },
  {
   "cell_type": "code",
   "execution_count": null,
   "metadata": {},
   "outputs": [],
   "source": []
  }
 ],
 "metadata": {
  "language_info": {
   "name": "python"
  },
  "orig_nbformat": 4
 },
 "nbformat": 4,
 "nbformat_minor": 2
}
