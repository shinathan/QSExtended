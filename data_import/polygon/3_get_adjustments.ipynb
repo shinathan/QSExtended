{
 "cells": [
  {
   "cell_type": "markdown",
   "metadata": {},
   "source": [
    "## Adjustment factors\n",
    "Adjustment factors are stored in the Polygon folder under <code>raw/adjustments/AAPL.csv</code>. If a ticker is recycled, then this file has the adjustment factors for all the companies associated with the ticker. There is no need to use the ID here. To get the adjustments, we simply use the <code>Stock Splits</code> and <code>Dividends</code> endpoint through the SDK. These are <code>list_splits</code> and <code>list_dividends</code>. "
   ]
  },
  {
   "cell_type": "code",
   "execution_count": 2,
   "metadata": {},
   "outputs": [],
   "source": [
    "from polygon.rest import RESTClient\n",
    "from datetime import datetime, date, time, timedelta\n",
    "from pytz import timezone\n",
    "from utils import first_trading_day_after, last_trading_day_before, get_tickers_v3\n",
    "import os\n",
    "import pytz\n",
    "import pandas as pd\n",
    "import numpy as np"
   ]
  },
  {
   "cell_type": "code",
   "execution_count": 3,
   "metadata": {},
   "outputs": [
    {
     "name": "stdout",
     "output_type": "stream",
     "text": [
      "2021-01-04\n",
      "2023-08-18\n"
     ]
    }
   ],
   "source": [
    "DATA_PATH = \"../../../data/polygon/\"\n",
    "\n",
    "START_DATE = first_trading_day_after(datetime(2021, 1, 1).date())\n",
    "END_DATE = last_trading_day_before(datetime(2023, 8, 18).date())\n",
    "print(START_DATE)\n",
    "print(END_DATE)\n",
    "\n",
    "CLEAN_DOWNLOAD = True # If False, only update existing data. If True, all files are overwritten.\n",
    "\n",
    "with open(DATA_PATH + \"secret.txt\") as f:\n",
    "    KEY = next(f).strip()\n",
    "\n",
    "client = RESTClient(api_key=KEY)"
   ]
  },
  {
   "cell_type": "code",
   "execution_count": null,
   "metadata": {},
   "outputs": [],
   "source": [
    "# Loop through all tickers\n",
    "\n",
    "# Check if data already available\n",
    "\n",
    "# Append data\n",
    "\n",
    "# Create start_and_end_date.txt file that has the start/end dates."
   ]
  }
 ],
 "metadata": {
  "kernelspec": {
   "display_name": "algotrading",
   "language": "python",
   "name": "python3"
  },
  "language_info": {
   "codemirror_mode": {
    "name": "ipython",
    "version": 3
   },
   "file_extension": ".py",
   "mimetype": "text/x-python",
   "name": "python",
   "nbconvert_exporter": "python",
   "pygments_lexer": "ipython3",
   "version": "3.11.4"
  },
  "orig_nbformat": 4
 },
 "nbformat": 4,
 "nbformat_minor": 2
}
