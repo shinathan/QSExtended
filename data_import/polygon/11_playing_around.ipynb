{
 "cells": [
  {
   "cell_type": "markdown",
   "metadata": {},
   "source": []
  },
  {
   "cell_type": "markdown",
   "metadata": {},
   "source": [
    "**Screening functions for backtesting**\n",
    "\n",
    "These functions can cache themselves by saving the results in the <code>processed/cache/</code> folder. In backtesting, we should be able to simulate what a screener would have given, else we would have to simulate all stocks simultaneously."
   ]
  },
  {
   "cell_type": "code",
   "execution_count": null,
   "metadata": {},
   "outputs": [],
   "source": [
    "# Mid-term liquid (average daily turnover larger than X dollars previous Y days)"
   ]
  },
  {
   "cell_type": "code",
   "execution_count": null,
   "metadata": {},
   "outputs": [],
   "source": [
    "# Pre-market gap (prev close to 9:25)"
   ]
  }
 ],
 "metadata": {
  "language_info": {
   "name": "python"
  }
 },
 "nbformat": 4,
 "nbformat_minor": 2
}
