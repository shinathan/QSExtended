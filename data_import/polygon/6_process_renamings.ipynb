{
 "cells": [
  {
   "cell_type": "markdown",
   "metadata": {},
   "source": [
    "# Merging ticker changes\n",
    "In section 1.7 we have acquired the list of renamings. Now we will use them to merge our data. We have to be aware that it is possible for a ticker to used multiple times, so the <code>ticker_changes.csv</code> may contain multiple of the same tickers in the 'from' and 'to' column. \n",
    "\n",
    "After processing the ticker changes we will create a <code>tickers_v5.csv</code> which will be our definitive ticker list. This contains a column 'tickers_old', which will containa list of (date_of_change, ticker) pairs. So if A changes to B on day 2, and B changes to C on day 5, tickers_old for D will contain [[2, A], [5, B]].\n",
    "\n",
    "The process will be as follows:\n",
    "* As long as we have ticker changes to process\n",
    "    * Loop through <code>tickers_v4.csv</code>.\n",
    "        * Get the next trading date after 'end_date_data'.\n",
    "        * Search in <code>tickers_changes.csv</code> if there is a ticker change on this date.\n",
    "        * If it does:\n",
    "            * The stock data will be merged.\n",
    "            * In <code>tickers_v4.csv</code> we will change \"ticker\" to the new ticker and add a list [date, ticker] to \"tickers_old\".\n",
    "            * All other rows will be merged such as \"start_date\". For identifiers we will take the last name available. We do NOT change the ID, because we chose the ID to be never-changing.\n",
    "            * The row of the old ticker will be deleted\n",
    "            * **We need to restart the loop!** If we don't the following can happen: Let's assume that a ticker was renamed from A -> B -> C -> D but that the order in which it appears in our ticker list is C, D, A, B. Using our loop, C gets merged with D. Then the loop checks D, which has no renamings. Then A gets merged with B. Then B gets merged with C, however that is incorrect! B should be merged with the new D, which contains C. Any double+ renamings have the risk of being in the 'wrong order'.\n",
    "\n",
    "Note: if a ticker A goes OTC and then comes back and changes to B, then we will have two files: one of the A before OTC and the A+B after OTC named B."
   ]
  },
  {
   "cell_type": "code",
   "execution_count": 1,
   "metadata": {},
   "outputs": [],
   "source": [
    "from utils import get_tickers, get_market_dates, get_ticker_changes\n",
    "from datetime import datetime, date, time\n",
    "import mplfinance as mpf\n",
    "import pandas as pd\n",
    "import numpy as np\n",
    "import os\n",
    "DATA_PATH = \"../../../data/polygon/\"\n",
    "END_DATE = date(2023, 9, 1)"
   ]
  },
  {
   "cell_type": "code",
   "execution_count": 127,
   "metadata": {},
   "outputs": [],
   "source": [
    "tickers_v4 = get_tickers(v=4)\n",
    "market_dates = get_market_dates()\n",
    "ticker_changes = get_ticker_changes()\n",
    "\n",
    "tickers_v4.insert(loc = 2, column = 'tickers_old', value = [[] for _ in range(len(tickers_v4))])\n",
    "\n",
    "while True:\n",
    "    # tickers_v4 gets smaller by 1 element every time we run this loop.\n",
    "    for index_from, row_from in tickers_v4.copy().iterrows():\n",
    "        # Get values\n",
    "        type_from = row_from['type']\n",
    "        if type_from == \"INDEX\":\n",
    "            continue\n",
    "        id_from = row_from['ID']\n",
    "        ticker_from = row_from['ticker']\n",
    "        start_date_from = row_from['start_date']\n",
    "        end_date_from = row_from['end_date']\n",
    "        start_data_from = row_from['start_data']\n",
    "        end_data_from = row_from['end_data']\n",
    "        if end_data_from == END_DATE:\n",
    "            continue\n",
    "\n",
    "        start_data_to = market_dates[market_dates.index(end_data_from) + 1]\n",
    "\n",
    "        # Get ticker changes \n",
    "        change = ticker_changes[(ticker_changes.index == start_data_to) & (ticker_changes['from'] == ticker_from)]\n",
    "        if change.empty:\n",
    "            continue\n",
    "        elif len(change) > 1:\n",
    "            raise Exception(\"Duplicate!\")\n",
    "        ticker_to = change['to'].values[0]\n",
    "\n",
    "        # Set values of new ticker\n",
    "        row_to = tickers_v4[(tickers_v4['start_data'] == start_data_to) & (tickers_v4['ticker'] == ticker_to)]\n",
    "        if row_to.empty:\n",
    "            continue\n",
    "        index_to = row_to.index[0]\n",
    "        id_to = row_to['ID'].values[0]\n",
    "        tickers_v4.loc[index_to, \"tickers_old\"].append([start_data_to, ticker_from])\n",
    "        tickers_v4.loc[index_to, \"start_date\"] = start_date_from\n",
    "        tickers_v4.loc[index_to, \"start_data\"] = start_data_from\n",
    "\n",
    "        # Do the actual merging\n",
    "        from_ = pd.read_parquet(DATA_PATH + f\"processed/m1/{id_from}.parquet\")\n",
    "        to = pd.read_parquet(DATA_PATH + f\"processed/m1/{id_to}.parquet\")\n",
    "        pd.concat([from_, to]).to_parquet(DATA_PATH + f\"processed/m1/{id_to}.parquet\", engine=\"pyarrow\", compression = 'brotli')\n",
    "        # os.remove(path = DATA_PATH + f\"processed/m1/{id_from}.parquet\") # Removal of old renamed ticker\n",
    "\n",
    "        # Append index to delete later (we avoid deleting something we are iterating over)\n",
    "        tickers_v4.drop(index_from, inplace=True)\n",
    "        tickers_v4.reset_index(inplace=True, drop=True)\n",
    "        print(f\"Ticker change {ticker_from} -> {ticker_to} on {start_data_to} has been processed\")\n",
    "        print(f\"{index_from/len(tickers_v4)*100:.1f}% | Length of tickers_v4 is {len(tickers_v4)}\")\n",
    "        break\n",
    "    \n",
    "    # If we have reached the end of the loop, it means we have processed everything. Then we can stop.\n",
    "    if index_from == len(tickers_v4):\n",
    "        break"
   ]
  },
  {
   "cell_type": "code",
   "execution_count": null,
   "metadata": {},
   "outputs": [],
   "source": [
    "tickers_v4.to_csv(\"../../../data/tickers_v5.csv\")\n",
    "tickers_v5 = get_tickers(v=5)\n",
    "tickers_v5[tickers_v5[\"tickers_old\"].str.len() == 0].head(2)"
   ]
  },
  {
   "cell_type": "code",
   "execution_count": null,
   "metadata": {},
   "outputs": [],
   "source": [
    "tickers_v5.iloc[2000:2005]"
   ]
  }
 ],
 "metadata": {
  "kernelspec": {
   "display_name": "algotrading",
   "language": "python",
   "name": "python3"
  },
  "language_info": {
   "codemirror_mode": {
    "name": "ipython",
    "version": 3
   },
   "file_extension": ".py",
   "mimetype": "text/x-python",
   "name": "python",
   "nbconvert_exporter": "python",
   "pygments_lexer": "ipython3",
   "version": "3.11.4"
  }
 },
 "nbformat": 4,
 "nbformat_minor": 2
}
