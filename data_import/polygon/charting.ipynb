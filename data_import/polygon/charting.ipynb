{
 "cells": [
  {
   "cell_type": "markdown",
   "metadata": {},
   "source": [
    "## Charting\n",
    "Just playing around with mplfinance do create pretty charts. I want them to be TradingView like, with potential for 'buy' and 'sell' arrows and extended hours/halt/forward fill marking. Pre-market = orange. Post-market = blue. Halt = red. Forward fill = more gray.  "
   ]
  },
  {
   "cell_type": "code",
   "execution_count": null,
   "metadata": {},
   "outputs": [],
   "source": [
    "DATA_PATH = \"../data/polygon/\"\n",
    "import mplfinance as mpf\n",
    "import pandas as pd\n",
    "\n",
    "### SETTINGS ###\n",
    "DATA_PATH = \"../data/polygon/\"\n",
    "################\n",
    "\n",
    "data = pd.read_csv(\n",
    "    DATA_PATH + \"raw/m1/AXLA.csv\",\n",
    "    parse_dates=True,\n",
    "    index_col=\"datetime\",\n",
    "    usecols=[\"datetime\", \"open\", \"high\", \"low\", \"close\", \"volume\"],\n",
    ")"
   ]
  }
 ],
 "metadata": {
  "language_info": {
   "name": "python"
  },
  "orig_nbformat": 4
 },
 "nbformat": 4,
 "nbformat_minor": 2
}
