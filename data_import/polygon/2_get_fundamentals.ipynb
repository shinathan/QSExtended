{
 "cells": [
  {
   "cell_type": "markdown",
   "metadata": {},
   "source": [
    "## Getting fundamental data\n",
    "The fundamentals that I want are:\n",
    "* Easy to get:\n",
    "    * Company headquarters location\n",
    "    * Sector\n",
    "    * Outstanding shares (for market cap, want weekly)\n",
    "    * Earnings yield (inverse of P/E)\n",
    "    * Cash & equivalents (for dilution prediction)\n",
    "    * Cash burn (for dilution prediction, but must be estimated)\n",
    "\n",
    "* Hard to get:\n",
    "    * Free float (outstanding - insider - institutional)\n",
    "\n",
    "* Very hard to get:\n",
    "    * Short interest\n",
    "\n",
    "A list of what I have found:\n",
    "* [Polygon](https://polygon.io/docs/stocks/get_vx_reference_financials): only has EPS, sector and outstanding shares\n",
    "* [Finnhub](https://finnhub.io/docs/api): has all easy to get data, but not for delisted stocks\n",
    "* [FinancialModelingPrep](https://site.financialmodelingprep.com/): has all easy to get. Free float can be calculated as they have insider/institutional holdings and outstanding shares. Delisted tickers only available if ticker is not recycled.\n",
    "* [Valueinvesting.io](https://valueinvesting.io/short-interest-api): only has short-interest but nothing else, Either 100 or 400/month.\n",
    "* Compustat: I have access through my university, but not sure if short-interest is available\n",
    "* [Sharadar](https://data.nasdaq.com/search?filters=%5B%22Equities%22%2C%22Fundamentals%22%5D): Apparently that is the golden standard. Also QuantRocket uses it.\n",
    "* [Tiingo](https://www.tiingo.com/documentation/)\n",
    "* [IEXCloud](https://iexcloud.io/)\n",
    "* [EODHD](https://eodhd.com/pricing?utm_source=google_search&utm_medium=cpc&utm_campaign=Brand_Europe&roistat_referrer&roistat_pos&roistat=google1_g_124657464434_526148784701_eodhd&gad=1)\n",
    "\n",
    "Since Sharadar is the golden standard and has almost everything I want, including data for ADRs, I settle with them. I thought they are extremely expensive so I didn't look further. Turns out I am wrong, but it's still stupid you have to create an account just to see the pricing. The bundle for all data is 69/month. And they have a bulk data download endpoint. They do not have the headquarters location, so I will just drop that requirement. I can just compare ADRs with non-ADRs after all. Although they do not provide float, it can be calculated by subtracting the institutional and insider ownership from the outstanding shares. While this is not 100% correct (e.g. you also have to take into account options, Rule 144 etc.) it is good enough for my purposes.\n",
    "\n",
    "Almost no one has short interest. I will likely settle with Compustat and Valueinvesting.io for that. However this is not high on my priorities list.\n",
    "\n",
    "Other alternative data that I want are the historical borrowing rates on IBKR. These can be bought on [iborrowdesk.com](https://www.patreon.com/iborrowdesk) for almost free.\n"
   ]
  },
  {
   "cell_type": "code",
   "execution_count": 2,
   "metadata": {},
   "outputs": [
    {
     "name": "stdout",
     "output_type": "stream",
     "text": [
      "2021-01-04\n",
      "2023-08-18\n"
     ]
    }
   ],
   "source": [
    "from datetime import datetime, date, time, timedelta\n",
    "from utils import first_trading_day_after, last_trading_day_before, get_tickers_v3\n",
    "import pandas as pd\n",
    "import numpy as np\n",
    "\n",
    "DATA_PATH = \"../../../data/polygon/\"\n",
    "\n",
    "START_DATE = first_trading_day_after(datetime(2021, 1, 1).date())\n",
    "END_DATE = last_trading_day_before(datetime(2023, 8, 18).date())\n",
    "print(START_DATE)\n",
    "print(END_DATE)\n",
    "\n",
    "with open(DATA_PATH + \"secret.txt\") as f:\n",
    "    KEY = next(f).strip()\n",
    "\n",
    "client = RESTClient(api_key=KEY)"
   ]
  },
  {
   "cell_type": "markdown",
   "metadata": {},
   "source": [
    "Polygon actually does not have all tickers. They probably don't have ADRs because their filings are a little bit different."
   ]
  },
  {
   "cell_type": "code",
   "execution_count": 22,
   "metadata": {},
   "outputs": [
    {
     "name": "stdout",
     "output_type": "stream",
     "text": [
      "Empty DataFrame\n",
      "Columns: []\n",
      "Index: []\n",
      "TickerDetails(active=True, address=CompanyAddress(address1='10431 WATERIDGE CIRCLE', address2='SUITE 150', city='SAN DIEGO', state='CA', country=None, postal_code='92121'), branding=Branding(icon_url='https://api.polygon.io/v1/reference/company-branding/d3d3LnRlbGVzaXNiaW8uY29t/images/2023-05-01_icon.jpeg', logo_url='https://api.polygon.io/v1/reference/company-branding/d3d3LnRlbGVzaXNiaW8uY29t/images/2023-05-01_logo.svg', accent_color=None, light_color=None, dark_color=None), cik='0001850079', composite_figi='BBG011363VM3', currency_name='usd', currency_symbol=None, base_currency_name=None, base_currency_symbol=None, delisted_utc=None, description='Telesis Bio Inc is a synthetic biology company focused on enabling researchers to rapidly, accurately, and reproducibly build or write high-quality synthetic DNA and mRNA that is ready to use in many downstream synthetic biology-enabled markets. It manufactures and sells laboratory equipment, specifically synthetic biology instruments, reagents, and associated products and related services. Its products comprise of BioXp system, BioXp kits, Benchtop reagents, Coronavirus tools, and BioXp biofoundry services.', ticker_root='TBIO', ticker_suffix=None, homepage_url='https://www.telesisbio.com', list_date='2021-06-18', locale='us', market='stocks', market_cap=38932205.0, name='Telesis Bio, Inc. Common Stock', phone_number='858-228-4115', primary_exchange='XNAS', share_class_figi='BBG011363VQ9', share_class_shares_outstanding=29950000, sic_code='3826', sic_description='LABORATORY ANALYTICAL INSTRUMENTS', ticker='TBIO', total_employees=229, type='CS', weighted_shares_outstanding=29947850)\n"
     ]
    }
   ],
   "source": [
    "data = pd.DataFrame(client.vx.list_stock_financials(ticker = \"TOP\", filing_date_gte=START_DATE, filing_date_lte=END_DATE) )\n",
    "print(data)\n",
    "data = client.get_ticker_details(ticker=\"TBIO\", date=END_DATE)\n",
    "print(data)"
   ]
  }
 ],
 "metadata": {
  "kernelspec": {
   "display_name": "algotrading",
   "language": "python",
   "name": "python3"
  },
  "language_info": {
   "codemirror_mode": {
    "name": "ipython",
    "version": 3
   },
   "file_extension": ".py",
   "mimetype": "text/x-python",
   "name": "python",
   "nbconvert_exporter": "python",
   "pygments_lexer": "ipython3",
   "version": "3.11.4"
  },
  "orig_nbformat": 4
 },
 "nbformat": 4,
 "nbformat_minor": 2
}
