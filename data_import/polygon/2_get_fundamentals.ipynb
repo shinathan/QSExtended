{
 "cells": [
  {
   "cell_type": "markdown",
   "metadata": {},
   "source": [
    "## Getting fundamental data\n",
    "The Polygon API only has very basic fundamentals. While I also need some basic fundamentals like P/E, it does not contain most of the stuff I want, which are dilution predictors (cash, cash-burn), squeeze potential (float, short float) and other descriptive data (country of headquarters, shares outstanding/market cap). While there exists a SEC Edgar API to get the data at the source, I do not want to bother with accounting. I have spent some time looking for APIs to get historical data (including delisted companies). I do not mind paying a small fee. \n",
    "\n",
    "* \n",
    "\n",
    "\n",
    "\n"
   ]
  },
  {
   "cell_type": "code",
   "execution_count": 1,
   "metadata": {},
   "outputs": [
    {
     "name": "stdout",
     "output_type": "stream",
     "text": [
      "5\n"
     ]
    }
   ],
   "source": [
    "print(5)"
   ]
  }
 ],
 "metadata": {
  "kernelspec": {
   "display_name": "algotrading",
   "language": "python",
   "name": "python3"
  },
  "language_info": {
   "codemirror_mode": {
    "name": "ipython",
    "version": 3
   },
   "file_extension": ".py",
   "mimetype": "text/x-python",
   "name": "python",
   "nbconvert_exporter": "python",
   "pygments_lexer": "ipython3",
   "version": "3.11.4"
  },
  "orig_nbformat": 4
 },
 "nbformat": 4,
 "nbformat_minor": 2
}
