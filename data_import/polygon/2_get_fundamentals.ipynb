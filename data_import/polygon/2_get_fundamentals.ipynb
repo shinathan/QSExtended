{
 "cells": [
  {
   "cell_type": "markdown",
   "metadata": {},
   "source": [
    "# Fundamentals\n",
    "The fundamentals that I want are:\n",
    "* Easy to get:\n",
    "    * Company headquarters location\n",
    "    * Sector\n",
    "    * Outstanding shares (for market cap, want weekly)\n",
    "    * Earnings yield (inverse of P/E)\n",
    "    * Cash & equivalents (for dilution prediction)\n",
    "    * Cash burn (for dilution prediction, but must be estimated)\n",
    "\n",
    "* Hard to get:\n",
    "    * Free float (outstanding - insider - institutional)\n",
    "\n",
    "* Very hard to get:\n",
    "    * Short interest\n",
    "\n",
    "A list of what I have found:\n",
    "* [Polygon](https://polygon.io/docs/stocks/get_vx_reference_financials): only has EPS, sector and outstanding shares\n",
    "* [Finnhub](https://finnhub.io/docs/api): has all easy to get data, but not for delisted stocks\n",
    "* [FinancialModelingPrep](https://site.financialmodelingprep.com/): has all easy to get. Free float can be calculated as they have insider/institutional holdings and outstanding shares.\n",
    "* [Valueinvesting.io](https://valueinvesting.io/short-interest-api): only has short-interest but nothing else, Either 100 or 400/month.\n",
    "* Compustat: I have access through my university, but not sure if short-interest is available\n",
    "* [Sharadar](https://data.nasdaq.com/search?filters=%5B%22Equities%22%2C%22Fundamentals%22%5D): Listed on the Nasdaq Data Link data market\n",
    "* [Tiingo](https://www.tiingo.com/documentation/)\n",
    "* [IEXCloud](https://iexcloud.io/)\n",
    "* [EODHD](https://eodhd.com/pricing?utm_source=google_search&utm_medium=cpc&utm_campaign=Brand_Europe&roistat_referrer&roistat_pos&roistat=google1_g_124657464434_526148784701_eodhd&gad=1)\n",
    "\n",
    "Since Sharadar has almost everything I want, including data for ADRs, I settle with them. QuantRocket also uses them. I thought they are extremely expensive so I didn't look further. Turns out I am wrong, but it's still stupid you have to create an account just to see the pricing. The bundle for all data is 69/month. And they have a bulk data download endpoint. Although they do not provide float, it can be calculated by subtracting the institutional and insider ownership from the outstanding shares. While this is not 100% correct (e.g. you also have to take into account options, Rule 144 etc.) it is good enough for my purposes.\n",
    "\n",
    "Almost no one has short interest. I will likely settle with Compustat and Valueinvesting.io for that. However this is not high on my priorities list.\n",
    "\n",
    "Other alternative data that I want are the historical borrowing rates on IBKR. These can be bought on [iborrowdesk.com](https://www.patreon.com/iborrowdesk) for almost free.\n"
   ]
  },
  {
   "cell_type": "code",
   "execution_count": 2,
   "metadata": {},
   "outputs": [
    {
     "name": "stdout",
     "output_type": "stream",
     "text": [
      "2021-01-04\n",
      "2023-08-18\n"
     ]
    }
   ],
   "source": [
    "from datetime import datetime, date, time, timedelta\n",
    "from utils import first_trading_day_after, last_trading_day_before, get_tickers_v3\n",
    "import pandas as pd\n",
    "import numpy as np\n",
    "\n",
    "START_DATE = first_trading_day_after(datetime(2021, 1, 1).date())\n",
    "END_DATE = last_trading_day_before(datetime(2023, 8, 18).date())\n",
    "print(START_DATE)\n",
    "print(END_DATE)"
   ]
  },
  {
   "cell_type": "markdown",
   "metadata": {},
   "source": [
    "Polygon actually does not have all tickers. They probably don't have ADRs because their filings are a little bit different."
   ]
  },
  {
   "cell_type": "code",
   "execution_count": 2,
   "metadata": {},
   "outputs": [
    {
     "name": "stdout",
     "output_type": "stream",
     "text": [
      "Empty DataFrame\n",
      "Columns: []\n",
      "Index: []\n",
      "TickerDetails(active=True, address=None, branding=Branding(icon_url=None, logo_url=None, accent_color=None, light_color=None, dark_color=None), cik='0001848275', composite_figi=None, currency_name='usd', currency_symbol=None, base_currency_name=None, base_currency_symbol=None, delisted_utc=None, description='TOP Financial Group Ltd is an online brokerage firm in Hong Kong specializing in the trading of local and overseas equities, futures, and options products. The company operates in only one segment which is the futures brokerage service.', ticker_root='TOP', ticker_suffix=None, homepage_url='https://www.zyfgl.com', list_date='2022-06-01', locale='us', market='stocks', market_cap=219845423.24, name='TOP Financial Group Limited Ordinary Shares', phone_number=None, primary_exchange='XNAS', share_class_figi=None, share_class_shares_outstanding=35010000, sic_code=None, sic_description=None, ticker='TOP', total_employees=11, type='CS', weighted_shares_outstanding=35007233)\n"
     ]
    }
   ],
   "source": [
    "from polygon.rest import RESTClient\n",
    "DATA_PATH = \"../../../data/polygon/\"\n",
    "\n",
    "with open(DATA_PATH + \"secret.txt\") as f:\n",
    "    KEY = next(f).strip()\n",
    "\n",
    "client = RESTClient(api_key=KEY)\n",
    "\n",
    "data = pd.DataFrame(client.vx.list_stock_financials(ticker = \"TOP\", filing_date_gte=START_DATE, filing_date_lte=END_DATE) )\n",
    "print(data)\n",
    "data = client.get_ticker_details(ticker=\"TOP\", date=END_DATE)\n",
    "print(data)"
   ]
  },
  {
   "cell_type": "markdown",
   "metadata": {},
   "source": [
    "# Sharadar Core US Fundamentals\n",
    "They offer several subscriptions. They have data for fundamentals (59/month), insiders (25/month), institutional ownership (25/month) and EOD prices (29/month). The bundle that contains these all only costs 69/month. So I might as well pay the 10/month more.\n",
    "\n",
    "Using this API is a little bit different than others. This is because Sharadar sells their data through the Nasdaq Data Link (NDL), so they must use their API. This API must be usable for all vendors, so the API endpoints are very generalized. They have 4 different APIs. The one we need is the 'REST API for tables data' for data product code SF1. \n",
    "\n",
    "Every data set that uses the tables API has different sets of tables. E.g. for Sharadar the tables are SF1, DAILY, TICKERS, INDICATORS, ACTIONS, SP500 and EVENTS. All data is stored in either one of these tables. Then in the API call filters (e.g. <code>ticker='AAPL'</code>) are used to narrow down the selection. The return value is XML, JSON or CSV. The filters available depend on the data set. For SF1 these are ticker, calendardate, lastupdated, dimension and datekey. You can also append the filter with [filter operators](https://docs.data.nasdaq.com/docs/parameters-1), such as <code>.gt</code> to return only the rows with values greater than the specified value. We can also pass several parameters to each call, such as <code>qopts.columns</code> to select which column of the table we want. There are also options to bulk download. \n",
    "\n",
    "The 'dimension' must be a 3-letter combination of (AR, MR) and (Y, T, Q). AR is As-Reported, MR is Most-Recent, Y is for annual data while T is for trailing-12-month and Q is for quarterly. Q is not available for ADRs. The AR is the one that excludes restatements. Sometimes when companies file annual reports, they do not file a quarterly one because that information is already contained in the annual. If a restatement occurs in ART within the 12-month period, that datapoint is restated.\n",
    "\n",
    "Which one do we need? The best point-in-time information is ART. We definitely need As-Reported. Also a trailing-12-month figure makes more sense. If we did not use 12-month trailing we would use either quarterly (which has no information about the previous 3 months) or annual (which has no information of the most recent months unless we query by January). ART *does* include restatements, but only if it was available within the 12-month period. We want restatements, but not those that we would not have access to at that point in time. So ART is the best choice.\n",
    "\n",
    "So the goal is: build a fundamental database for as many tickers as possible in our <code>tickers_v3</code> ticker list (excluding ETF and ETNs). This database has a quarterly frequency which contains the information of the last 12 months. Except for ADRs because they do not file annually. We do not need all ratio's, just a few. Some data is non-changing, such as the country or sector, which will be added to our ticker list to create <code>tickers_v4</code>. Some data updates more frequently than once per quarter. These are the ratios that depend on price such as P/B ratio. For these we only store the non-price (B) part. Then at backtesting the true value is calculated using the *forward adjusted* price from every data point. For ADRs some values are in USD, other not. Yes this is annoying.\n",
    "\n",
    "We will add to <code>tickers_v4</code>:\n",
    "* Sector (not the SIC sector)\n",
    "* Industry\n",
    "* Country\n",
    "\n",
    "We will add to <code>raw/fundamentals/AAA.csv</code>:\n",
    "* date: datekey: Date of availability (date)\n",
    "* weighted_shares_outstanding: shareswa: Weighted average shares (int) (to get market cap)\n",
    "\n",
    "* cash: cashnequsd : Cash and Equivalents (USD)\n",
    "* change in cash: cashnequsd / previous cashnequ\n",
    "* current_ratio: currentratio : Short term assets/liabilities (ratio). Higher is better.\n",
    "\n",
    "* div_ps: dps: Dividends per share (USD/share)\n",
    "* earnings_ps: epsusd : to calculate P/E (USD)\n",
    "* book_ps: bvps/fxusd: book value per share (may not be USD) converted to USD\n",
    "* sales_ps : sps: sales per share (USD)\n",
    "* net_margin: netmargin: Net margin (ratio)\n",
    "\n",
    "Other data we want:\n",
    "* S&P500 constituents in <code>raw/SP500.csv</code>. They do not have other indices. But for the other ones we can just construct them ourselves. Some are also mechanical unlike the S&P500.\n",
    "\n",
    "This list is quite short. But it is enough to work with. We can easily add more if we want. We also have to take into account splits... The earnings per share gets halved with a 1-to-2 split. But some ratios stay the same such as the current ratio.\n",
    "\n",
    "Also we will save the entire database just in case we need it later.\n",
    "\n",
    "To not have to deal with naked API requests, we use the their official [SDK](https://github.com/Nasdaq/data-link-python/#local-api-key-environment-variable). Read their [quickstart guide](https://github.com/Nasdaq/data-link-python/blob/main/FOR_ANALYSTS.md) and [detailed guide](https://github.com/Nasdaq/data-link-python/blob/main/FOR_DEVELOPERS.md). It is really confusing what the difference between <code>get</code>, <code>get_table</code>, <code>DataSet</code>, <code>DataTable</code> and <code>DataBase</code> is. I will just follow the [examples](https://data.nasdaq.com/databases/SF1/documentation) and use <code>get_table</code>."
   ]
  },
  {
   "cell_type": "code",
   "execution_count": 4,
   "metadata": {},
   "outputs": [],
   "source": [
    "import nasdaqdatalink\n",
    "\n",
    "DATA_PATH = \"../../../data/sharadar/\"\n",
    "\n",
    "nasdaqdatalink.read_key(filename=DATA_PATH + \"secret.txt\")"
   ]
  },
  {
   "cell_type": "markdown",
   "metadata": {},
   "source": [
    "## 2.1 Getting all tickers\n",
    "First get the list of tickers. This is obviously different from the Polygon one. The Polygon one is the most 'point-in-time' one: it does include recycled tickers. Sharadar does not. But even if it was we would expect some small differences between data vendors."
   ]
  },
  {
   "cell_type": "code",
   "execution_count": 28,
   "metadata": {},
   "outputs": [
    {
     "data": {
      "text/html": [
       "<div>\n",
       "<style scoped>\n",
       "    .dataframe tbody tr th:only-of-type {\n",
       "        vertical-align: middle;\n",
       "    }\n",
       "\n",
       "    .dataframe tbody tr th {\n",
       "        vertical-align: top;\n",
       "    }\n",
       "\n",
       "    .dataframe thead th {\n",
       "        text-align: right;\n",
       "    }\n",
       "</style>\n",
       "<table border=\"1\" class=\"dataframe\">\n",
       "  <thead>\n",
       "    <tr style=\"text-align: right;\">\n",
       "      <th></th>\n",
       "      <th>table</th>\n",
       "      <th>permaticker</th>\n",
       "      <th>ticker</th>\n",
       "      <th>name</th>\n",
       "      <th>exchange</th>\n",
       "      <th>isdelisted</th>\n",
       "      <th>category</th>\n",
       "      <th>cusips</th>\n",
       "      <th>siccode</th>\n",
       "      <th>sicsector</th>\n",
       "      <th>...</th>\n",
       "      <th>location</th>\n",
       "      <th>lastupdated</th>\n",
       "      <th>firstadded</th>\n",
       "      <th>firstpricedate</th>\n",
       "      <th>lastpricedate</th>\n",
       "      <th>firstquarter</th>\n",
       "      <th>lastquarter</th>\n",
       "      <th>secfilings</th>\n",
       "      <th>companysite</th>\n",
       "      <th>cik</th>\n",
       "    </tr>\n",
       "    <tr>\n",
       "      <th>None</th>\n",
       "      <th></th>\n",
       "      <th></th>\n",
       "      <th></th>\n",
       "      <th></th>\n",
       "      <th></th>\n",
       "      <th></th>\n",
       "      <th></th>\n",
       "      <th></th>\n",
       "      <th></th>\n",
       "      <th></th>\n",
       "      <th></th>\n",
       "      <th></th>\n",
       "      <th></th>\n",
       "      <th></th>\n",
       "      <th></th>\n",
       "      <th></th>\n",
       "      <th></th>\n",
       "      <th></th>\n",
       "      <th></th>\n",
       "      <th></th>\n",
       "      <th></th>\n",
       "    </tr>\n",
       "  </thead>\n",
       "  <tbody>\n",
       "    <tr>\n",
       "      <th>5452</th>\n",
       "      <td>SF1</td>\n",
       "      <td>194817</td>\n",
       "      <td>META</td>\n",
       "      <td>META PLATFORMS INC</td>\n",
       "      <td>NASDAQ</td>\n",
       "      <td>N</td>\n",
       "      <td>Domestic Common Stock</td>\n",
       "      <td>30303M102</td>\n",
       "      <td>7370</td>\n",
       "      <td>Services</td>\n",
       "      <td>...</td>\n",
       "      <td>California; U.S.A</td>\n",
       "      <td>2023-07-27</td>\n",
       "      <td>2014-09-26</td>\n",
       "      <td>2012-05-18</td>\n",
       "      <td>2023-09-08</td>\n",
       "      <td>2010-12-31</td>\n",
       "      <td>2023-06-30</td>\n",
       "      <td>https://www.sec.gov/cgi-bin/browse-edgar?actio...</td>\n",
       "      <td>http://investor.fb.com</td>\n",
       "      <td>1326801</td>\n",
       "    </tr>\n",
       "  </tbody>\n",
       "</table>\n",
       "<p>1 rows × 29 columns</p>\n",
       "</div>"
      ],
      "text/plain": [
       "     table  permaticker ticker                name exchange isdelisted  \\\n",
       "None                                                                     \n",
       "5452   SF1       194817   META  META PLATFORMS INC   NASDAQ          N   \n",
       "\n",
       "                   category     cusips  siccode sicsector  ...  \\\n",
       "None                                                       ...   \n",
       "5452  Domestic Common Stock  30303M102     7370  Services  ...   \n",
       "\n",
       "               location lastupdated firstadded firstpricedate lastpricedate  \\\n",
       "None                                                                          \n",
       "5452  California; U.S.A  2023-07-27 2014-09-26     2012-05-18    2023-09-08   \n",
       "\n",
       "     firstquarter lastquarter  \\\n",
       "None                            \n",
       "5452   2010-12-31  2023-06-30   \n",
       "\n",
       "                                             secfilings  \\\n",
       "None                                                      \n",
       "5452  https://www.sec.gov/cgi-bin/browse-edgar?actio...   \n",
       "\n",
       "                 companysite      cik  \n",
       "None                                   \n",
       "5452  http://investor.fb.com  1326801  \n",
       "\n",
       "[1 rows x 29 columns]"
      ]
     },
     "execution_count": 28,
     "metadata": {},
     "output_type": "execute_result"
    }
   ],
   "source": [
    "ticker_metadata = nasdaqdatalink.get_table('SHARADAR/TICKERS', table='SF1', paginate=True)\n",
    "# ticker_metadata.iloc[:, :10]\n",
    "ticker_metadata[\"cik\"] = ticker_metadata[\"secfilings\"].str[-10:].astype(int)\n",
    "ticker_metadata.to_csv(DATA_PATH + 'raw/tickers.csv')\n",
    "ticker_metadata[ticker_metadata[\"ticker\"] == \"META\"].head(3)"
   ]
  },
  {
   "cell_type": "markdown",
   "metadata": {},
   "source": [
    "Second, get the list of definitions used in the fundamentals"
   ]
  },
  {
   "cell_type": "code",
   "execution_count": 30,
   "metadata": {},
   "outputs": [
    {
     "data": {
      "text/html": [
       "<div>\n",
       "<style scoped>\n",
       "    .dataframe tbody tr th:only-of-type {\n",
       "        vertical-align: middle;\n",
       "    }\n",
       "\n",
       "    .dataframe tbody tr th {\n",
       "        vertical-align: top;\n",
       "    }\n",
       "\n",
       "    .dataframe thead th {\n",
       "        text-align: right;\n",
       "    }\n",
       "</style>\n",
       "<table border=\"1\" class=\"dataframe\">\n",
       "  <thead>\n",
       "    <tr style=\"text-align: right;\">\n",
       "      <th></th>\n",
       "      <th>table</th>\n",
       "      <th>indicator</th>\n",
       "      <th>isfilter</th>\n",
       "      <th>isprimarykey</th>\n",
       "      <th>title</th>\n",
       "      <th>description</th>\n",
       "      <th>unittype</th>\n",
       "    </tr>\n",
       "    <tr>\n",
       "      <th>None</th>\n",
       "      <th></th>\n",
       "      <th></th>\n",
       "      <th></th>\n",
       "      <th></th>\n",
       "      <th></th>\n",
       "      <th></th>\n",
       "      <th></th>\n",
       "    </tr>\n",
       "  </thead>\n",
       "  <tbody>\n",
       "    <tr>\n",
       "      <th>0</th>\n",
       "      <td>SF1</td>\n",
       "      <td>workingcapital</td>\n",
       "      <td>N</td>\n",
       "      <td>N</td>\n",
       "      <td>Working Capital</td>\n",
       "      <td>[Metrics] Working capital measures the differe...</td>\n",
       "      <td>currency</td>\n",
       "    </tr>\n",
       "    <tr>\n",
       "      <th>1</th>\n",
       "      <td>SF1</td>\n",
       "      <td>ticker</td>\n",
       "      <td>Y</td>\n",
       "      <td>Y</td>\n",
       "      <td>Ticker Symbol</td>\n",
       "      <td>[Entity] The ticker is a unique identifier for...</td>\n",
       "      <td>text</td>\n",
       "    </tr>\n",
       "    <tr>\n",
       "      <th>2</th>\n",
       "      <td>SF1</td>\n",
       "      <td>tbvps</td>\n",
       "      <td>N</td>\n",
       "      <td>N</td>\n",
       "      <td>Tangible Assets Book Value per Share</td>\n",
       "      <td>[Metrics] Measures the ratio between [Tangible...</td>\n",
       "      <td>currency/share</td>\n",
       "    </tr>\n",
       "  </tbody>\n",
       "</table>\n",
       "</div>"
      ],
      "text/plain": [
       "     table       indicator isfilter isprimarykey  \\\n",
       "None                                               \n",
       "0      SF1  workingcapital        N            N   \n",
       "1      SF1          ticker        Y            Y   \n",
       "2      SF1           tbvps        N            N   \n",
       "\n",
       "                                     title  \\\n",
       "None                                         \n",
       "0                          Working Capital   \n",
       "1                            Ticker Symbol   \n",
       "2     Tangible Assets Book Value per Share   \n",
       "\n",
       "                                            description        unittype  \n",
       "None                                                                     \n",
       "0     [Metrics] Working capital measures the differe...        currency  \n",
       "1     [Entity] The ticker is a unique identifier for...            text  \n",
       "2     [Metrics] Measures the ratio between [Tangible...  currency/share  "
      ]
     },
     "execution_count": 30,
     "metadata": {},
     "output_type": "execute_result"
    }
   ],
   "source": [
    "columns = nasdaqdatalink.get_table('SHARADAR/INDICATORS', table='SF1')\n",
    "columns.to_csv(DATA_PATH + \"raw/SF1_definitions.csv\")\n",
    "columns.head(3)"
   ]
  },
  {
   "cell_type": "markdown",
   "metadata": {},
   "source": [
    "Exploring this table in Excel, we find that it does not have recycled tickers (NXU, GOLD). It also does not have renamed tickers (FB, ABX). The renamed tickers is not that of a big problem, using the Polygon ticker list I can get a list of renamings by comparing ciks. But not having recycled tickers means the further back in time I go, the less accurate the fundamental database gets. Even though the database contains delisted stocks. \n",
    "\n",
    "However, I will just accept this fact. The amount of recycled tickers is low. The most important thing is that (non-recycled) delisted stocks are included. It is good enough. There is no need to get to 100% accuracy, as I am not primarily interested in fundamental strategies. My sample size is too low for that anyways and I would just use CRSP for that. And these fundamental strategies are already researched into oblivion.\n",
    "\n",
    "For any diversified strategy this <0.5% of missing fundamentals also not matter too much. In almost 3 years of data, there were only around 20 of such cases. Only the original have data, so we miss 10. However, for price data these are included. Just not for fundamentals. If I really wanted, I could get these fundamentals manually from the SEC files themselves or using other APIs. But I am not going to bother with it now, it is on the to do list.\n",
    "\n",
    "By chance while exploring the ticker list in Excel, I noticed that the cik is actually available, hidden in the link to the SEC files. This takes care of the renaming problem, now I can just look up the cik in the polygon table. For tickers that do not have cik, the ticker is used."
   ]
  },
  {
   "cell_type": "markdown",
   "metadata": {},
   "source": [
    "## 2.2 Differences in 'dimension'\n",
    "Let's see how the A, Q and T works. How is EPS calculated for the three? Is the 12-month trailing a sum? If it is a sum, how is cashneq calculated? Because for that metric it does not make sense to take a sum. Depending on the answers we may need to change our approach and use Q/A instead of T.\n",
    "\n",
    "(The free subscription only has data for MRY (so annual, most-recent) for a small selection of stocks, so here I got a premium subscription.)"
   ]
  },
  {
   "cell_type": "code",
   "execution_count": 21,
   "metadata": {},
   "outputs": [
    {
     "name": "stdout",
     "output_type": "stream",
     "text": [
      "(8, 111)\n"
     ]
    },
    {
     "data": {
      "text/html": [
       "<div>\n",
       "<style scoped>\n",
       "    .dataframe tbody tr th:only-of-type {\n",
       "        vertical-align: middle;\n",
       "    }\n",
       "\n",
       "    .dataframe tbody tr th {\n",
       "        vertical-align: top;\n",
       "    }\n",
       "\n",
       "    .dataframe thead th {\n",
       "        text-align: right;\n",
       "    }\n",
       "</style>\n",
       "<table border=\"1\" class=\"dataframe\">\n",
       "  <thead>\n",
       "    <tr style=\"text-align: right;\">\n",
       "      <th></th>\n",
       "      <th>ticker</th>\n",
       "      <th>dimension</th>\n",
       "      <th>calendardate</th>\n",
       "      <th>datekey</th>\n",
       "    </tr>\n",
       "    <tr>\n",
       "      <th>None</th>\n",
       "      <th></th>\n",
       "      <th></th>\n",
       "      <th></th>\n",
       "      <th></th>\n",
       "    </tr>\n",
       "  </thead>\n",
       "  <tbody>\n",
       "    <tr>\n",
       "      <th>0</th>\n",
       "      <td>AAPL</td>\n",
       "      <td>MRY</td>\n",
       "      <td>2018-12-31</td>\n",
       "      <td>2018-09-29</td>\n",
       "    </tr>\n",
       "    <tr>\n",
       "      <th>1</th>\n",
       "      <td>AAPL</td>\n",
       "      <td>MRY</td>\n",
       "      <td>2017-12-31</td>\n",
       "      <td>2017-09-30</td>\n",
       "    </tr>\n",
       "    <tr>\n",
       "      <th>2</th>\n",
       "      <td>AAPL</td>\n",
       "      <td>MRY</td>\n",
       "      <td>2016-12-31</td>\n",
       "      <td>2016-09-24</td>\n",
       "    </tr>\n",
       "  </tbody>\n",
       "</table>\n",
       "</div>"
      ],
      "text/plain": [
       "     ticker dimension calendardate    datekey\n",
       "None                                         \n",
       "0      AAPL       MRY   2018-12-31 2018-09-29\n",
       "1      AAPL       MRY   2017-12-31 2017-09-30\n",
       "2      AAPL       MRY   2016-12-31 2016-09-24"
      ]
     },
     "execution_count": 21,
     "metadata": {},
     "output_type": "execute_result"
    }
   ],
   "source": [
    "#calendardate={'gte':'2013-01-01', 'lte':'2017-01-01'}\n",
    "data = nasdaqdatalink.get_table('SHARADAR/SF1', ticker='AAPL', dimension='MRY')\n",
    "print(data.shape)\n",
    "data.to_csv(DATA_PATH + 'raw/AAPL.csv')\n",
    "data.iloc[:3, :4] # Only show part, there are a lot of columns"
   ]
  },
  {
   "cell_type": "markdown",
   "metadata": {},
   "source": []
  },
  {
   "cell_type": "code",
   "execution_count": 15,
   "metadata": {},
   "outputs": [],
   "source": [
    "ticker_metadata = pd.read_csv(DATA_PATH + \"raw/tickers.csv\")\n"
   ]
  },
  {
   "cell_type": "markdown",
   "metadata": {},
   "source": [
    "## 2.3 Effect of splits"
   ]
  },
  {
   "cell_type": "markdown",
   "metadata": {},
   "source": []
  },
  {
   "cell_type": "markdown",
   "metadata": {},
   "source": [
    "## 2.4 Difference between Sharadar and Polygon\n",
    "This section looks at the differences in tickers between Polygon and Sharadar. For every ticker in <code>tickers_v3</code>, we look whether the cik or ticker is in the Sharadar ticker list. "
   ]
  },
  {
   "cell_type": "code",
   "execution_count": 52,
   "metadata": {},
   "outputs": [],
   "source": [
    "sharadar_tickers = pd.read_csv(DATA_PATH + \"raw/tickers.csv\")\n",
    "polygon_tickers = get_tickers_v3()\n",
    "polygon_tickers = polygon_tickers[polygon_tickers['type'].isin([\"CS\", \"ADRC\"])]\n",
    "polygon_tickers['cik'] = pd.to_numeric(polygon_tickers['cik'], errors='coerce').astype('Int32')"
   ]
  },
  {
   "cell_type": "code",
   "execution_count": 56,
   "metadata": {},
   "outputs": [
    {
     "name": "stdout",
     "output_type": "stream",
     "text": [
      "Total amount of stocks in v3: 7549\n",
      "Amount of missing stocks: 204\n",
      "Percentage of stocks that have fundamentals in tickers_v3: 0.973\n"
     ]
    },
    {
     "data": {
      "text/html": [
       "<div>\n",
       "<style scoped>\n",
       "    .dataframe tbody tr th:only-of-type {\n",
       "        vertical-align: middle;\n",
       "    }\n",
       "\n",
       "    .dataframe tbody tr th {\n",
       "        vertical-align: top;\n",
       "    }\n",
       "\n",
       "    .dataframe thead th {\n",
       "        text-align: right;\n",
       "    }\n",
       "</style>\n",
       "<table border=\"1\" class=\"dataframe\">\n",
       "  <thead>\n",
       "    <tr style=\"text-align: right;\">\n",
       "      <th></th>\n",
       "      <th>ID</th>\n",
       "      <th>ticker</th>\n",
       "      <th>name</th>\n",
       "      <th>active</th>\n",
       "      <th>start_date</th>\n",
       "      <th>end_date</th>\n",
       "      <th>last_updated_utc</th>\n",
       "      <th>type</th>\n",
       "      <th>cik</th>\n",
       "      <th>composite_figi</th>\n",
       "      <th>delisted_utc</th>\n",
       "    </tr>\n",
       "  </thead>\n",
       "  <tbody>\n",
       "    <tr>\n",
       "      <th>7439</th>\n",
       "      <td>XPOA-2021-01-04</td>\n",
       "      <td>XPOA</td>\n",
       "      <td>DPCM Capital, Inc.</td>\n",
       "      <td>False</td>\n",
       "      <td>2021-01-04</td>\n",
       "      <td>2022-08-05</td>\n",
       "      <td>2022-08-07</td>\n",
       "      <td>CS</td>\n",
       "      <td>1821742</td>\n",
       "      <td>BBG00XRTC019</td>\n",
       "      <td></td>\n",
       "    </tr>\n",
       "    <tr>\n",
       "      <th>7454</th>\n",
       "      <td>YAC-2021-01-04</td>\n",
       "      <td>YAC</td>\n",
       "      <td>Yucaipa Acquisition Corporation Class A Ordina...</td>\n",
       "      <td>False</td>\n",
       "      <td>2021-01-04</td>\n",
       "      <td>2021-12-14</td>\n",
       "      <td>2021-12-14</td>\n",
       "      <td>CS</td>\n",
       "      <td>1815302</td>\n",
       "      <td></td>\n",
       "      <td></td>\n",
       "    </tr>\n",
       "    <tr>\n",
       "      <th>7475</th>\n",
       "      <td>YRCW-2021-01-04</td>\n",
       "      <td>YRCW</td>\n",
       "      <td>YRC Worldwide, Inc.</td>\n",
       "      <td>False</td>\n",
       "      <td>2021-01-04</td>\n",
       "      <td>2021-02-05</td>\n",
       "      <td>2021-02-07</td>\n",
       "      <td>CS</td>\n",
       "      <td>1683182</td>\n",
       "      <td>BBG00C0L8K58</td>\n",
       "      <td></td>\n",
       "    </tr>\n",
       "  </tbody>\n",
       "</table>\n",
       "</div>"
      ],
      "text/plain": [
       "                   ID ticker  \\\n",
       "7439  XPOA-2021-01-04   XPOA   \n",
       "7454   YAC-2021-01-04    YAC   \n",
       "7475  YRCW-2021-01-04   YRCW   \n",
       "\n",
       "                                                   name  active  start_date  \\\n",
       "7439                                 DPCM Capital, Inc.   False  2021-01-04   \n",
       "7454  Yucaipa Acquisition Corporation Class A Ordina...   False  2021-01-04   \n",
       "7475                                YRC Worldwide, Inc.   False  2021-01-04   \n",
       "\n",
       "        end_date last_updated_utc type      cik composite_figi delisted_utc  \n",
       "7439  2022-08-05       2022-08-07   CS  1821742   BBG00XRTC019               \n",
       "7454  2021-12-14       2021-12-14   CS  1815302                              \n",
       "7475  2021-02-05       2021-02-07   CS  1683182   BBG00C0L8K58               "
      ]
     },
     "execution_count": 56,
     "metadata": {},
     "output_type": "execute_result"
    }
   ],
   "source": [
    "is_contained_in_sharadar = (polygon_tickers['ticker'].isin(sharadar_tickers.ticker) |  polygon_tickers['cik'].isin(sharadar_tickers.cik))\n",
    "print(f\"Total amount of stocks in v3: {len(polygon_tickers)}\")\n",
    "print(f\"Amount of missing stocks: {len(polygon_tickers[~is_contained_in_sharadar])}\")\n",
    "print(f\"Percentage of stocks that have fundamentals in tickers_v3: {(is_contained_in_sharadar.sum()/len(polygon_tickers)):.3f}\")\n",
    "\n",
    "polygon_tickers[~is_contained_in_sharadar].tail(3)"
   ]
  },
  {
   "cell_type": "markdown",
   "metadata": {},
   "source": [
    "Just under 3% of tickers in <code>tickers_v3</code> are not contained in Sharadar. That is acceptable. This number will be higher the further in time we go. This 3% should not make a significant difference in our trading systems. But we must still be aware of this just in case."
   ]
  },
  {
   "cell_type": "markdown",
   "metadata": {},
   "source": []
  }
 ],
 "metadata": {
  "kernelspec": {
   "display_name": "algotrading",
   "language": "python",
   "name": "python3"
  },
  "language_info": {
   "codemirror_mode": {
    "name": "ipython",
    "version": 3
   },
   "file_extension": ".py",
   "mimetype": "text/x-python",
   "name": "python",
   "nbconvert_exporter": "python",
   "pygments_lexer": "ipython3",
   "version": "3.11.4"
  },
  "orig_nbformat": 4
 },
 "nbformat": 4,
 "nbformat_minor": 2
}
