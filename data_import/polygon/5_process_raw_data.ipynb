{
 "cells": [
  {
   "cell_type": "markdown",
   "metadata": {},
   "source": [
    "# Processing raw data\n",
    "This section combines the raw data, the adjustments and cleaned bars to get processed 1-minute data. After processing we also detect the halts to create a <code>halted</code> flag. There are no gaps for processed data. All stocks that are active on a certain day have minute bars for every minute, from pre to post market, even if no trades took place. Empty bars are forward filled. Only for the first day, backwards filling may be done.\n",
    "\n",
    "The steps:\n",
    "1. The bars are cleaned first, because the cleaned data is derived from raw tick data.\n",
    "2. Then the cleaned bars are split and dividend adjusted. (Split adjustment is done first for bars and dividends, then the split-adjusted bars are dividend-adjusted using the split-adjusted dividends.)\n",
    "3. After this, the data is forward filled. If there are still NA values, the data is backward filled. Forward/backward filled bars are flagged by setting <code>tradeable</code> to False.\n",
    "4. Lastly, halts are detected to create the <code>halted</code> flag.\n",
    "5. The true start/end dates are determined for each stock.\n",
    "\n",
    "To make the loop more readable, we will first build the functions <code>split_adjust</code>, <code>dividend_adjust</code> and <code>detect_halts</code>."
   ]
  },
  {
   "cell_type": "code",
   "execution_count": 30,
   "metadata": {},
   "outputs": [],
   "source": [
    "from utils import get_tickers, get_market_hours\n",
    "from datetime import datetime, date, time\n",
    "import mplfinance as mpf\n",
    "import pandas as pd\n",
    "import numpy as np\n",
    "import os\n",
    "DATA_PATH = \"../../../data/polygon/\""
   ]
  },
  {
   "cell_type": "markdown",
   "metadata": {},
   "source": [
    "## Split adjustment example for BBD"
   ]
  },
  {
   "cell_type": "code",
   "execution_count": 31,
   "metadata": {},
   "outputs": [],
   "source": [
    "adjustments = pd.read_csv(DATA_PATH + f\"raw/adjustments/BBD.csv\", parse_dates=True, index_col=0)\n",
    "bars = pd.read_parquet(f\"{DATA_PATH}raw/m1/BBD-2019-01-01.parquet\")\n",
    "\n",
    "adjustments.index = pd.to_datetime(adjustments.index).date\n",
    "splits = adjustments[adjustments.type == \"SPLIT\"].copy()"
   ]
  },
  {
   "cell_type": "code",
   "execution_count": 32,
   "metadata": {},
   "outputs": [
    {
     "data": {
      "text/html": [
       "<div>\n",
       "<style scoped>\n",
       "    .dataframe tbody tr th:only-of-type {\n",
       "        vertical-align: middle;\n",
       "    }\n",
       "\n",
       "    .dataframe tbody tr th {\n",
       "        vertical-align: top;\n",
       "    }\n",
       "\n",
       "    .dataframe thead th {\n",
       "        text-align: right;\n",
       "    }\n",
       "</style>\n",
       "<table border=\"1\" class=\"dataframe\">\n",
       "  <thead>\n",
       "    <tr style=\"text-align: right;\">\n",
       "      <th></th>\n",
       "      <th>type</th>\n",
       "      <th>subtype</th>\n",
       "      <th>amount</th>\n",
       "    </tr>\n",
       "  </thead>\n",
       "  <tbody>\n",
       "    <tr>\n",
       "      <th>2019-04-01</th>\n",
       "      <td>SPLIT</td>\n",
       "      <td>N</td>\n",
       "      <td>0.833333</td>\n",
       "    </tr>\n",
       "    <tr>\n",
       "      <th>2020-04-14</th>\n",
       "      <td>SPLIT</td>\n",
       "      <td>N</td>\n",
       "      <td>0.909091</td>\n",
       "    </tr>\n",
       "    <tr>\n",
       "      <th>2021-04-19</th>\n",
       "      <td>SPLIT</td>\n",
       "      <td>N</td>\n",
       "      <td>0.909091</td>\n",
       "    </tr>\n",
       "    <tr>\n",
       "      <th>2022-04-19</th>\n",
       "      <td>SPLIT</td>\n",
       "      <td>N</td>\n",
       "      <td>0.909091</td>\n",
       "    </tr>\n",
       "  </tbody>\n",
       "</table>\n",
       "</div>"
      ],
      "text/plain": [
       "             type subtype    amount\n",
       "2019-04-01  SPLIT       N  0.833333\n",
       "2020-04-14  SPLIT       N  0.909091\n",
       "2021-04-19  SPLIT       N  0.909091\n",
       "2022-04-19  SPLIT       N  0.909091"
      ]
     },
     "execution_count": 32,
     "metadata": {},
     "output_type": "execute_result"
    }
   ],
   "source": [
    "splits"
   ]
  },
  {
   "cell_type": "code",
   "execution_count": 33,
   "metadata": {},
   "outputs": [
    {
     "data": {
      "text/html": [
       "<div>\n",
       "<style scoped>\n",
       "    .dataframe tbody tr th:only-of-type {\n",
       "        vertical-align: middle;\n",
       "    }\n",
       "\n",
       "    .dataframe tbody tr th {\n",
       "        vertical-align: top;\n",
       "    }\n",
       "\n",
       "    .dataframe thead th {\n",
       "        text-align: right;\n",
       "    }\n",
       "</style>\n",
       "<table border=\"1\" class=\"dataframe\">\n",
       "  <thead>\n",
       "    <tr style=\"text-align: right;\">\n",
       "      <th></th>\n",
       "      <th>cumulative_adjustment</th>\n",
       "    </tr>\n",
       "  </thead>\n",
       "  <tbody>\n",
       "    <tr>\n",
       "      <th>2019-04-01</th>\n",
       "      <td>0.626096</td>\n",
       "    </tr>\n",
       "    <tr>\n",
       "      <th>2020-04-14</th>\n",
       "      <td>0.751315</td>\n",
       "    </tr>\n",
       "    <tr>\n",
       "      <th>2021-04-19</th>\n",
       "      <td>0.826446</td>\n",
       "    </tr>\n",
       "    <tr>\n",
       "      <th>2022-04-19</th>\n",
       "      <td>0.909091</td>\n",
       "    </tr>\n",
       "  </tbody>\n",
       "</table>\n",
       "</div>"
      ],
      "text/plain": [
       "            cumulative_adjustment\n",
       "2019-04-01               0.626096\n",
       "2020-04-14               0.751315\n",
       "2021-04-19               0.826446\n",
       "2022-04-19               0.909091"
      ]
     },
     "execution_count": 33,
     "metadata": {},
     "output_type": "execute_result"
    }
   ],
   "source": [
    "trading_dates_ticker = np.unique(bars.index.date)\n",
    "\n",
    "# The original dates of 'split' are the dates of the split. But adjustments are for all dates before the split.\n",
    "splits['cumulative_adjustment'] = splits['amount'][::-1].cumprod()\n",
    "splits = splits.drop(columns=['type', 'subtype', 'amount'])\n",
    "splits"
   ]
  },
  {
   "cell_type": "code",
   "execution_count": 34,
   "metadata": {},
   "outputs": [],
   "source": [
    "splits.index = splits.index.to_series().apply(lambda date_ : max(d for d in trading_dates_ticker if d < date_)) # Shift dates 1 day back (the reason we cannot just use timedelta(days=1) is because that might not be a trading date.\n",
    "splits = splits.reindex(trading_dates_ticker) # Reindex using stock data \n",
    "splits.cumulative_adjustment = splits.cumulative_adjustment.fillna(method='bfill').fillna(value=1) # Backward fill and fill ones"
   ]
  },
  {
   "cell_type": "code",
   "execution_count": 35,
   "metadata": {},
   "outputs": [
    {
     "data": {
      "text/html": [
       "<div>\n",
       "<style scoped>\n",
       "    .dataframe tbody tr th:only-of-type {\n",
       "        vertical-align: middle;\n",
       "    }\n",
       "\n",
       "    .dataframe tbody tr th {\n",
       "        vertical-align: top;\n",
       "    }\n",
       "\n",
       "    .dataframe thead th {\n",
       "        text-align: right;\n",
       "    }\n",
       "</style>\n",
       "<table border=\"1\" class=\"dataframe\">\n",
       "  <thead>\n",
       "    <tr style=\"text-align: right;\">\n",
       "      <th></th>\n",
       "      <th>cumulative_adjustment</th>\n",
       "    </tr>\n",
       "  </thead>\n",
       "  <tbody>\n",
       "    <tr>\n",
       "      <th>2019-03-27</th>\n",
       "      <td>0.626096</td>\n",
       "    </tr>\n",
       "    <tr>\n",
       "      <th>2019-03-28</th>\n",
       "      <td>0.626096</td>\n",
       "    </tr>\n",
       "    <tr>\n",
       "      <th>2019-03-29</th>\n",
       "      <td>0.626096</td>\n",
       "    </tr>\n",
       "    <tr>\n",
       "      <th>2019-04-01</th>\n",
       "      <td>0.751315</td>\n",
       "    </tr>\n",
       "    <tr>\n",
       "      <th>2019-04-02</th>\n",
       "      <td>0.751315</td>\n",
       "    </tr>\n",
       "  </tbody>\n",
       "</table>\n",
       "</div>"
      ],
      "text/plain": [
       "            cumulative_adjustment\n",
       "2019-03-27               0.626096\n",
       "2019-03-28               0.626096\n",
       "2019-03-29               0.626096\n",
       "2019-04-01               0.751315\n",
       "2019-04-02               0.751315"
      ]
     },
     "execution_count": 35,
     "metadata": {},
     "output_type": "execute_result"
    }
   ],
   "source": [
    "splits[splits.index > date(2019, 3, 26)][:5]"
   ]
  },
  {
   "cell_type": "code",
   "execution_count": 36,
   "metadata": {},
   "outputs": [
    {
     "data": {
      "image/png": "[encoded data removed]",
      "text/plain": [
       "<Figure size 800x575 with 2 Axes>"
      ]
     },
     "metadata": {},
     "output_type": "display_data"
    }
   ],
   "source": [
    "daily = bars.resample('1D').agg({'open': 'first', \n",
    "                                 'high': 'max', \n",
    "                                 'low': 'min', \n",
    "                                 'close': 'last'})\n",
    "mpf.plot(daily, type='ohlc', show_nontrading=False, warn_too_much_data=1000000)"
   ]
  },
  {
   "cell_type": "code",
   "execution_count": 37,
   "metadata": {},
   "outputs": [],
   "source": [
    "bars['date'] = bars.index.date\n",
    "bars = bars.merge(splits, left_on='date', right_index=True, how='left')\n",
    "bars[['open', 'high', 'low', 'close']] = bars[['open', 'high', 'low', 'close']].multiply(bars[\"cumulative_adjustment\"], axis=\"index\")\n",
    "bars['volume'] = bars['volume'].divide(bars[\"cumulative_adjustment\"], axis=\"index\")"
   ]
  },
  {
   "cell_type": "code",
   "execution_count": 38,
   "metadata": {},
   "outputs": [
    {
     "data": {
      "image/png": "[encoded data removed]",
      "text/plain": [
       "<Figure size 800x575 with 2 Axes>"
      ]
     },
     "metadata": {},
     "output_type": "display_data"
    }
   ],
   "source": [
    "daily = bars.resample('1D').agg({'open': 'first', \n",
    "                                 'high': 'max', \n",
    "                                 'low': 'min', \n",
    "                                 'close': 'last'})\n",
    "mpf.plot(daily, type='ohlc', show_nontrading=False, warn_too_much_data=1000000)"
   ]
  },
  {
   "cell_type": "markdown",
   "metadata": {},
   "source": [
    "We also have to split-adjust the dividends, if there are splits."
   ]
  },
  {
   "cell_type": "code",
   "execution_count": 41,
   "metadata": {},
   "outputs": [
    {
     "data": {
      "text/html": [
       "<div>\n",
       "<style scoped>\n",
       "    .dataframe tbody tr th:only-of-type {\n",
       "        vertical-align: middle;\n",
       "    }\n",
       "\n",
       "    .dataframe tbody tr th {\n",
       "        vertical-align: top;\n",
       "    }\n",
       "\n",
       "    .dataframe thead th {\n",
       "        text-align: right;\n",
       "    }\n",
       "</style>\n",
       "<table border=\"1\" class=\"dataframe\">\n",
       "  <thead>\n",
       "    <tr style=\"text-align: right;\">\n",
       "      <th></th>\n",
       "      <th>type</th>\n",
       "      <th>subtype</th>\n",
       "      <th>amount</th>\n",
       "    </tr>\n",
       "  </thead>\n",
       "  <tbody>\n",
       "    <tr>\n",
       "      <th>2019-01-03</th>\n",
       "      <td>DIV</td>\n",
       "      <td>CD</td>\n",
       "      <td>0.003197</td>\n",
       "    </tr>\n",
       "    <tr>\n",
       "      <th>2019-02-04</th>\n",
       "      <td>DIV</td>\n",
       "      <td>CD</td>\n",
       "      <td>0.003156</td>\n",
       "    </tr>\n",
       "    <tr>\n",
       "      <th>2019-03-06</th>\n",
       "      <td>DIV</td>\n",
       "      <td>CD</td>\n",
       "      <td>0.003179</td>\n",
       "    </tr>\n",
       "  </tbody>\n",
       "</table>\n",
       "</div>"
      ],
      "text/plain": [
       "           type subtype    amount\n",
       "2019-01-03  DIV      CD  0.003197\n",
       "2019-02-04  DIV      CD  0.003156\n",
       "2019-03-06  DIV      CD  0.003179"
      ]
     },
     "execution_count": 41,
     "metadata": {},
     "output_type": "execute_result"
    }
   ],
   "source": [
    "dividends = adjustments[adjustments.type == \"DIV\"].copy()\n",
    "dividends.head(3)"
   ]
  },
  {
   "cell_type": "code",
   "execution_count": 42,
   "metadata": {},
   "outputs": [],
   "source": [
    "dividends['cum_div_date'] = dividends.index.to_series().apply(lambda date_ : max(d for d in trading_dates_ticker if d < date_)) # Shift dates 1 day back. We want the cum-dividend date, not ex-dividend.\n",
    "dividends.index.names = ['ex_div_date']\n",
    "dividends = dividends[['cum_div_date', 'amount']]\n",
    "dividends = dividends.merge(splits, left_on='cum_div_date', right_index=True, how='left')\n",
    "dividends['amount'] = dividends['amount'].multiply(dividends[\"cumulative_adjustment\"], axis=\"index\")\n",
    "dividends.drop(columns=['cumulative_adjustment'], inplace=True)"
   ]
  },
  {
   "cell_type": "code",
   "execution_count": 43,
   "metadata": {},
   "outputs": [
    {
     "data": {
      "text/html": [
       "<div>\n",
       "<style scoped>\n",
       "    .dataframe tbody tr th:only-of-type {\n",
       "        vertical-align: middle;\n",
       "    }\n",
       "\n",
       "    .dataframe tbody tr th {\n",
       "        vertical-align: top;\n",
       "    }\n",
       "\n",
       "    .dataframe thead th {\n",
       "        text-align: right;\n",
       "    }\n",
       "</style>\n",
       "<table border=\"1\" class=\"dataframe\">\n",
       "  <thead>\n",
       "    <tr style=\"text-align: right;\">\n",
       "      <th></th>\n",
       "      <th>cum_div_date</th>\n",
       "      <th>amount</th>\n",
       "    </tr>\n",
       "    <tr>\n",
       "      <th>ex_div_date</th>\n",
       "      <th></th>\n",
       "      <th></th>\n",
       "    </tr>\n",
       "  </thead>\n",
       "  <tbody>\n",
       "    <tr>\n",
       "      <th>2019-01-03</th>\n",
       "      <td>2019-01-02</td>\n",
       "      <td>0.002002</td>\n",
       "    </tr>\n",
       "    <tr>\n",
       "      <th>2019-02-04</th>\n",
       "      <td>2019-02-01</td>\n",
       "      <td>0.001976</td>\n",
       "    </tr>\n",
       "    <tr>\n",
       "      <th>2019-03-06</th>\n",
       "      <td>2019-03-05</td>\n",
       "      <td>0.001990</td>\n",
       "    </tr>\n",
       "  </tbody>\n",
       "</table>\n",
       "</div>"
      ],
      "text/plain": [
       "            cum_div_date    amount\n",
       "ex_div_date                       \n",
       "2019-01-03    2019-01-02  0.002002\n",
       "2019-02-04    2019-02-01  0.001976\n",
       "2019-03-06    2019-03-05  0.001990"
      ]
     },
     "execution_count": 43,
     "metadata": {},
     "output_type": "execute_result"
    }
   ],
   "source": [
    "dividends.head(3)"
   ]
  },
  {
   "cell_type": "markdown",
   "metadata": {},
   "source": [
    "Putting it all together in a function yields:"
   ]
  },
  {
   "cell_type": "code",
   "execution_count": 44,
   "metadata": {},
   "outputs": [],
   "source": [
    "def split_adjust(bars, ticker):\n",
    "    \"\"\"\n",
    "    Returns the split-adjusted bars AND dividends.\n",
    "    If there is no split-data, the original bars are returned.\n",
    "    If there is no dividend-data, None is returned. Else we return the split-adjusted dividends with a new column \"cum_div_date\".\n",
    "    \"\"\"\n",
    "\n",
    "    if os.path.isfile(DATA_PATH + f\"raw/adjustments/{ticker}.csv\"):\n",
    "        adjustments = pd.read_csv(DATA_PATH + f\"raw/adjustments/{ticker}.csv\", parse_dates=True, index_col=0)\n",
    "\n",
    "        adjustments.index = pd.to_datetime(adjustments.index).date\n",
    "\n",
    "\n",
    "        trading_dates_ticker = np.unique(bars.index.date)\n",
    "        # TO DO: make sure no dates in adjustments fall outside trading_dates_ticker\n",
    "        adjustments = adjustments[(adjustments.index > trading_dates_ticker[0]) & (adjustments.index <= trading_dates_ticker[-1])]\n",
    "\n",
    "        splits = adjustments[adjustments.type == \"SPLIT\"].copy()\n",
    "        dividends = adjustments[adjustments.type == \"DIV\"].copy()\n",
    "\n",
    "        # Adjust for splits\n",
    "        if not splits.empty:\n",
    "            splits['cumulative_adjustment'] = splits['amount'][::-1].cumprod()\n",
    "            splits = splits.drop(columns=['type', 'subtype', 'amount'])\n",
    "\n",
    "            \n",
    "            # In rare cases, the dividend data exists outside of the price data. This leads to a ValueError because the max() function receives nothing. Then we just need to skip.\n",
    "            try:\n",
    "                # The original dates of 'split' are the dates of the split. But adjustments are for all dates before the split.\n",
    "                splits.index = splits.index.to_series().apply(lambda date_ : max(d for d in trading_dates_ticker if d < date_)) # Shift dates 1 day back (the reason we cannot just use timedelta(days=1) is because that might not be a trading date.\n",
    "            except ValueError:\n",
    "                return bars, None\n",
    "            \n",
    "            splits = splits.reindex(trading_dates_ticker) # Reindex using stock data \n",
    "            splits.cumulative_adjustment = splits.cumulative_adjustment.fillna(method='bfill').fillna(value=1) # Backward fill and forward fill ones\n",
    "\n",
    "            # Merge adjustments with the bars and adjust\n",
    "            bars['date'] = bars.index.date\n",
    "            bars = bars.merge(splits, left_on='date', right_index=True, how='left')\n",
    "            bars[['open', 'high', 'low', 'close']] = bars[['open', 'high', 'low', 'close']].multiply(bars[\"cumulative_adjustment\"], axis=\"index\")\n",
    "            bars['volume'] = bars['volume'].divide(bars[\"cumulative_adjustment\"], axis=\"index\")\n",
    "\n",
    "            bars.drop(columns=['cumulative_adjustment', 'date'], inplace=True)\n",
    "        \n",
    "        # Adjust dividends for splits, if any\n",
    "        if not dividends.empty:\n",
    "            try:\n",
    "                dividends['cum_div_date'] = dividends.index.to_series().apply(lambda date_ : max(d for d in trading_dates_ticker if (d < date_)) ) # Shift dates 1 day back. We want the cum-dividend date, not ex-dividend.\n",
    "            except ValueError:\n",
    "                return bars, None\n",
    "            \n",
    "            if not splits.empty:\n",
    "                dividends = dividends.merge(splits, left_on='cum_div_date', right_index=True, how='left')\n",
    "                dividends['amount'] = dividends['amount'].multiply(dividends[\"cumulative_adjustment\"], axis=\"index\")\n",
    "\n",
    "            dividends = dividends[['amount', 'cum_div_date']]\n",
    "            dividends.index.names = ['ex_div_date']\n",
    "\n",
    "            return bars, dividends\n",
    "    \n",
    "    return bars, None"
   ]
  },
  {
   "cell_type": "code",
   "execution_count": 45,
   "metadata": {},
   "outputs": [],
   "source": [
    "bars = pd.read_parquet(f\"{DATA_PATH}raw/m1/BBD-2019-01-01.parquet\")\n",
    "split_adjusted_bars, split_adjusted_dividends = split_adjust(bars, \"BBD\")"
   ]
  },
  {
   "cell_type": "code",
   "execution_count": 46,
   "metadata": {},
   "outputs": [
    {
     "data": {
      "text/html": [
       "<div>\n",
       "<style scoped>\n",
       "    .dataframe tbody tr th:only-of-type {\n",
       "        vertical-align: middle;\n",
       "    }\n",
       "\n",
       "    .dataframe tbody tr th {\n",
       "        vertical-align: top;\n",
       "    }\n",
       "\n",
       "    .dataframe thead th {\n",
       "        text-align: right;\n",
       "    }\n",
       "</style>\n",
       "<table border=\"1\" class=\"dataframe\">\n",
       "  <thead>\n",
       "    <tr style=\"text-align: right;\">\n",
       "      <th></th>\n",
       "      <th>amount</th>\n",
       "      <th>cum_div_date</th>\n",
       "    </tr>\n",
       "    <tr>\n",
       "      <th>ex_div_date</th>\n",
       "      <th></th>\n",
       "      <th></th>\n",
       "    </tr>\n",
       "  </thead>\n",
       "  <tbody>\n",
       "    <tr>\n",
       "      <th>2019-01-03</th>\n",
       "      <td>0.002002</td>\n",
       "      <td>2019-01-02</td>\n",
       "    </tr>\n",
       "    <tr>\n",
       "      <th>2019-02-04</th>\n",
       "      <td>0.001976</td>\n",
       "      <td>2019-02-01</td>\n",
       "    </tr>\n",
       "    <tr>\n",
       "      <th>2019-03-06</th>\n",
       "      <td>0.001990</td>\n",
       "      <td>2019-03-05</td>\n",
       "    </tr>\n",
       "  </tbody>\n",
       "</table>\n",
       "</div>"
      ],
      "text/plain": [
       "               amount cum_div_date\n",
       "ex_div_date                       \n",
       "2019-01-03   0.002002   2019-01-02\n",
       "2019-02-04   0.001976   2019-02-01\n",
       "2019-03-06   0.001990   2019-03-05"
      ]
     },
     "execution_count": 46,
     "metadata": {},
     "output_type": "execute_result"
    }
   ],
   "source": [
    "split_adjusted_dividends.head(3)"
   ]
  },
  {
   "cell_type": "markdown",
   "metadata": {},
   "source": [
    "## Dividend adjustment example for BBD and BIL\n",
    "There is no single way to adjust for dividends. We use the [stockcharts](https://support.stockcharts.com/doku.php?id=policies:historical_price_data_is_adjusted_for_splits_dividends_and_distributions#:~:text=Dividend%20Adjustment%20Calculation%20Details%3A,then%20multiplied%20by%20this%20factor) or [Yahoo](https://help.yahoo.com/kb/SLN28256.html) method, which mimics dividend reinvesting at the close of cum-dividend date. If at cum-dividend the price is 60, and at ex-dividend is 50 after a 10/share dividend, then all prices from cum-dividend and before are adjusted by the factor *1 - (dividend/cumdividend close)*. So the adjusted cum-dividend close will be 50. \n",
    "\n",
    "Note: Even though the close (which can differ on early close days) is used to calculate the adjustment factor, the post-market prices also have to be adjusted. "
   ]
  },
  {
   "cell_type": "code",
   "execution_count": 47,
   "metadata": {},
   "outputs": [
    {
     "data": {
      "text/html": [
       "<div>\n",
       "<style scoped>\n",
       "    .dataframe tbody tr th:only-of-type {\n",
       "        vertical-align: middle;\n",
       "    }\n",
       "\n",
       "    .dataframe tbody tr th {\n",
       "        vertical-align: top;\n",
       "    }\n",
       "\n",
       "    .dataframe thead th {\n",
       "        text-align: right;\n",
       "    }\n",
       "</style>\n",
       "<table border=\"1\" class=\"dataframe\">\n",
       "  <thead>\n",
       "    <tr style=\"text-align: right;\">\n",
       "      <th></th>\n",
       "      <th>amount</th>\n",
       "      <th>cum_div_date</th>\n",
       "    </tr>\n",
       "    <tr>\n",
       "      <th>ex_div_date</th>\n",
       "      <th></th>\n",
       "      <th></th>\n",
       "    </tr>\n",
       "  </thead>\n",
       "  <tbody>\n",
       "    <tr>\n",
       "      <th>2019-01-03</th>\n",
       "      <td>0.002002</td>\n",
       "      <td>2019-01-02</td>\n",
       "    </tr>\n",
       "    <tr>\n",
       "      <th>2019-02-04</th>\n",
       "      <td>0.001976</td>\n",
       "      <td>2019-02-01</td>\n",
       "    </tr>\n",
       "    <tr>\n",
       "      <th>2019-03-06</th>\n",
       "      <td>0.001990</td>\n",
       "      <td>2019-03-05</td>\n",
       "    </tr>\n",
       "  </tbody>\n",
       "</table>\n",
       "</div>"
      ],
      "text/plain": [
       "               amount cum_div_date\n",
       "ex_div_date                       \n",
       "2019-01-03   0.002002   2019-01-02\n",
       "2019-02-04   0.001976   2019-02-01\n",
       "2019-03-06   0.001990   2019-03-05"
      ]
     },
     "execution_count": 47,
     "metadata": {},
     "output_type": "execute_result"
    }
   ],
   "source": [
    "split_adjusted_dividends.head(3)"
   ]
  },
  {
   "cell_type": "code",
   "execution_count": 48,
   "metadata": {},
   "outputs": [],
   "source": [
    "# We need to get the ex-dividend closing price. Most days this is on 16:00 ET. Some days have early closes.\n",
    "market_hours = get_market_hours()\n",
    "market_hours = market_hours[['regular_close']]"
   ]
  },
  {
   "cell_type": "code",
   "execution_count": 49,
   "metadata": {},
   "outputs": [],
   "source": [
    "split_adjusted_dividends['cum_div_time'] = market_hours.loc[split_adjusted_dividends.index, 'regular_close']\n",
    "split_adjusted_dividends['cum_div_datetime'] = pd.to_datetime(split_adjusted_dividends['cum_div_date'].astype(str) +' '+ split_adjusted_dividends['cum_div_time'].astype(str))\n",
    "\n",
    "# Sometimes the latest trade of the day is NOT the 15:59 bar exactly. So we need to get the latest available price at or before the close. If we don't do this, we will encounter bugs later.\n",
    "split_adjusted_dividends['cum_div_datetime'] = split_adjusted_dividends['cum_div_datetime'].apply(lambda datetime_ : (bars[bars.index <= datetime_].index).max())\n",
    "split_adjusted_dividends.set_index(split_adjusted_dividends['cum_div_datetime'], inplace=True)\n",
    "split_adjusted_dividends['cum_div_close'] = bars.loc[split_adjusted_dividends['cum_div_datetime'], 'close']"
   ]
  },
  {
   "cell_type": "code",
   "execution_count": 50,
   "metadata": {},
   "outputs": [
    {
     "data": {
      "text/html": [
       "<div>\n",
       "<style scoped>\n",
       "    .dataframe tbody tr th:only-of-type {\n",
       "        vertical-align: middle;\n",
       "    }\n",
       "\n",
       "    .dataframe tbody tr th {\n",
       "        vertical-align: top;\n",
       "    }\n",
       "\n",
       "    .dataframe thead th {\n",
       "        text-align: right;\n",
       "    }\n",
       "</style>\n",
       "<table border=\"1\" class=\"dataframe\">\n",
       "  <thead>\n",
       "    <tr style=\"text-align: right;\">\n",
       "      <th></th>\n",
       "      <th>amount</th>\n",
       "      <th>cum_div_date</th>\n",
       "      <th>cum_div_time</th>\n",
       "      <th>cum_div_datetime</th>\n",
       "      <th>cum_div_close</th>\n",
       "    </tr>\n",
       "    <tr>\n",
       "      <th>cum_div_datetime</th>\n",
       "      <th></th>\n",
       "      <th></th>\n",
       "      <th></th>\n",
       "      <th></th>\n",
       "      <th></th>\n",
       "    </tr>\n",
       "  </thead>\n",
       "  <tbody>\n",
       "    <tr>\n",
       "      <th>2019-01-02 15:59:00</th>\n",
       "      <td>0.002002</td>\n",
       "      <td>2019-01-02</td>\n",
       "      <td>15:59:00</td>\n",
       "      <td>2019-01-02 15:59:00</td>\n",
       "      <td>10.62</td>\n",
       "    </tr>\n",
       "    <tr>\n",
       "      <th>2019-02-01 15:59:00</th>\n",
       "      <td>0.001976</td>\n",
       "      <td>2019-02-01</td>\n",
       "      <td>15:59:00</td>\n",
       "      <td>2019-02-01 15:59:00</td>\n",
       "      <td>12.22</td>\n",
       "    </tr>\n",
       "    <tr>\n",
       "      <th>2019-03-05 15:59:00</th>\n",
       "      <td>0.001990</td>\n",
       "      <td>2019-03-05</td>\n",
       "      <td>15:59:00</td>\n",
       "      <td>2019-03-05 15:59:00</td>\n",
       "      <td>11.32</td>\n",
       "    </tr>\n",
       "  </tbody>\n",
       "</table>\n",
       "</div>"
      ],
      "text/plain": [
       "                       amount cum_div_date cum_div_time    cum_div_datetime  \\\n",
       "cum_div_datetime                                                              \n",
       "2019-01-02 15:59:00  0.002002   2019-01-02     15:59:00 2019-01-02 15:59:00   \n",
       "2019-02-01 15:59:00  0.001976   2019-02-01     15:59:00 2019-02-01 15:59:00   \n",
       "2019-03-05 15:59:00  0.001990   2019-03-05     15:59:00 2019-03-05 15:59:00   \n",
       "\n",
       "                     cum_div_close  \n",
       "cum_div_datetime                    \n",
       "2019-01-02 15:59:00          10.62  \n",
       "2019-02-01 15:59:00          12.22  \n",
       "2019-03-05 15:59:00          11.32  "
      ]
     },
     "execution_count": 50,
     "metadata": {},
     "output_type": "execute_result"
    }
   ],
   "source": [
    "split_adjusted_dividends.head(3)"
   ]
  },
  {
   "cell_type": "code",
   "execution_count": 51,
   "metadata": {},
   "outputs": [],
   "source": [
    "split_adjusted_dividends['adjustment'] = 1 - (split_adjusted_dividends['amount'] / split_adjusted_dividends['cum_div_close'])\n",
    "split_adjusted_dividends['cumulative_adjustment'] = split_adjusted_dividends['adjustment'][::-1].cumprod()"
   ]
  },
  {
   "cell_type": "code",
   "execution_count": 52,
   "metadata": {},
   "outputs": [
    {
     "data": {
      "text/html": [
       "<div>\n",
       "<style scoped>\n",
       "    .dataframe tbody tr th:only-of-type {\n",
       "        vertical-align: middle;\n",
       "    }\n",
       "\n",
       "    .dataframe tbody tr th {\n",
       "        vertical-align: top;\n",
       "    }\n",
       "\n",
       "    .dataframe thead th {\n",
       "        text-align: right;\n",
       "    }\n",
       "</style>\n",
       "<table border=\"1\" class=\"dataframe\">\n",
       "  <thead>\n",
       "    <tr style=\"text-align: right;\">\n",
       "      <th></th>\n",
       "      <th>amount</th>\n",
       "      <th>cum_div_date</th>\n",
       "      <th>cum_div_time</th>\n",
       "      <th>cum_div_datetime</th>\n",
       "      <th>cum_div_close</th>\n",
       "      <th>adjustment</th>\n",
       "      <th>cumulative_adjustment</th>\n",
       "    </tr>\n",
       "    <tr>\n",
       "      <th>cum_div_datetime</th>\n",
       "      <th></th>\n",
       "      <th></th>\n",
       "      <th></th>\n",
       "      <th></th>\n",
       "      <th></th>\n",
       "      <th></th>\n",
       "      <th></th>\n",
       "    </tr>\n",
       "  </thead>\n",
       "  <tbody>\n",
       "    <tr>\n",
       "      <th>2019-01-02 15:59:00</th>\n",
       "      <td>0.002002</td>\n",
       "      <td>2019-01-02</td>\n",
       "      <td>15:59:00</td>\n",
       "      <td>2019-01-02 15:59:00</td>\n",
       "      <td>10.62</td>\n",
       "      <td>0.999811</td>\n",
       "      <td>0.844330</td>\n",
       "    </tr>\n",
       "    <tr>\n",
       "      <th>2019-02-01 15:59:00</th>\n",
       "      <td>0.001976</td>\n",
       "      <td>2019-02-01</td>\n",
       "      <td>15:59:00</td>\n",
       "      <td>2019-02-01 15:59:00</td>\n",
       "      <td>12.22</td>\n",
       "      <td>0.999838</td>\n",
       "      <td>0.844489</td>\n",
       "    </tr>\n",
       "    <tr>\n",
       "      <th>2019-03-05 15:59:00</th>\n",
       "      <td>0.001990</td>\n",
       "      <td>2019-03-05</td>\n",
       "      <td>15:59:00</td>\n",
       "      <td>2019-03-05 15:59:00</td>\n",
       "      <td>11.32</td>\n",
       "      <td>0.999824</td>\n",
       "      <td>0.844626</td>\n",
       "    </tr>\n",
       "  </tbody>\n",
       "</table>\n",
       "</div>"
      ],
      "text/plain": [
       "                       amount cum_div_date cum_div_time    cum_div_datetime  \\\n",
       "cum_div_datetime                                                              \n",
       "2019-01-02 15:59:00  0.002002   2019-01-02     15:59:00 2019-01-02 15:59:00   \n",
       "2019-02-01 15:59:00  0.001976   2019-02-01     15:59:00 2019-02-01 15:59:00   \n",
       "2019-03-05 15:59:00  0.001990   2019-03-05     15:59:00 2019-03-05 15:59:00   \n",
       "\n",
       "                     cum_div_close  adjustment  cumulative_adjustment  \n",
       "cum_div_datetime                                                       \n",
       "2019-01-02 15:59:00          10.62    0.999811               0.844330  \n",
       "2019-02-01 15:59:00          12.22    0.999838               0.844489  \n",
       "2019-03-05 15:59:00          11.32    0.999824               0.844626  "
      ]
     },
     "execution_count": 52,
     "metadata": {},
     "output_type": "execute_result"
    }
   ],
   "source": [
    "split_adjusted_dividends.head(3)"
   ]
  },
  {
   "cell_type": "code",
   "execution_count": 53,
   "metadata": {},
   "outputs": [],
   "source": [
    "split_adjusted_dividends.set_index(split_adjusted_dividends['cum_div_date'], inplace=True, drop=True)\n",
    "dividend_adjustments = split_adjusted_dividends[['cumulative_adjustment']]\n",
    "\n",
    "# Get dividend adjustments for every trading day\n",
    "trading_dates_ticker = np.unique(bars.index.date)\n",
    "dividend_adjustments = dividend_adjustments.reindex(trading_dates_ticker) # Reindex using stock data \n",
    "dividend_adjustments['cumulative_adjustment'] = dividend_adjustments['cumulative_adjustment'].fillna(method='bfill').fillna(value=1) # Backward fill and fill ones"
   ]
  },
  {
   "cell_type": "code",
   "execution_count": 54,
   "metadata": {},
   "outputs": [
    {
     "data": {
      "text/html": [
       "<div>\n",
       "<style scoped>\n",
       "    .dataframe tbody tr th:only-of-type {\n",
       "        vertical-align: middle;\n",
       "    }\n",
       "\n",
       "    .dataframe tbody tr th {\n",
       "        vertical-align: top;\n",
       "    }\n",
       "\n",
       "    .dataframe thead th {\n",
       "        text-align: right;\n",
       "    }\n",
       "</style>\n",
       "<table border=\"1\" class=\"dataframe\">\n",
       "  <thead>\n",
       "    <tr style=\"text-align: right;\">\n",
       "      <th></th>\n",
       "      <th>cumulative_adjustment</th>\n",
       "    </tr>\n",
       "    <tr>\n",
       "      <th>cum_div_date</th>\n",
       "      <th></th>\n",
       "    </tr>\n",
       "  </thead>\n",
       "  <tbody>\n",
       "    <tr>\n",
       "      <th>2019-01-02</th>\n",
       "      <td>0.844330</td>\n",
       "    </tr>\n",
       "    <tr>\n",
       "      <th>2019-01-03</th>\n",
       "      <td>0.844489</td>\n",
       "    </tr>\n",
       "    <tr>\n",
       "      <th>2019-01-04</th>\n",
       "      <td>0.844489</td>\n",
       "    </tr>\n",
       "  </tbody>\n",
       "</table>\n",
       "</div>"
      ],
      "text/plain": [
       "              cumulative_adjustment\n",
       "cum_div_date                       \n",
       "2019-01-02                 0.844330\n",
       "2019-01-03                 0.844489\n",
       "2019-01-04                 0.844489"
      ]
     },
     "execution_count": 54,
     "metadata": {},
     "output_type": "execute_result"
    }
   ],
   "source": [
    "dividend_adjustments.head(3)"
   ]
  },
  {
   "cell_type": "code",
   "execution_count": 55,
   "metadata": {},
   "outputs": [],
   "source": [
    "# Same procedure as with split adjustments\n",
    "all_adjusted_bars = split_adjusted_bars.copy()\n",
    "all_adjusted_bars['date'] = all_adjusted_bars.index.date\n",
    "all_adjusted_bars = all_adjusted_bars.merge(dividend_adjustments, left_on='date', right_index=True, how='left')\n",
    "all_adjusted_bars[['open', 'high', 'low', 'close']] = all_adjusted_bars[['open', 'high', 'low', 'close']].multiply(all_adjusted_bars[\"cumulative_adjustment\"], axis=\"index\")\n",
    "all_adjusted_bars['volume'] = all_adjusted_bars['volume'].divide(all_adjusted_bars[\"cumulative_adjustment\"], axis=\"index\")\n",
    "\n",
    "all_adjusted_bars.drop(columns=['cumulative_adjustment', 'date'], inplace=True)\n",
    "\n",
    "# Round to 4 decimals\n",
    "all_adjusted_bars = round(all_adjusted_bars, 4)"
   ]
  },
  {
   "cell_type": "markdown",
   "metadata": {},
   "source": [
    "Putting it all in a function yields:"
   ]
  },
  {
   "cell_type": "code",
   "execution_count": 56,
   "metadata": {},
   "outputs": [],
   "source": [
    "def div_adjust(split_adjusted_bars, split_adjusted_dividends):\n",
    "    \"\"\"\n",
    "    Dividend-adjust the 1-minute bars.\n",
    "    \"\"\"\n",
    "    if split_adjusted_dividends is not None:\n",
    "        # We need to get the ex-dividend closing price. Most days this is on 16:00 ET. Some days have early closes.\n",
    "        market_hours = get_market_hours()\n",
    "        market_hours = market_hours[['regular_close']]\n",
    "\n",
    "        split_adjusted_dividends['cum_div_time'] = market_hours.loc[split_adjusted_dividends.index, 'regular_close']\n",
    "        split_adjusted_dividends['cum_div_datetime'] = pd.to_datetime(split_adjusted_dividends['cum_div_date'].astype(str) +' '+ split_adjusted_dividends['cum_div_time'].astype(str))\n",
    "\n",
    "        # Sometimes the latest trade of the day is NOT the 15:59 bar exactly. So we need to get the latest available price at or before the close. If we don't do this, we will encounter bugs later.\n",
    "        split_adjusted_dividends['cum_div_datetime'] = split_adjusted_dividends['cum_div_datetime'].apply(lambda datetime_ : (bars[bars.index <= datetime_].index).max())\n",
    "        # \n",
    "        split_adjusted_dividends.set_index(split_adjusted_dividends['cum_div_datetime'], inplace=True)\n",
    "        split_adjusted_dividends['cum_div_close'] = bars.loc[split_adjusted_dividends['cum_div_datetime'], 'close']\n",
    "\n",
    "        # Get adjustment factors\n",
    "        split_adjusted_dividends['adjustment'] = 1 - (split_adjusted_dividends['amount'] / split_adjusted_dividends['cum_div_close'])\n",
    "        split_adjusted_dividends['cumulative_adjustment'] = split_adjusted_dividends['adjustment'][::-1].cumprod()\n",
    "        split_adjusted_dividends.set_index(split_adjusted_dividends['cum_div_date'], inplace=True, drop=True)\n",
    "        dividend_adjustments = split_adjusted_dividends[['cumulative_adjustment']]\n",
    "\n",
    "        # Get dividend adjustments for every trading day\n",
    "        trading_dates_ticker = np.unique(bars.index.date)\n",
    "        dividend_adjustments = dividend_adjustments.reindex(trading_dates_ticker) # Reindex using stock data \n",
    "        dividend_adjustments['cumulative_adjustment'] = dividend_adjustments['cumulative_adjustment'].fillna(method='bfill').fillna(value=1) # Backward fill and fill ones\n",
    "\n",
    "        # Adjust for dividends\n",
    "        all_adjusted_bars = split_adjusted_bars.copy()\n",
    "        all_adjusted_bars['date'] = all_adjusted_bars.index.date\n",
    "        all_adjusted_bars = all_adjusted_bars.merge(dividend_adjustments, left_on='date', right_index=True, how='left')\n",
    "        all_adjusted_bars[['open', 'high', 'low', 'close']] = all_adjusted_bars[['open', 'high', 'low', 'close']].multiply(all_adjusted_bars[\"cumulative_adjustment\"], axis=\"index\")\n",
    "        all_adjusted_bars['volume'] = all_adjusted_bars['volume'].divide(all_adjusted_bars[\"cumulative_adjustment\"], axis=\"index\")\n",
    "\n",
    "        all_adjusted_bars.drop(columns=['cumulative_adjustment', 'date'], inplace=True)\n",
    "\n",
    "        # Round to 4 decimals\n",
    "        return round(all_adjusted_bars, 4)\n",
    "    return split_adjusted_bars"
   ]
  },
  {
   "cell_type": "markdown",
   "metadata": {},
   "source": [
    "Testing it on the BIL ETF:"
   ]
  },
  {
   "cell_type": "code",
   "execution_count": 57,
   "metadata": {},
   "outputs": [],
   "source": [
    "bars = pd.read_parquet(f\"{DATA_PATH}raw/m1/BIL-2019-01-01.parquet\")\n",
    "split_adjusted_bars, split_adjusted_dividends = split_adjust(bars, \"BIL\")"
   ]
  },
  {
   "cell_type": "code",
   "execution_count": 58,
   "metadata": {},
   "outputs": [
    {
     "data": {
      "image/png": "[encoded data removed]",
      "text/plain": [
       "<Figure size 800x575 with 2 Axes>"
      ]
     },
     "metadata": {},
     "output_type": "display_data"
    }
   ],
   "source": [
    "daily = bars.resample('1D').agg({'open': 'first', \n",
    "                                 'high': 'max', \n",
    "                                 'low': 'min', \n",
    "                                 'close': 'last'})\n",
    "daily.dropna(inplace=True)\n",
    "mpf.plot(daily, type='ohlc', show_nontrading=False, warn_too_much_data=1000000)"
   ]
  },
  {
   "cell_type": "code",
   "execution_count": 59,
   "metadata": {},
   "outputs": [],
   "source": [
    "all_adjusted = div_adjust(bars, split_adjusted_dividends)"
   ]
  },
  {
   "cell_type": "code",
   "execution_count": 60,
   "metadata": {},
   "outputs": [
    {
     "data": {
      "image/png": "[encoded data removed]",
      "text/plain": [
       "<Figure size 800x575 with 2 Axes>"
      ]
     },
     "metadata": {},
     "output_type": "display_data"
    }
   ],
   "source": [
    "daily = all_adjusted.resample('1D').agg({'open': 'first', \n",
    "                                 'high': 'max', \n",
    "                                 'low': 'min', \n",
    "                                 'close': 'last'})\n",
    "daily.dropna(inplace=True)\n",
    "mpf.plot(daily, type='ohlc', show_nontrading=False, warn_too_much_data=1000000)"
   ]
  },
  {
   "cell_type": "markdown",
   "metadata": {},
   "source": [
    "# Reindexing and filling in empty values"
   ]
  },
  {
   "cell_type": "markdown",
   "metadata": {},
   "source": [
    "When reindexing we need to get a list of all minutes. Since we will also have to do this in the backtester (which loops over the minutes), we will store it and create a function to retrieve it."
   ]
  },
  {
   "cell_type": "code",
   "execution_count": 61,
   "metadata": {},
   "outputs": [],
   "source": [
    "market_hours = get_market_hours()\n",
    "\n",
    "# Get all minutes from trading days\n",
    "trading_datetimes = pd.date_range(start=market_hours.index[0], end=market_hours.index[-1], freq='min', name='datetime')\n",
    "\n",
    "# Get early closes\n",
    "early_closes = market_hours[market_hours['postmarket_close'] != time(19, 59)]\n",
    "\n",
    "# Filter to all trading minutes in trading days\n",
    "trading_datetimes = trading_datetimes[(trading_datetimes.time >= time(4)) & (trading_datetimes.time <= time(19, 59))] \n",
    "\n",
    "# Remove the minutes in early closes\n",
    "for date_, early_close in early_closes.iterrows():\n",
    "    postmarket_close = early_close['postmarket_close']\n",
    "    trading_datetimes = trading_datetimes[~((trading_datetimes > datetime.combine(date_, early_close['postmarket_close'])) & (trading_datetimes <= datetime.combine(date_, time(19, 59)) ) )] \n",
    "\n",
    "trading_datetimes.to_series().to_csv(DATA_PATH + '../other/trading_minutes.csv', index=False)"
   ]
  },
  {
   "cell_type": "code",
   "execution_count": 62,
   "metadata": {},
   "outputs": [],
   "source": [
    "from functools import lru_cache\n",
    "\n",
    "# This decorator ensures that when we call a function multiple times with the same arguments, the output is stored.\n",
    "# This is useful is executing the function is expensive (2-3 seconds) and gets called multiple times (for each ticker)\n",
    "@lru_cache\n",
    "def get_market_minutes():\n",
    "    trading_datetimes = pd.read_csv(DATA_PATH + '../other/trading_minutes.csv')\n",
    "    return pd.to_datetime(trading_datetimes['datetime'])"
   ]
  },
  {
   "cell_type": "code",
   "execution_count": 63,
   "metadata": {},
   "outputs": [],
   "source": [
    "def reindex_and_fill(bars):\n",
    "    # Get the days the ticker is trading\n",
    "    ticker_days = np.unique(bars.index.date)\n",
    "    market_datetimes = get_market_minutes()\n",
    "    ticker_datetimes = market_datetimes[(market_datetimes.dt.date >= ticker_days[0]) & (market_datetimes.dt.date <= ticker_days[-1])]\n",
    "\n",
    "    # Reindex\n",
    "    bars = bars.reindex(ticker_datetimes)\n",
    "\n",
    "    # Fill NA values\n",
    "    bars['tradeable'] = ~bars['volume'].isna()\n",
    "    bars['volume'] = bars['volume'].fillna(value=0) \n",
    "\n",
    "    bars[\"close\"] = bars[\"close\"].fillna(method=\"ffill\")\n",
    "    bars[\"open\"] = bars[\"open\"].fillna(bars[\"close\"])\n",
    "    bars[\"low\"] = bars[\"low\"].fillna(bars[\"close\"])\n",
    "    bars[\"high\"] = bars[\"high\"].fillna(bars[\"close\"])\n",
    "\n",
    "    # Only affects the very start. Else backfill shouldn't be used because of look-ahead bias.\n",
    "    bars[\"open\"] = bars[\"open\"].fillna(method=\"bfill\")\n",
    "    bars[\"close\"] = bars[\"close\"].fillna(bars[\"open\"])\n",
    "    bars[\"low\"] = bars[\"low\"].fillna(bars[\"open\"])\n",
    "    bars[\"high\"] = bars[\"high\"].fillna(bars[\"open\"])\n",
    "    \n",
    "    return bars"
   ]
  },
  {
   "cell_type": "code",
   "execution_count": 64,
   "metadata": {},
   "outputs": [],
   "source": [
    "bars = pd.read_parquet(f\"{DATA_PATH}raw/m1/BIL-2019-01-01.parquet\")\n",
    "bars = reindex_and_fill(bars)"
   ]
  },
  {
   "cell_type": "code",
   "execution_count": 66,
   "metadata": {},
   "outputs": [
    {
     "data": {
      "text/html": [
       "<div>\n",
       "<style scoped>\n",
       "    .dataframe tbody tr th:only-of-type {\n",
       "        vertical-align: middle;\n",
       "    }\n",
       "\n",
       "    .dataframe tbody tr th {\n",
       "        vertical-align: top;\n",
       "    }\n",
       "\n",
       "    .dataframe thead th {\n",
       "        text-align: right;\n",
       "    }\n",
       "</style>\n",
       "<table border=\"1\" class=\"dataframe\">\n",
       "  <thead>\n",
       "    <tr style=\"text-align: right;\">\n",
       "      <th></th>\n",
       "      <th>open</th>\n",
       "      <th>high</th>\n",
       "      <th>low</th>\n",
       "      <th>close</th>\n",
       "      <th>volume</th>\n",
       "      <th>tradeable</th>\n",
       "    </tr>\n",
       "    <tr>\n",
       "      <th>datetime</th>\n",
       "      <th></th>\n",
       "      <th></th>\n",
       "      <th></th>\n",
       "      <th></th>\n",
       "      <th></th>\n",
       "      <th></th>\n",
       "    </tr>\n",
       "  </thead>\n",
       "  <tbody>\n",
       "    <tr>\n",
       "      <th>2023-08-31 19:57:00</th>\n",
       "      <td>91.83</td>\n",
       "      <td>91.83</td>\n",
       "      <td>91.83</td>\n",
       "      <td>91.83</td>\n",
       "      <td>0.0</td>\n",
       "      <td>False</td>\n",
       "    </tr>\n",
       "    <tr>\n",
       "      <th>2023-08-31 19:58:00</th>\n",
       "      <td>91.83</td>\n",
       "      <td>91.83</td>\n",
       "      <td>91.83</td>\n",
       "      <td>91.83</td>\n",
       "      <td>0.0</td>\n",
       "      <td>False</td>\n",
       "    </tr>\n",
       "    <tr>\n",
       "      <th>2023-08-31 19:59:00</th>\n",
       "      <td>91.83</td>\n",
       "      <td>91.83</td>\n",
       "      <td>91.83</td>\n",
       "      <td>91.83</td>\n",
       "      <td>5098.0</td>\n",
       "      <td>True</td>\n",
       "    </tr>\n",
       "  </tbody>\n",
       "</table>\n",
       "</div>"
      ],
      "text/plain": [
       "                      open   high    low  close  volume  tradeable\n",
       "datetime                                                          \n",
       "2023-08-31 19:57:00  91.83  91.83  91.83  91.83     0.0      False\n",
       "2023-08-31 19:58:00  91.83  91.83  91.83  91.83     0.0      False\n",
       "2023-08-31 19:59:00  91.83  91.83  91.83  91.83  5098.0       True"
      ]
     },
     "execution_count": 66,
     "metadata": {},
     "output_type": "execute_result"
    }
   ],
   "source": [
    "bars.tail(3)"
   ]
  },
  {
   "cell_type": "markdown",
   "metadata": {},
   "source": [
    "# Putting it all in a loop\n",
    "This takes quite some time to run. I have already tried to speed it up. It now already runs 2x faster than the original code due to the implementation of the <code>get_market_minutes()</code> function."
   ]
  },
  {
   "cell_type": "code",
   "execution_count": null,
   "metadata": {},
   "outputs": [],
   "source": [
    "all_files = os.listdir(f'{DATA_PATH}raw/m1/')\n",
    "for index, file in enumerate(all_files):\n",
    "    ticker = file[:-19] # Remove date and parquet extension\n",
    "\n",
    "    bars = pd.read_parquet(f\"{DATA_PATH}raw/m1/{file}\")\n",
    "    \n",
    "    # CLEANING\n",
    "    # I do not have tick data yet. However this is how you would do it if you got a csv of the cleaned bars only.\n",
    "    # if os.path.isfile(DATA_PATH + f\"raw/cleaned/{ticker}.csv\"):\n",
    "    #     clean_bars = pd.read_csv(DATA_PATH + f\"raw/cleaned/{ticker}.csv\", parse_dates=True, index_col=0)\n",
    "    #     bars.update(clean_bars)\n",
    "\n",
    "    # ADJUSTING\n",
    "    split_adjusted_bars, split_adjusted_dividends = split_adjust(bars, ticker)\n",
    "    all_adjusted = div_adjust(split_adjusted_bars, split_adjusted_dividends)\n",
    "\n",
    "    # FORWARD FILLING\n",
    "    all_adjusted = reindex_and_fill(all_adjusted)\n",
    "    \n",
    "    # HALT DETECTION\n",
    "    # TO BE IMPLEMENTED\n",
    "    \n",
    "    all_adjusted.to_parquet(DATA_PATH + f\"processed/m1/{file}\", engine=\"pyarrow\")\n",
    "    \n",
    "    print(ticker)\n"
   ]
  },
  {
   "cell_type": "markdown",
   "metadata": {},
   "source": [
    "# Updating the ticker list\n",
    "Now that we have the data, we can add two columns <code>start_date_data</code> and <code>end_date_data</code>."
   ]
  },
  {
   "cell_type": "code",
   "execution_count": null,
   "metadata": {},
   "outputs": [],
   "source": [
    "# Create 2 empty columns\n",
    "# Loop through tickers\n",
    "# Get first and last row of parquet file"
   ]
  }
 ],
 "metadata": {
  "kernelspec": {
   "display_name": "algotrading",
   "language": "python",
   "name": "python3"
  },
  "language_info": {
   "codemirror_mode": {
    "name": "ipython",
    "version": 3
   },
   "file_extension": ".py",
   "mimetype": "text/x-python",
   "name": "python",
   "nbconvert_exporter": "python",
   "pygments_lexer": "ipython3",
   "version": "3.11.4"
  }
 },
 "nbformat": 4,
 "nbformat_minor": 2
}
