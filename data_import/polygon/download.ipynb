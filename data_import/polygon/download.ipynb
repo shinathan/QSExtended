{
 "cells": [
  {
   "cell_type": "markdown",
   "metadata": {},
   "source": [
    "# Polygon 1-minute download\n",
    "With the Alpaca notebooks I tried to convert tick quote data to quotes and then merge them with bars. I have decided to not use quote data anymore. It is simply too expensive, cumbersome or simply impossible. I would have to download ALL tick data in order to get quotebars. Instead, I will just trade using OHLC and assume a spread of a few cents. This is not a problem, because I simply will not trade systems with an average profit less than 0.3% for stocks or less than 0.1% for futures. The spread will be lower.\n",
    "\n",
    "My data pipeline will look like this:\n",
    "1. Download all raw 1-minute data for all stocks for all dates and store them in the <code>../data/polygon/raw/m1/\\<stock\\>.csv</code>.\n",
    "2. Download adjustment factors (split and dividend dates) to <code>../data/polygon/raw/adjustments/\\<stock\\>.csv</code>.\n",
    "3. Download fundamental data to <code>../data/polygon/raw/fundamentals/\\<stock\\>.csv</code>.\n",
    "4. Download descriptive data to <code>../data/polygon/raw/descriptive.csv</code>. This is a single file containing all stocks."
   ]
  },
  {
   "cell_type": "code",
   "execution_count": null,
   "metadata": {},
   "outputs": [],
   "source": []
  }
 ],
 "metadata": {
  "language_info": {
   "name": "python"
  },
  "orig_nbformat": 4
 },
 "nbformat": 4,
 "nbformat_minor": 2
}
